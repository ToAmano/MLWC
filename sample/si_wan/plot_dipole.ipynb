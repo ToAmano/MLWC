{
 "cells": [
  {
   "cell_type": "markdown",
   "metadata": {},
   "source": [
    "# Si結晶のトラジェクトリを使った双極子モーメントの計算 (v 0.0.1)\n",
    "\n",
    "インプットファイル(input/)\n",
    " - input/si_wan_traj.xyz :: Si結晶のトラジェクトリ\n",
    " - input/si.wfc          :: Si結晶のwfcファイル\n",
    "\n",
    "\n",
    "custom_trajクラス :: ase.atomsのリストにいくつかの簡単なメソッドを追加した自作クラス\n",
    " - save(prefix)             :: extxyz形式でファイルを保存する．ファイル名はprefix+\"_refine.xyz\"となる．\n",
    " - nglview_traj()     :: nglviewでの描画を可能にする．viewを返す．\n",
    "\n"
   ]
  },
  {
   "cell_type": "code",
   "execution_count": 1,
   "metadata": {},
   "outputs": [
    {
     "data": {
      "application/vnd.jupyter.widget-view+json": {
       "model_id": "3f17022c93cc40abbccc87f2d5d8e847",
       "version_major": 2,
       "version_minor": 0
      },
      "text/plain": []
     },
     "metadata": {},
     "output_type": "display_data"
    }
   ],
   "source": [
    "# cpmdモジュールをロード\n",
    "\n",
    "%load_ext autoreload\n",
    "%autoreload 2\n",
    "import cpmd\n",
    "\n",
    "import ase.io\n",
    "import numpy as np\n",
    "import nglview as nv\n",
    "from ase.io.trajectory import Trajectory\n",
    "import cpmd.read_traj"
   ]
  },
  {
   "cell_type": "code",
   "execution_count": 2,
   "metadata": {},
   "outputs": [],
   "source": [
    "# cpmdモジュールのリロード\n",
    "%reload_ext autoreload"
   ]
  },
  {
   "cell_type": "code",
   "execution_count": 20,
   "metadata": {},
   "outputs": [
    {
     "name": "stdout",
     "output_type": "stream",
     "text": [
      "[[11.2617  0.      0.    ]\n",
      " [ 0.     11.2617  0.    ]\n",
      " [ 0.      0.     11.2617]]\n"
     ]
    }
   ],
   "source": [
    "# シリコン原子のトラジェクトリ(cppp.xのoutput)を読み込む．\n",
    "si_traj = cpmd.ReadPOS(\"input/si_wan_traj.xyz\")\n",
    "# 保存する場合はsaveメソッドを利用する．ファイル名はinputfilename+_refine.xyzとなる．\n",
    "si_traj.save()\n",
    "\n",
    "# WFcのトラジェクトリ(*.wfc)を読み込む\n",
    "wan_traj=cpmd.ReadWFC(\"input/si.wfc\",xyzfilename=\"input/si_wan_traj.xyz\")\n",
    "\n",
    "# 格子定数を出力する．（単位はAngstrom）\n",
    "print(wan_traj.UNITCELL_VECTOR)"
   ]
  },
  {
   "cell_type": "code",
   "execution_count": 19,
   "metadata": {},
   "outputs": [
    {
     "data": {
      "text/plain": [
       "0"
      ]
     },
     "execution_count": 19,
     "metadata": {},
     "output_type": "execute_result"
    }
   ],
   "source": [
    "# WFcとシリコン原子のトラジェクトリを合体させる．\n",
    "merge_traj=wan_traj.merge_wfc_xyz(si_traj.ATOMS_LIST)\n",
    "\n",
    "# 保存する場合はsaveメソッドを利用する．ファイル名はprefix+_refine.xyzとなる．\n",
    "merge_traj.save(\"si_wan_merged\")"
   ]
  },
  {
   "cell_type": "code",
   "execution_count": 15,
   "metadata": {},
   "outputs": [
    {
     "data": {
      "application/vnd.jupyter.widget-view+json": {
       "model_id": "9457238b35914688b55d2eb27a2c8fd9",
       "version_major": 2,
       "version_minor": 0
      },
      "text/plain": [
       "NGLWidget(max_frame=499)"
      ]
     },
     "metadata": {},
     "output_type": "display_data"
    }
   ],
   "source": [
    "# トラジェクトリを表示\n",
    "view = merge_traj.nglview_traj()\n",
    "view"
   ]
  },
  {
   "cell_type": "code",
   "execution_count": 22,
   "metadata": {},
   "outputs": [],
   "source": [
    "# 電荷を計算\n",
    "charges=cpmd.get_charges(merge_traj.ATOMS_LIST)\n",
    "\n",
    "# 電荷をトラジェクトリに追加\n",
    "atoms_with_charge=cpmd.add_charges(merge_traj.ATOMS_LIST, charges)\n",
    "\n",
    "# 双極子モーメントを計算\n",
    "dipole_array=cpmd.calc_dipoles(atoms_with_charge)"
   ]
  },
  {
   "cell_type": "code",
   "execution_count": 29,
   "metadata": {},
   "outputs": [
    {
     "data": {
      "text/plain": [
       "<matplotlib.legend.Legend at 0x17a8fdb50>"
      ]
     },
     "execution_count": 29,
     "metadata": {},
     "output_type": "execute_result"
    },
    {
     "data": {
      "image/png": "[encoded data removed]",
      "text/plain": [
       "<Figure size 432x288 with 1 Axes>"
      ]
     },
     "metadata": {
      "needs_background": "light"
     },
     "output_type": "display_data"
    }
   ],
   "source": [
    "import matplotlib.pyplot as plt\n",
    "import numpy as np\n",
    "dipole_array=np.array(dipole_array)\n",
    "\n",
    "x=np.arange(len(dipole_array))\n",
    "\n",
    "plt.plot(x,dipole_array[:,0]-dipole_array[0,0],label=\"Dipole[x]\")\n",
    "plt.plot(x,dipole_array[:,1]-dipole_array[0,1],label=\"Dipole[y]\")\n",
    "plt.plot(x,dipole_array[:,2]-dipole_array[0,2],label=\"Dipole[z]\")\n",
    "\n",
    "plt.xlabel(\"timestep\")\n",
    "plt.ylabel(\"Dipole [D]\")\n",
    "plt.legend()"
   ]
  },
  {
   "cell_type": "code",
   "execution_count": null,
   "metadata": {},
   "outputs": [],
   "source": []
  },
  {
   "cell_type": "code",
   "execution_count": null,
   "metadata": {},
   "outputs": [],
   "source": []
  },
  {
   "cell_type": "code",
   "execution_count": null,
   "metadata": {},
   "outputs": [],
   "source": []
  }
 ],
 "metadata": {
  "kernelspec": {
   "display_name": "Python 3.10.5 ('aiida')",
   "language": "python",
   "name": "python3"
  },
  "language_info": {
   "codemirror_mode": {
    "name": "ipython",
    "version": 3
   },
   "file_extension": ".py",
   "mimetype": "text/x-python",
   "name": "python",
   "nbconvert_exporter": "python",
   "pygments_lexer": "ipython3",
   "version": "3.10.5"
  },
  "orig_nbformat": 4,
  "vscode": {
   "interpreter": {
    "hash": "3d188ad2cd356ed504fdd6ea02ecb215006a2f34c3e0b1679d43ca3fb32dec55"
   }
  }
 },
 "nbformat": 4,
 "nbformat_minor": 2
}
