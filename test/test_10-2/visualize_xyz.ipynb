{
 "cells": [
  {
   "cell_type": "code",
   "execution_count": 21,
   "metadata": {},
   "outputs": [
    {
     "data": {
      "application/vnd.jupyter.widget-view+json": {
       "model_id": "4bf01a2bc348448abbda36c496f32e9f",
       "version_major": 2,
       "version_minor": 0
      },
      "text/plain": [
       "NGLWidget()"
      ]
     },
     "metadata": {},
     "output_type": "display_data"
    },
    {
     "data": {
      "application/vnd.jupyter.widget-view+json": {
       "model_id": "f41e93db1042401da9edaf7a557ef876",
       "version_major": 2,
       "version_minor": 0
      },
      "text/plain": [
       "Tab(children=(Box(children=(Box(children=(Box(children=(Label(value='step'), IntSlider(value=1, min=-100)), la…"
      ]
     },
     "metadata": {},
     "output_type": "display_data"
    }
   ],
   "source": [
    "#構造可視化\n",
    "import ase.io\n",
    "aseatoms = ase.io.read(\"bulk_test2/mol_BC.xyz\")\n",
    "\n",
    "import nglview as nv\n",
    "import ase.io\n",
    "import copy \n",
    "\n",
    "i=20 # 1分子に25個\n",
    "w = nv.show_ase(aseatoms,gui=True)\n",
    "w.clear_representations()\n",
    "w.add_label(radius=0.2,color=\"black\",label_type=\"atom\")\n",
    "w.add_ball_and_stick(\"_He\",color=\"green\",radius=0.004,aspectRatio=50)\n",
    "w.add_ball_and_stick(\"_Ne\",color=\"cyan\",radius=0.004,aspectRatio=50)\n",
    "w.add_ball_and_stick(\"_Ar\",color=\"green\",radius=0.004,aspectRatio=50)\n",
    "#w.add_ball_and_stick(\"_Li\",color=\"cyan\",radius=0.1)\n",
    "#w.add_ball_and_stick(\"_Be\",color=\"blue\",radius=0.1)\n",
    "w.add_ball_and_stick(\"_H\")\n",
    "w.add_ball_and_stick(\"_C\")\n",
    "w.add_ball_and_stick(\"_O\")\n",
    "w.add_ball_and_stick(\"_N\")\n",
    "\n",
    "#w.clear_representations()\n",
    "#w.add_label(radius=1,color=\"black\",label_type=\"atom\")\n",
    "#view.add_representation(\"ball+stick\")\n",
    "#w.add_representation(\"ball+stick\",selection=[i for i in range(0,n_atoms)],opacity=1.0)\n",
    "#w.add_representation(\"ball+stick\",selection=[i for i in range(n_atoms,total_atoms)],opacity=1,aspectRatio=2)\n",
    "w.add_unitcell()\n",
    "w.update_unitcell()\n",
    "w"
   ]
  },
  {
   "cell_type": "code",
   "execution_count": 3,
   "metadata": {},
   "outputs": [
    {
     "data": {
      "application/vnd.jupyter.widget-view+json": {
       "model_id": "55fdc2b09e4b41848a26acca3e871114",
       "version_major": 2,
       "version_minor": 0
      },
      "text/plain": [
       "NGLWidget()"
      ]
     },
     "metadata": {},
     "output_type": "display_data"
    },
    {
     "data": {
      "application/vnd.jupyter.widget-view+json": {
       "model_id": "0952d08102c54299a5fd0a60dc32dc48",
       "version_major": 2,
       "version_minor": 0
      },
      "text/plain": [
       "Tab(children=(Box(children=(Box(children=(Box(children=(Label(value='step'), IntSlider(value=1, min=-100)), la…"
      ]
     },
     "metadata": {},
     "output_type": "display_data"
    }
   ],
   "source": [
    "#構造可視化\n",
    "import ase.io\n",
    "aseatoms = ase.io.read(\"PG_60mol.xyz\")\n",
    "\n",
    "import nglview as nv\n",
    "import ase.io\n",
    "import copy \n",
    "\n",
    "w = nv.show_ase(aseatoms,gui=True)\n",
    "w.clear_representations()\n",
    "w.add_label(radius=0.2,color=\"black\",label_type=\"atom\")\n",
    "w.add_ball_and_stick(\"_He\",color=\"green\",radius=0.004,aspectRatio=50)\n",
    "w.add_ball_and_stick(\"_Ne\",color=\"cyan\",radius=0.004,aspectRatio=50)\n",
    "w.add_ball_and_stick(\"_Ar\",color=\"green\",radius=0.004,aspectRatio=50)\n",
    "#w.add_ball_and_stick(\"_Li\",color=\"cyan\",radius=0.1)\n",
    "#w.add_ball_and_stick(\"_Be\",color=\"blue\",radius=0.1)\n",
    "w.add_ball_and_stick(\"_H\")\n",
    "w.add_ball_and_stick(\"_C\")\n",
    "w.add_ball_and_stick(\"_O\")\n",
    "w.add_ball_and_stick(\"_N\")\n",
    "\n",
    "#w.clear_representations()\n",
    "#w.add_label(radius=1,color=\"black\",label_type=\"atom\")\n",
    "#view.add_representation(\"ball+stick\")\n",
    "#w.add_representation(\"ball+stick\",selection=[i for i in range(0,n_atoms)],opacity=1.0)\n",
    "#w.add_representation(\"ball+stick\",selection=[i for i in range(n_atoms,total_atoms)],opacity=1,aspectRatio=2)\n",
    "w.add_unitcell()\n",
    "w.update_unitcell()\n",
    "w"
   ]
  },
  {
   "cell_type": "code",
   "execution_count": 18,
   "metadata": {},
   "outputs": [],
   "source": [
    "import numpy as np\n",
    "\n",
    "desc_ch=np.loadtxt(\"bulk_test2/Descs_ch_0.csv\", delimiter=\",\")\n",
    "desc_co=np.loadtxt(\"bulk_test2/Descs_co_0.csv\", delimiter=\",\")"
   ]
  },
  {
   "cell_type": "code",
   "execution_count": 19,
   "metadata": {},
   "outputs": [
    {
     "name": "stdout",
     "output_type": "stream",
     "text": [
      "1.9955331993681422\n",
      "1.4720850971238806\n"
     ]
    }
   ],
   "source": [
    "print(np.max(desc_ch))\n",
    "print(np.max(desc_co))\n",
    "\n"
   ]
  },
  {
   "cell_type": "code",
   "execution_count": null,
   "metadata": {},
   "outputs": [],
   "source": []
  }
 ],
 "metadata": {
  "kernelspec": {
   "display_name": "dieltools",
   "language": "python",
   "name": "python3"
  },
  "language_info": {
   "codemirror_mode": {
    "name": "ipython",
    "version": 3
   },
   "file_extension": ".py",
   "mimetype": "text/x-python",
   "name": "python",
   "nbconvert_exporter": "python",
   "pygments_lexer": "ipython3",
   "version": "3.11.0"
  },
  "orig_nbformat": 4
 },
 "nbformat": 4,
 "nbformat_minor": 2
}
