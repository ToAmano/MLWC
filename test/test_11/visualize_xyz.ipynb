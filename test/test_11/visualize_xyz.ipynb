{
 "cells": [
  {
   "cell_type": "code",
   "execution_count": 1,
   "metadata": {},
   "outputs": [
    {
     "data": {
      "application/vnd.jupyter.widget-view+json": {
       "model_id": "25e922dd37664589b8965e14944b9d57",
       "version_major": 2,
       "version_minor": 0
      },
      "text/plain": []
     },
     "metadata": {},
     "output_type": "display_data"
    },
    {
     "data": {
      "application/vnd.jupyter.widget-view+json": {
       "model_id": "a96634863b0b441d9eefc70e112bcb75",
       "version_major": 2,
       "version_minor": 0
      },
      "text/plain": [
       "NGLWidget()"
      ]
     },
     "metadata": {},
     "output_type": "display_data"
    },
    {
     "data": {
      "application/vnd.jupyter.widget-view+json": {
       "model_id": "37dc05b69ae444c3b70e3844e6f41663",
       "version_major": 2,
       "version_minor": 0
      },
      "text/plain": [
       "Tab(children=(Box(children=(Box(children=(Box(children=(Label(value='step'), IntSlider(value=1, min=-100)), la…"
      ]
     },
     "metadata": {},
     "output_type": "display_data"
    }
   ],
   "source": [
    "#構造可視化\n",
    "import ase.io\n",
    "aseatoms = ase.io.read(\"bulk_test/mol_bc.xyz\")\n",
    "\n",
    "import nglview as nv\n",
    "import ase.io\n",
    "import copy \n",
    "\n",
    "w = nv.show_ase(aseatoms,gui=True)\n",
    "w.clear_representations()\n",
    "w.add_label(radius=0.2,color=\"black\",label_type=\"atom\")\n",
    "w.add_ball_and_stick(\"_He\",color=\"green\",radius=0.004,aspectRatio=50)\n",
    "w.add_ball_and_stick(\"_Ne\",color=\"cyan\",radius=0.004,aspectRatio=50)\n",
    "w.add_ball_and_stick(\"_Ar\",color=\"green\",radius=0.004,aspectRatio=50)\n",
    "#w.add_ball_and_stick(\"_Li\",color=\"cyan\",radius=0.1)\n",
    "#w.add_ball_and_stick(\"_Be\",color=\"blue\",radius=0.1)\n",
    "w.add_ball_and_stick(\"_H\")\n",
    "w.add_ball_and_stick(\"_C\")\n",
    "w.add_ball_and_stick(\"_O\")\n",
    "w.add_ball_and_stick(\"_N\")\n",
    "\n",
    "#w.clear_representations()\n",
    "#w.add_label(radius=1,color=\"black\",label_type=\"atom\")\n",
    "#view.add_representation(\"ball+stick\")\n",
    "#w.add_representation(\"ball+stick\",selection=[i for i in range(0,n_atoms)],opacity=1.0)\n",
    "#w.add_representation(\"ball+stick\",selection=[i for i in range(n_atoms,total_atoms)],opacity=1,aspectRatio=2)\n",
    "w.add_unitcell()\n",
    "w.update_unitcell()\n",
    "w"
   ]
  },
  {
   "cell_type": "code",
   "execution_count": null,
   "metadata": {},
   "outputs": [],
   "source": []
  }
 ],
 "metadata": {
  "kernelspec": {
   "display_name": "dieltools",
   "language": "python",
   "name": "python3"
  },
  "language_info": {
   "codemirror_mode": {
    "name": "ipython",
    "version": 3
   },
   "file_extension": ".py",
   "mimetype": "text/x-python",
   "name": "python",
   "nbconvert_exporter": "python",
   "pygments_lexer": "ipython3",
   "version": "3.11.0"
  },
  "orig_nbformat": 4
 },
 "nbformat": 4,
 "nbformat_minor": 2
}
