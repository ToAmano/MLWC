{
 "cells": [
  {
   "cell_type": "markdown",
   "metadata": {},
   "source": [
    "### 古典MD (GAFF2/AM1BCC力場）の実行とQEファイルの出力  \n",
    "Benzene 8分子(96原子)を25℃ (密度0.874)でNVTでMD計算    \n",
    "ベンゼン密度：https://www.chemicalbook.com/ChemicalProductProperty_EN_CB6854153.htm   \n",
    "1ナノ秒をdt = 0.2 fsで計算する。   \n",
    "MDのカットオフ半径は4Å　長距離静電相互作用はPMEを使用。    \n",
    "1fsで構造を出力し、最初の1,001フレームを捨てて4,000構造を出力する。    \n",
    "ASEで構造を読み込んで、Quantum Espressoフォーマットで出力  "
   ]
  },
  {
   "cell_type": "code",
   "execution_count": 17,
   "metadata": {},
   "outputs": [],
   "source": [
    "import pandas as pd\n",
    "\n",
    "from rdkit import Chem\n",
    "from rdkit.Chem import Draw\n",
    "from rdkit.Chem import Descriptors\n",
    "from rdkit.ML.Descriptors import MoleculeDescriptors\n",
    "from rdkit.Chem import PandasTools"
   ]
  },
  {
   "cell_type": "code",
   "execution_count": 16,
   "metadata": {},
   "outputs": [],
   "source": [
    "# ----- System setting -------\n",
    "\n",
    "num_atoms_per_molecule = 6\n",
    "num_molecules = 32\n",
    "max_atoms= num_atoms_per_molecule*num_molecules\n",
    "\n",
    "# density(g/cm3) from experiment\n",
    "density = 0.791\n",
    "\n",
    "dt = 0.2                           #[fs] MDの刻み時間：このまま使うことを推奨。\n",
    "eq_temp = 25+273.15                #緩和計算させるときの温度 [K]\n",
    "eq_steps = 25000                   #緩和計算するstep数。この例だと5 psec.\n",
    "eq_cutoff = 4.8\n",
    "\n",
    "# !. /opt/gromacs/bin/GMXRC\n",
    "# gromacs_home = \"/opt/homebrew/bin/gmx\"\n",
    "gromacs_home = \"/usr/local/bin/gmx\""
   ]
  },
  {
   "cell_type": "code",
   "execution_count": 20,
   "metadata": {},
   "outputs": [],
   "source": [
    "import shutil\n",
    "src = './input.acpype/input_GMX.gro'\n",
    "copy = './input1.gro'\n",
    "shutil.copyfile(src,copy)\n",
    "src = './input.acpype/input_GMX.itp'\n",
    "copy = './input1.itp'\n",
    "shutil.copyfile(src,copy)"
   ]
  },
  {
   "cell_type": "code",
   "execution_count": 21,
   "metadata": {
    "scrolled": true
   },
   "outputs": [
    {
     "name": "stdout",
     "output_type": "stream",
     "text": [
      "1 molecule converted\n",
      "1 molecule converted\n",
      "==========================================================================\n",
      "| ACPYPE: AnteChamber PYthon Parser interfacE v. 2022.6.6 (c) 2022 AWSdS |\n",
      "==========================================================================\n",
      "==> ... charge set to 0\n",
      "==> Executing Antechamber...\n",
      "==> * Antechamber OK *\n",
      "==> * Parmchk OK *\n",
      "==> Executing Tleap...\n",
      "==> * Tleap OK *\n",
      "==> Removing temporary files...\n",
      "==> Using OpenBabel v.3.1.0\n",
      "\n",
      "==> Writing GROMACS files\n",
      "\n",
      "==> Disambiguating lower and uppercase atomtypes in GMX top file, even if identical.\n",
      "\n",
      "==> Writing GMX dihedrals for GMX 4.5 and higher.\n",
      "\n",
      "==> Writing pickle file input.pkl\n",
      "==> Removing temporary files...\n",
      "Total time of execution: less than a second\n"
     ]
    }
   ],
   "source": [
    "gaff_bcc(smiles_list_polymer[0])\n"
   ]
  },
  {
   "cell_type": "code",
   "execution_count": 22,
   "metadata": {},
   "outputs": [],
   "source": [
    "#make mdp file for energy minimization\n",
    "def make_mdp_em(cutoff):\n",
    "\n",
    "    mdp_file = \"em.mdp\"\n",
    "    cutoff_radius    = cutoff/10.0\n",
    "    \n",
    "    lines = [\n",
    "    \"; VARIOUS PREPROCESSING OPTIONS\",\n",
    "    \";title                    = Yo\",\n",
    "    \";cpp                      = /usr/bin/cpp\",\n",
    "    \"include                  =\", \n",
    "    \"define                   =\", \n",
    "    \"    \",\n",
    "    \"; RUN CONTROL PARAMETERS\",\n",
    "    \"integrator               = steep\",\n",
    "    \"nsteps                   = 1000000\",\n",
    "    \"emtol                    = 10\",\n",
    "    \"emstep                   = 0.1\",\n",
    "    \"nstlist                  = 1\",\n",
    "    \"cutoff-scheme            = verlet\",\n",
    "    \"vdw-type                 = cut-off\",\n",
    "    \"rlist                    = {}\".format(cutoff_radius),\n",
    "    \"rvdw                     = {}\".format(cutoff_radius),\n",
    "    \"rcoulomb                 = {}\".format(cutoff_radius),\n",
    "    ]\n",
    "\n",
    "    with open(mdp_file, mode='w') as f:\n",
    "        f.write('\\n'.join(lines))"
   ]
  },
  {
   "cell_type": "code",
   "execution_count": 23,
   "metadata": {},
   "outputs": [],
   "source": [
    "#make mdp file for NVT run\n",
    "def make_mdp_nvt(temp,steps,dt,cutoff):\n",
    "\n",
    "    temperature      = temp\n",
    "    simulation_steps = steps \n",
    "    time_step        = dt/1000.0  # ps\n",
    "    cutoff_radius    = cutoff/10.0\n",
    "    \n",
    "    mdp_file = \"run.mdp\"\n",
    "\n",
    "    lines = [\n",
    "    \"; VARIOUS PREPROCESSING OPTIONS\",\n",
    "    \";title                    = Yo\",\n",
    "    \";cpp                      = /usr/bin/cpp\",\n",
    "    \"include                  =\", \n",
    "    \"define                   =\", \n",
    "    \"    \",\n",
    "    \"; RUN CONTROL PARAMETERS\",\n",
    "    \"constraints              = none\",\n",
    "    \"integrator               = md\",\n",
    "    \"nsteps                   = {}\".format(simulation_steps),\n",
    "    \"dt                       = {}\".format(time_step),\n",
    "    \"nstlist                  = 1\",\n",
    "    \"rlist                    = {}\".format(cutoff_radius),\n",
    "    \"rvdw                     = {}\".format(cutoff_radius),\n",
    "    \"rcoulomb                 = {}\".format(cutoff_radius),\n",
    "    \"coulombtype              = pme\",\n",
    "    \"cutoff-scheme            = verlet\",\n",
    "    \"vdw-type                 = cut-off\",        \n",
    "    \"tc-grps                  = system\",\n",
    "    \"tau-t                    = 0.1\",\n",
    "    \"gen-vel                  = yes\",\n",
    "    \"gen-temp                 = {}\".format(temperature),\n",
    "    \"ref-t                    = {}\".format(temperature),\n",
    "    \"Pcoupl                   = no\",\n",
    "    \"Tcoupl                    = v-rescale \" ,\n",
    "    \"nstenergy                = 5\",\n",
    "    \"nstxout                  = 5\", \n",
    "    \"nstfout                  = 5\",\n",
    "    \"DispCorr                 = EnerPres\",\n",
    "    ]\n",
    "\n",
    "    with open(mdp_file, mode='w') as f:\n",
    "        f.write('\\n'.join(lines))"
   ]
  },
  {
   "cell_type": "code",
   "execution_count": null,
   "metadata": {},
   "outputs": [],
   "source": []
  },
  {
   "cell_type": "code",
   "execution_count": 32,
   "metadata": {},
   "outputs": [],
   "source": [
    "def build_initial_cell_gromacs(dt,eq_cutoff,eq_temp,eq_steps):\n",
    "\n",
    "    import subprocess\n",
    "    from subprocess import PIPE\n",
    "\n",
    "    import pandas as pd\n",
    "    \n",
    "    import time \n",
    "    init_time = time.time()\n",
    "    \n",
    "    dt = dt\n",
    "\n",
    "    import MDAnalysis as mda\n",
    "#    from nglview.datafiles import PDB, XTC # これ，使ってなくない？\n",
    "\n",
    "    #混合溶液を作成\n",
    "    import mdapackmol\n",
    "    import numpy as np\n",
    "    from ase import units\n",
    "    import shutil\n",
    "\n",
    "    # load individual molecule files\n",
    "    mol1 = mda.Universe('input1.gro')\n",
    "    #num_mols1 = 30\n",
    "    total_mol = int(max_atoms/(mol1.atoms.n_atoms))\n",
    "    num_mols1 = total_mol\n",
    "    mw_mol1 = np.sum(mol1.atoms.masses)\n",
    "    total_weight = num_mols1 * mw_mol1 \n",
    "    \n",
    "    # Determine side length of a box with the density of mixture \n",
    "    #L = 12.0 # Ang. unit \n",
    "    d = density / 1e24 # Density in g/Ang3 \n",
    "    volume = (total_weight / units.mol) / d\n",
    "    L = volume**(1.0/3.0)\n",
    "    \n",
    "    print(\" CELL PARAMETER :: \", L/10)\n",
    "    \n",
    "    system = mdapackmol.packmol(\n",
    "    [ mdapackmol.PackmolStructure(\n",
    "    mol1, number=num_mols1,\n",
    "    instructions=[\"inside box \"+str(0)+\"  \"+str(0)+\"  \"+str(0)+ \"  \"+str(L)+\"  \"+str(L)+\"  \"+str(L)]),])\n",
    "\n",
    "    system.atoms.write('mixture.gro')\n",
    "\n",
    "    import os \n",
    "    os.environ['GMX_MAXBACKUP'] = '-1'\n",
    "\n",
    "    # for gromacs-5 or later (init.groを作成)\n",
    "    print(\" RUNNING :: gmx editconf ... ( making init.gro) \")\n",
    "    commands = gromacs_home+\"gmx editconf -f mixture.gro  -box \"+ str(L/10.0)+\"  \"+str(L/10.0)+\"  \"+str(L/10.0) + \"  \" +\" -o init.gro\"\n",
    "\n",
    "    proc = subprocess.run(commands, shell=True, stdout=PIPE, stderr=PIPE,encoding='utf-8')\n",
    "    output = proc.stdout\n",
    "    print(\" FINISH gmx editconf\")\n",
    "    print('STDOUT: {}'.format(output))\n",
    "    print(\" \")\n",
    "\n",
    "    #make top file for GAFF\n",
    "\n",
    "    top_file = \"system.top\"\n",
    "    mol_name1 = \"input\"\n",
    " \n",
    "    lines = [\n",
    "        \"; input_GMX.top created by acpype (v: 2020-07-25T09:06:13CEST) on Fri Jul 31 07:59:08 2020\",\n",
    "        \";by acpype (v: 2020-07-25T09:06:13CEST) on Fri Jul 31 07:59:08 2020\",\n",
    "        \"   \",\n",
    "        \"[ defaults ]\",\n",
    "        \"; nbfunc        comb-rule       gen-pairs       fudgeLJ fudgeQQ\",\n",
    "        \"1               2               yes             0.5     0.8333\",\n",
    "        \"    \",\n",
    "        \"; Include input.itp topology\", \n",
    "        \"#include \\\"{}.itp\\\"\".format(\"input1\"),\n",
    "        \"    \",\n",
    "        \"[ system ]\",\n",
    "        \"input\",\n",
    "        \"     \",\n",
    "        \"[ molecules ]\",\n",
    "        \"; Compound        nmols\" ,\n",
    "        mol_name1 + \"          {} \".format(num_mols1), \n",
    "    ]\n",
    "        \n",
    "    with open(top_file, mode='w') as f:\n",
    "        f.write('\\n'.join(lines))\n",
    "\n",
    "    # Energy minimization\n",
    "    import os\n",
    "    import subprocess\n",
    "    from subprocess import PIPE\n",
    "    \n",
    "    print('Minimizing energy')\n",
    "    \n",
    "    os.environ['GMX_MAXBACKUP'] = '-1'\n",
    "\n",
    "    make_mdp_em(eq_cutoff)\n",
    "\n",
    "    #grompp\n",
    "    os.environ['OMP_NUM_THREADS'] = '1'    \n",
    "    commands = gromacs_home+\"gmx grompp -f em.mdp -p system.top -c init.gro -o em.tpr -maxwarn 10 \"\n",
    "    proc = subprocess.run(commands, shell=True, stdout=PIPE, stderr=PIPE,encoding='utf-8')\n",
    "    output = proc.stdout\n",
    "    print(\" FINISH gmx grompp\")\n",
    "    print('STDOUT: {}'.format(output))\n",
    "    print(\" \")\n",
    "    \n",
    "    #mdrun\n",
    "    os.environ['OMP_NUM_THREADS'] = '1' \n",
    "    commands = gromacs_home+\"gmx mdrun -s em.tpr -o em.trr -e em.edr -c em.gro -nb cpu\"\n",
    "    proc = subprocess.run(commands, shell=True, stdout=PIPE, stderr=PIPE,encoding='utf-8')\n",
    "    output = proc.stdout\n",
    "\n",
    "\n",
    "    #Relax the geometry \n",
    "    print('Running dynamics :Equilibration')\n",
    "  \n",
    "    temp = eq_temp\n",
    "    dt   = dt \n",
    "    steps = eq_steps\n",
    "    make_mdp_nvt(temp,steps,dt,eq_cutoff)\n",
    "\n",
    "    #grompp\n",
    "    os.environ['OMP_NUM_THREADS'] = '1'    \n",
    "    commands = gromacs_home+\"gmx grompp -f run.mdp -p system.top -c em.gro -o eq.tpr -maxwarn 10 \".format(str(temp))\n",
    "    proc = subprocess.run(commands, shell=True, stdout=PIPE, stderr=PIPE,encoding='utf-8')\n",
    "    output = proc.stdout\n",
    "\n",
    "    #mdrun (eq.groを作成)\n",
    "    os.environ['OMP_NUM_THREADS'] = '6' \n",
    "    commands = gromacs_home+\"gmx mdrun -s eq.tpr -o eq.trr -e eq.edr -c eq.gro -nb cpu\"\n",
    "    proc = subprocess.run(commands, shell=True, stdout=PIPE, stderr=PIPE,encoding='utf-8')\n",
    "    output = proc.stdout\n",
    "\n",
    "    print(\"elapsed time= {} sec.\".format(time.time()-init_time))"
   ]
  },
  {
   "cell_type": "code",
   "execution_count": 33,
   "metadata": {
    "scrolled": false
   },
   "outputs": [
    {
     "name": "stdout",
     "output_type": "stream",
     "text": [
      " CELL PARAMETER ::  12.9116199385587\n",
      " FINISH gmx editconf\n",
      "STDOUT: \n",
      " \n",
      "Minimizing energy\n",
      " FINISH gmx grompp\n",
      "STDOUT: \n",
      " \n",
      "Running dynamics :Equilibration\n",
      "elapsed time= 0.09222817420959473 sec.\n"
     ]
    },
    {
     "name": "stderr",
     "output_type": "stream",
     "text": [
      "/Users/amano/opt/anaconda3/envs/aiida/lib/python3.10/site-packages/MDAnalysis/coordinates/PDB.py:1129: UserWarning: Found no information for attr: 'altLocs' Using default value of ' '\n",
      "  warnings.warn(\"Found no information for attr: '{}'\"\n",
      "/Users/amano/opt/anaconda3/envs/aiida/lib/python3.10/site-packages/MDAnalysis/coordinates/PDB.py:1129: UserWarning: Found no information for attr: 'icodes' Using default value of ' '\n",
      "  warnings.warn(\"Found no information for attr: '{}'\"\n",
      "/Users/amano/opt/anaconda3/envs/aiida/lib/python3.10/site-packages/MDAnalysis/coordinates/PDB.py:1129: UserWarning: Found no information for attr: 'chainIDs' Using default value of ''\n",
      "  warnings.warn(\"Found no information for attr: '{}'\"\n",
      "/Users/amano/opt/anaconda3/envs/aiida/lib/python3.10/site-packages/MDAnalysis/coordinates/PDB.py:1129: UserWarning: Found no information for attr: 'occupancies' Using default value of '1.0'\n",
      "  warnings.warn(\"Found no information for attr: '{}'\"\n",
      "/Users/amano/opt/anaconda3/envs/aiida/lib/python3.10/site-packages/MDAnalysis/coordinates/PDB.py:1129: UserWarning: Found no information for attr: 'tempfactors' Using default value of '0.0'\n",
      "  warnings.warn(\"Found no information for attr: '{}'\"\n",
      "/Users/amano/opt/anaconda3/envs/aiida/lib/python3.10/site-packages/MDAnalysis/coordinates/PDB.py:1129: UserWarning: Found no information for attr: 'elements' Using default value of ' '\n",
      "  warnings.warn(\"Found no information for attr: '{}'\"\n",
      "/Users/amano/opt/anaconda3/envs/aiida/lib/python3.10/site-packages/MDAnalysis/coordinates/PDB.py:1129: UserWarning: Found no information for attr: 'record_types' Using default value of 'ATOM'\n",
      "  warnings.warn(\"Found no information for attr: '{}'\"\n",
      "/Users/amano/opt/anaconda3/envs/aiida/lib/python3.10/site-packages/MDAnalysis/coordinates/PDB.py:1129: UserWarning: Found no information for attr: 'formalcharges' Using default value of '0'\n",
      "  warnings.warn(\"Found no information for attr: '{}'\"\n",
      "/Users/amano/opt/anaconda3/envs/aiida/lib/python3.10/site-packages/MDAnalysis/coordinates/PDB.py:1176: UserWarning: Found missing chainIDs. Corresponding atoms will use value of 'X'\n",
      "  warnings.warn(\"Found missing chainIDs.\"\n",
      "/Users/amano/opt/anaconda3/envs/aiida/lib/python3.10/site-packages/MDAnalysis/topology/PDBParser.py:328: UserWarning: Element information is missing, elements attribute will not be populated. If needed these can be guessed using MDAnalysis.topology.guessers.\n",
      "  warnings.warn(\"Element information is missing, elements attribute \"\n",
      "/Users/amano/opt/anaconda3/envs/aiida/lib/python3.10/site-packages/MDAnalysis/coordinates/GRO.py:479: UserWarning: missing dimension - setting unit cell to zeroed box [0., 0., 0.]\n",
      "  warnings.warn(wmsg)\n"
     ]
    }
   ],
   "source": [
    "# 最初のセルの構築\n",
    "build_initial_cell_gromacs(dt,eq_cutoff,eq_temp,eq_steps)"
   ]
  },
  {
   "cell_type": "code",
   "execution_count": 35,
   "metadata": {
    "scrolled": true
   },
   "outputs": [
    {
     "data": {
      "image/png": "[encoded data removed]",
      "text/plain": [
       "<Figure size 640x480 with 1 Axes>"
      ]
     },
     "metadata": {},
     "output_type": "display_data"
    }
   ],
   "source": [
    "#構造可視化(matplotlib版)\n",
    "import matplotlib.pyplot as plt\n",
    "from ase.visualize.plot import plot_atoms\n",
    "import ase.io\n",
    "mol1 = ase.io.read('eq.gro')\n",
    "%matplotlib inline\n",
    "plot_atoms(mol1, rotation=('0x,0y,0z'))\n",
    "plt.show()"
   ]
  },
  {
   "cell_type": "code",
   "execution_count": 33,
   "metadata": {},
   "outputs": [
    {
     "ename": "AttributeError",
     "evalue": "'Atom' object has no attribute 'write'",
     "output_type": "error",
     "traceback": [
      "\u001b[0;31m---------------------------------------------------------------------------\u001b[0m",
      "\u001b[0;31mAttributeError\u001b[0m                            Traceback (most recent call last)",
      "\u001b[1;32mセル18 を /Users/amano/works/research/jsr_utokyo/cpmd/12_Methanol/BEN_MD_genQE/gromacs_MD_methanol.ipynb\u001b[0m in \u001b[0;36m<cell line: 5>\u001b[0;34m()\u001b[0m\n\u001b[1;32m      <a href='vscode-notebook-cell:/Users/amano/works/research/jsr_utokyo/cpmd/12_Methanol/BEN_MD_genQE/gromacs_MD_methanol.ipynb#Y101sZmlsZQ%3D%3D?line=2'>3</a>\u001b[0m \u001b[39mimport\u001b[39;00m \u001b[39mase\u001b[39;00m\u001b[39m.\u001b[39;00m\u001b[39mio\u001b[39;00m\n\u001b[1;32m      <a href='vscode-notebook-cell:/Users/amano/works/research/jsr_utokyo/cpmd/12_Methanol/BEN_MD_genQE/gromacs_MD_methanol.ipynb#Y101sZmlsZQ%3D%3D?line=3'>4</a>\u001b[0m mol1 \u001b[39m=\u001b[39m ase\u001b[39m.\u001b[39mio\u001b[39m.\u001b[39mread(\u001b[39m'\u001b[39m\u001b[39meq.gro\u001b[39m\u001b[39m'\u001b[39m)\n\u001b[0;32m----> <a href='vscode-notebook-cell:/Users/amano/works/research/jsr_utokyo/cpmd/12_Methanol/BEN_MD_genQE/gromacs_MD_methanol.ipynb#Y101sZmlsZQ%3D%3D?line=4'>5</a>\u001b[0m w \u001b[39m=\u001b[39m nv\u001b[39m.\u001b[39;49mshow_asetraj(mol1)\n\u001b[1;32m      <a href='vscode-notebook-cell:/Users/amano/works/research/jsr_utokyo/cpmd/12_Methanol/BEN_MD_genQE/gromacs_MD_methanol.ipynb#Y101sZmlsZQ%3D%3D?line=5'>6</a>\u001b[0m w\u001b[39m.\u001b[39madd_label(radius\u001b[39m=\u001b[39m\u001b[39m1\u001b[39m,color\u001b[39m=\u001b[39m\u001b[39m\"\u001b[39m\u001b[39mblack\u001b[39m\u001b[39m\"\u001b[39m,label_type\u001b[39m=\u001b[39m\u001b[39m\"\u001b[39m\u001b[39matom\u001b[39m\u001b[39m\"\u001b[39m)\n\u001b[1;32m      <a href='vscode-notebook-cell:/Users/amano/works/research/jsr_utokyo/cpmd/12_Methanol/BEN_MD_genQE/gromacs_MD_methanol.ipynb#Y101sZmlsZQ%3D%3D?line=6'>7</a>\u001b[0m w\u001b[39m.\u001b[39madd_unitcell()\n",
      "File \u001b[0;32m~/anaconda3/envs/aiida/lib/python3.10/site-packages/nglview/show.py:203\u001b[0m, in \u001b[0;36mshow_asetraj\u001b[0;34m(ase_traj, **kwargs)\u001b[0m\n\u001b[1;32m    191\u001b[0m \u001b[39m'''Show ase trajectory and structure file.\u001b[39;00m\n\u001b[1;32m    192\u001b[0m \n\u001b[1;32m    193\u001b[0m \u001b[39mExamples\u001b[39;00m\n\u001b[0;32m   (...)\u001b[0m\n\u001b[1;32m    200\u001b[0m \u001b[39m>>> view # doctest: +SKIP\u001b[39;00m\n\u001b[1;32m    201\u001b[0m \u001b[39m'''\u001b[39;00m\n\u001b[1;32m    202\u001b[0m trajectory \u001b[39m=\u001b[39m ASETrajectory(ase_traj)\n\u001b[0;32m--> 203\u001b[0m \u001b[39mreturn\u001b[39;00m NGLWidget(trajectory, \u001b[39m*\u001b[39;49m\u001b[39m*\u001b[39;49mkwargs)\n",
      "File \u001b[0;32m~/anaconda3/envs/aiida/lib/python3.10/site-packages/nglview/widget.py:237\u001b[0m, in \u001b[0;36mNGLWidget.__init__\u001b[0;34m(self, structure, representations, parameters, **kwargs)\u001b[0m\n\u001b[1;32m    235\u001b[0m \u001b[39mif\u001b[39;00m \u001b[39misinstance\u001b[39m(structure, Trajectory):\n\u001b[1;32m    236\u001b[0m     name \u001b[39m=\u001b[39m py_utils\u001b[39m.\u001b[39mget_name(structure, \u001b[39m*\u001b[39m\u001b[39m*\u001b[39mkwargs)\n\u001b[0;32m--> 237\u001b[0m     \u001b[39mself\u001b[39;49m\u001b[39m.\u001b[39;49madd_trajectory(structure, name\u001b[39m=\u001b[39;49mname, \u001b[39m*\u001b[39;49m\u001b[39m*\u001b[39;49mkwargs)\n\u001b[1;32m    238\u001b[0m \u001b[39melif\u001b[39;00m \u001b[39misinstance\u001b[39m(structure, (\u001b[39mlist\u001b[39m, \u001b[39mtuple\u001b[39m)):\n\u001b[1;32m    239\u001b[0m     trajectories \u001b[39m=\u001b[39m structure\n",
      "File \u001b[0;32m~/anaconda3/envs/aiida/lib/python3.10/site-packages/nglview/widget.py:1153\u001b[0m, in \u001b[0;36mNGLWidget.add_trajectory\u001b[0;34m(self, trajectory, **kwargs)\u001b[0m\n\u001b[1;32m   1150\u001b[0m \u001b[39melse\u001b[39;00m:\n\u001b[1;32m   1151\u001b[0m     trajectory \u001b[39m=\u001b[39m trajectory\n\u001b[0;32m-> 1153\u001b[0m \u001b[39mself\u001b[39;49m\u001b[39m.\u001b[39;49m_load_data(trajectory, \u001b[39m*\u001b[39;49m\u001b[39m*\u001b[39;49mkwargs)\n\u001b[1;32m   1154\u001b[0m \u001b[39msetattr\u001b[39m(trajectory, \u001b[39m'\u001b[39m\u001b[39mshown\u001b[39m\u001b[39m'\u001b[39m, \u001b[39mTrue\u001b[39;00m)\n\u001b[1;32m   1155\u001b[0m \u001b[39mself\u001b[39m\u001b[39m.\u001b[39m_trajlist\u001b[39m.\u001b[39mappend(trajectory)\n",
      "File \u001b[0;32m~/anaconda3/envs/aiida/lib/python3.10/site-packages/nglview/widget.py:1231\u001b[0m, in \u001b[0;36mNGLWidget._load_data\u001b[0;34m(self, obj, **kwargs)\u001b[0m\n\u001b[1;32m   1229\u001b[0m \u001b[39mif\u001b[39;00m \u001b[39mnot\u001b[39;00m is_url:\n\u001b[1;32m   1230\u001b[0m     \u001b[39mif\u001b[39;00m \u001b[39mhasattr\u001b[39m(obj, \u001b[39m'\u001b[39m\u001b[39mget_structure_string\u001b[39m\u001b[39m'\u001b[39m):\n\u001b[0;32m-> 1231\u001b[0m         blob \u001b[39m=\u001b[39m obj\u001b[39m.\u001b[39;49mget_structure_string()\n\u001b[1;32m   1232\u001b[0m         kwargs2[\u001b[39m'\u001b[39m\u001b[39mext\u001b[39m\u001b[39m'\u001b[39m] \u001b[39m=\u001b[39m obj\u001b[39m.\u001b[39mext\n\u001b[1;32m   1233\u001b[0m         passing_buffer \u001b[39m=\u001b[39m \u001b[39mTrue\u001b[39;00m\n",
      "File \u001b[0;32m~/anaconda3/envs/aiida/lib/python3.10/site-packages/nglview/adaptor.py:521\u001b[0m, in \u001b[0;36mASETrajectory.get_structure_string\u001b[0;34m(self)\u001b[0m\n\u001b[1;32m    520\u001b[0m \u001b[39mdef\u001b[39;00m \u001b[39mget_structure_string\u001b[39m(\u001b[39mself\u001b[39m):\n\u001b[0;32m--> 521\u001b[0m     \u001b[39mreturn\u001b[39;00m _get_structure_string(\u001b[39mself\u001b[39;49m\u001b[39m.\u001b[39;49mtrajectory[\u001b[39m0\u001b[39;49m]\u001b[39m.\u001b[39;49mwrite)\n",
      "\u001b[0;31mAttributeError\u001b[0m: 'Atom' object has no attribute 'write'"
     ]
    }
   ],
   "source": [
    "#構造可視化(nglview版)\n",
    "import nglview as nv\n",
    "import ase.io\n",
    "mol1 = ase.io.read('eq.gro')\n",
    "w = nv.show_asetraj(mol1)\n",
    "w.add_label(radius=1,color=\"black\",label_type=\"atom\")\n",
    "w.add_unitcell()\n",
    "w.update_unitcell()\n",
    "w"
   ]
  },
  {
   "cell_type": "code",
   "execution_count": 34,
   "metadata": {},
   "outputs": [],
   "source": [
    "import nglview as nv"
   ]
  },
  {
   "cell_type": "code",
   "execution_count": 19,
   "metadata": {},
   "outputs": [
    {
     "data": {
      "application/vnd.jupyter.widget-view+json": {
       "model_id": "217f2c3f664b4e0f8f0c31144f04cec3",
       "version_major": 2,
       "version_minor": 0
      },
      "text/plain": [
       "NGLWidget(max_frame=5000)"
      ]
     },
     "metadata": {},
     "output_type": "display_data"
    },
    {
     "data": {
      "application/vnd.jupyter.widget-view+json": {
       "model_id": "d180672bd047483e86453ea4b0f2c710",
       "version_major": 2,
       "version_minor": 0
      },
      "text/plain": [
       "Tab(children=(Box(children=(Box(children=(Box(children=(Label(value='step'), IntSlider(value=1, min=-100)), la…"
      ]
     },
     "metadata": {},
     "output_type": "display_data"
    }
   ],
   "source": [
    "#Trajectoryの表示\n",
    "import sys\n",
    "import mdtraj\n",
    "\n",
    "# ParmEd Imports\n",
    "from parmed import load_file\n",
    "from parmed.openmm.reporters import NetCDFReporter\n",
    "from parmed import unit as u\n",
    "\n",
    "#analysis\n",
    "import os  \n",
    "import subprocess\n",
    "from subprocess import PIPE\n",
    "\n",
    "!echo \"System\" > ./inputs/anal.txt \n",
    "\n",
    "commands = gromacs_home+\"gmx trjconv -s eq.tpr -f eq.trr -dump 0 -o eq.pdb < ./inputs/anal.txt\"\n",
    "proc = subprocess.run(commands, shell=True, stdout=PIPE, stderr=PIPE,encoding='utf-8')\n",
    "output = proc.stdout\n",
    "commands = gromacs_home+\"gmx trjconv -s eq.tpr -f eq.trr -pbc mol -force -o eq_pbc.trr < ./inputs/anal.txt\"\n",
    "proc = subprocess.run(commands, shell=True, stdout=PIPE, stderr=PIPE,encoding='utf-8')\n",
    "output = proc.stdout\n"
   ]
  },
  {
   "cell_type": "code",
   "execution_count": 95,
   "metadata": {},
   "outputs": [
    {
     "data": {
      "application/vnd.jupyter.widget-view+json": {
       "model_id": "e067f37f5d9941c0bce2e23b39eaceb1",
       "version_major": 2,
       "version_minor": 0
      },
      "text/plain": [
       "NGLWidget(max_frame=5000)"
      ]
     },
     "metadata": {},
     "output_type": "display_data"
    },
    {
     "data": {
      "application/vnd.jupyter.widget-view+json": {
       "model_id": "6e89e56d005c4a1aafcd1e2f01db8ca0",
       "version_major": 2,
       "version_minor": 0
      },
      "text/plain": [
       "Tab(children=(Box(children=(Box(children=(Box(children=(Label(value='step'), IntSlider(value=1, min=-100)), la…"
      ]
     },
     "metadata": {},
     "output_type": "display_data"
    }
   ],
   "source": [
    "import mdtraj\n",
    "traj=mdtraj.load(\"eq_pbc.trr\", top=\"eq.pdb\")\n",
    "view=nv.show_mdtraj(traj,gui=True)\n",
    "view.parameters =dict(\n",
    "                        camera_type=\"orthographic\",\n",
    "                        backgraound_color=\"black\",\n",
    "                        clip_dist=0\n",
    ")\n",
    "view.clear_representations()\n",
    "view.add_representation(\"ball+stick\")\n",
    "#view.add_representation(\"spacefill\",selection=[i for i in range(n_atoms,n_total_atoms)],opacity=0.1)\n",
    "view.add_unitcell()\n",
    "view.update_unitcell()\n",
    "view"
   ]
  },
  {
   "cell_type": "code",
   "execution_count": 20,
   "metadata": {},
   "outputs": [
    {
     "data": {
      "text/plain": [
       "4000"
      ]
     },
     "execution_count": 20,
     "metadata": {},
     "output_type": "execute_result"
    }
   ],
   "source": [
    "#前半のトラジェクトリーのカットする\n",
    "traj = traj[1001:]\n",
    "len(traj)"
   ]
  },
  {
   "cell_type": "markdown",
   "metadata": {},
   "source": [
    "## Make a movie (gif format)"
   ]
  },
  {
   "cell_type": "code",
   "execution_count": 22,
   "metadata": {},
   "outputs": [],
   "source": [
    "from time import sleep\n",
    "# to save time for this tutorial, we make a movie with only 50 frames\n",
    "for frame in range(0, 200):\n",
    "    # set frame to update coordinates\n",
    "    view.frame = frame\n",
    "    # make sure to let NGL spending enough time to update coordinates\n",
    "    sleep(0.5)\n",
    "    view.download_image(filename='BENimage{}.png'.format(frame))\n",
    "    # make sure to let NGL spending enough time to render before going to next frame\n",
    "    sleep(2.0)"
   ]
  },
  {
   "cell_type": "code",
   "execution_count": 30,
   "metadata": {},
   "outputs": [],
   "source": [
    "import moviepy.editor as mpy\n",
    "\n",
    "# In my case, my default download folder is /Users/haichit/Downloads/\n",
    "template = './img/BENimage{}.png'\n",
    "\n",
    "# get all (sorted) image files\n",
    "imagefiles = [template.format(str(i)) for i in range(0, 200)]"
   ]
  },
  {
   "cell_type": "code",
   "execution_count": 31,
   "metadata": {},
   "outputs": [
    {
     "name": "stderr",
     "output_type": "stream",
     "text": [
      "\r\n",
      "t:   0%|          | 0/200 [00:00<?, ?it/s, now=None]"
     ]
    },
    {
     "name": "stdout",
     "output_type": "stream",
     "text": [
      "MoviePy - Building file BEN_8.gif with imageio.\n"
     ]
    },
    {
     "name": "stderr",
     "output_type": "stream",
     "text": [
      "                                                              \r"
     ]
    }
   ],
   "source": [
    "# make a gif file\n",
    "\n",
    "frame_per_second = 8\n",
    "im = mpy.ImageSequenceClip(imagefiles, fps=frame_per_second)\n",
    "im.write_gif('BEN_8.gif', fps=frame_per_second)"
   ]
  },
  {
   "cell_type": "code",
   "execution_count": 32,
   "metadata": {},
   "outputs": [
    {
     "data": {
      "text/html": [
       "<img src='BEN_8.gif'></img>"
      ],
      "text/plain": [
       "<IPython.core.display.HTML object>"
      ]
     },
     "execution_count": 32,
     "metadata": {},
     "output_type": "execute_result"
    }
   ],
   "source": [
    "# display the gif in this notebook\n",
    "\n",
    "from IPython import display\n",
    "\n",
    "display.HTML(\"<img src='BEN_8.gif'></img>\")"
   ]
  },
  {
   "cell_type": "code",
   "execution_count": 33,
   "metadata": {},
   "outputs": [],
   "source": [
    "#トラジェクトリーをASEで読み込んでQuantumEspressoの入力ファイルを出力する\n",
    "filename = \"BEN8\"\n",
    "for i,snapshot in enumerate(traj) :\n",
    "    snapshot.save_gro(\"temp.gro\")\n",
    "    atoms1 = ase.io.read('temp.gro') # ちゃんとAngstrom単位に変換されている！！\n",
    "    atoms1.write(\"./output/\"+filename+\"_\"+str(i)+\".in\",format=\"espresso-in\")"
   ]
  },
  {
   "cell_type": "code",
   "execution_count": 35,
   "metadata": {},
   "outputs": [],
   "source": [
    "traj[-1].save_gro(\"temp.gro\")\n",
    "atoms1 = ase.io.read('temp.gro')"
   ]
  },
  {
   "cell_type": "code",
   "execution_count": 40,
   "metadata": {},
   "outputs": [],
   "source": [
    "# atoms1.get_chemical_symbols()\n",
    "# atoms1.get_cell()\n",
    "# atoms1.get_positions()\n",
    "\n",
    "# sorted(atoms1.get_chemical_symbols())"
   ]
  },
  {
   "cell_type": "markdown",
   "metadata": {},
   "source": [
    "## CPMD用に原子の順番を並び替える\n",
    "\n",
    "### CPMDでは原子種ごとに並べる必要がある．"
   ]
  },
  {
   "cell_type": "code",
   "execution_count": 96,
   "metadata": {},
   "outputs": [
    {
     "name": "stdout",
     "output_type": "stream",
     "text": [
      "Cell([12.9116, 12.9116, 12.9116])\n",
      " tmp :: atoms1.get_chemical_symbols()\n",
      "['C', 'O', 'H', 'H', 'H', 'H', 'C', 'O', 'H', 'H', 'H', 'H', 'C', 'O', 'H', 'H', 'H', 'H', 'C', 'O', 'H', 'H', 'H', 'H', 'C', 'O', 'H', 'H', 'H', 'H', 'C', 'O', 'H', 'H', 'H', 'H', 'C', 'O', 'H', 'H', 'H', 'H', 'C', 'O', 'H', 'H', 'H', 'H', 'C', 'O', 'H', 'H', 'H', 'H', 'C', 'O', 'H', 'H', 'H', 'H', 'C', 'O', 'H', 'H', 'H', 'H', 'C', 'O', 'H', 'H', 'H', 'H', 'C', 'O', 'H', 'H', 'H', 'H', 'C', 'O', 'H', 'H', 'H', 'H', 'C', 'O', 'H', 'H', 'H', 'H', 'C', 'O', 'H', 'H', 'H', 'H', 'C', 'O', 'H', 'H', 'H', 'H', 'C', 'O', 'H', 'H', 'H', 'H', 'C', 'O', 'H', 'H', 'H', 'H', 'C', 'O', 'H', 'H', 'H', 'H', 'C', 'O', 'H', 'H', 'H', 'H', 'C', 'O', 'H', 'H', 'H', 'H', 'C', 'O', 'H', 'H', 'H', 'H', 'C', 'O', 'H', 'H', 'H', 'H', 'C', 'O', 'H', 'H', 'H', 'H', 'C', 'O', 'H', 'H', 'H', 'H', 'C', 'O', 'H', 'H', 'H', 'H', 'C', 'O', 'H', 'H', 'H', 'H', 'C', 'O', 'H', 'H', 'H', 'H', 'C', 'O', 'H', 'H', 'H', 'H', 'C', 'O', 'H', 'H', 'H', 'H', 'C', 'O', 'H', 'H', 'H', 'H']\n"
     ]
    }
   ],
   "source": [
    "# temp.groを読み込み\n",
    "import ase.io\n",
    "atoms1 = ase.io.read('temp.gro')\n",
    "\n",
    "tmp=atoms1.get_chemical_symbols()\n",
    "tmp2=atoms1.get_positions()/12.9116  # 分極座標を取得する\n",
    "\n",
    "# get_cellを実行\n",
    "print(atoms1.get_cell())\n",
    "\n",
    "print(\" tmp :: atoms1.get_chemical_symbols()\")\n",
    "print( tmp)"
   ]
  },
  {
   "cell_type": "code",
   "execution_count": 102,
   "metadata": {},
   "outputs": [
    {
     "name": "stdout",
     "output_type": "stream",
     "text": [
      " ソート後の原子\n",
      "['C', 'C', 'C', 'C', 'C', 'C', 'C', 'C', 'C', 'C', 'C', 'C', 'C', 'C', 'C', 'C', 'C', 'C', 'C', 'C', 'C', 'C', 'C', 'C', 'C', 'C', 'C', 'C', 'C', 'C', 'C', 'C', 'H', 'H', 'H', 'H', 'H', 'H', 'H', 'H', 'H', 'H', 'H', 'H', 'H', 'H', 'H', 'H', 'H', 'H', 'H', 'H', 'H', 'H', 'H', 'H', 'H', 'H', 'H', 'H', 'H', 'H', 'H', 'H', 'H', 'H', 'H', 'H', 'H', 'H', 'H', 'H', 'H', 'H', 'H', 'H', 'H', 'H', 'H', 'H', 'H', 'H', 'H', 'H', 'H', 'H', 'H', 'H', 'H', 'H', 'H', 'H', 'H', 'H', 'H', 'H', 'H', 'H', 'H', 'H', 'H', 'H', 'H', 'H', 'H', 'H', 'H', 'H', 'H', 'H', 'H', 'H', 'H', 'H', 'H', 'H', 'H', 'H', 'H', 'H', 'H', 'H', 'H', 'H', 'H', 'H', 'H', 'H', 'H', 'H', 'H', 'H', 'H', 'H', 'H', 'H', 'H', 'H', 'H', 'H', 'H', 'H', 'H', 'H', 'H', 'H', 'H', 'H', 'H', 'H', 'H', 'H', 'H', 'H', 'H', 'H', 'H', 'H', 'H', 'H', 'O', 'O', 'O', 'O', 'O', 'O', 'O', 'O', 'O', 'O', 'O', 'O', 'O', 'O', 'O', 'O', 'O', 'O', 'O', 'O', 'O', 'O', 'O', 'O', 'O', 'O', 'O', 'O', 'O', 'O', 'O', 'O']\n"
     ]
    }
   ],
   "source": [
    "\n",
    "# まず，原子種と座標を持ったリストanswerを作成\n",
    "answer=[]\n",
    "\n",
    "for i in range(len(tmp)):\n",
    "    answer.append([tmp[i], tmp2[i][0],tmp2[i][1],tmp2[i][2] ])\n",
    "\n",
    "# answerを原子種でソート\n",
    "answer2 = sorted(answer, key=lambda x:x[0])\n",
    "\n",
    "print(\" ソート後の原子\")\n",
    "print([i[0] for i in answer2])\n"
   ]
  },
  {
   "cell_type": "code",
   "execution_count": 130,
   "metadata": {},
   "outputs": [
    {
     "name": "stdout",
     "output_type": "stream",
     "text": [
      "[0, 6, 12, 18, 24, 30, 36, 42, 48, 54, 60, 66, 72, 78, 84, 90, 96, 102, 108, 114, 120, 126, 132, 138, 144, 150, 156, 162, 168, 174, 180, 186, 2, 3, 4, 5, 8, 9, 10, 11, 14, 15, 16, 17, 20, 21, 22, 23, 26, 27, 28, 29, 32, 33, 34, 35, 38, 39, 40, 41, 44, 45, 46, 47, 50, 51, 52, 53, 56, 57, 58, 59, 62, 63, 64, 65, 68, 69, 70, 71, 74, 75, 76, 77, 80, 81, 82, 83, 86, 87, 88, 89, 92, 93, 94, 95, 98, 99, 100, 101, 104, 105, 106, 107, 110, 111, 112, 113, 116, 117, 118, 119, 122, 123, 124, 125, 128, 129, 130, 131, 134, 135, 136, 137, 140, 141, 142, 143, 146, 147, 148, 149, 152, 153, 154, 155, 158, 159, 160, 161, 164, 165, 166, 167, 170, 171, 172, 173, 176, 177, 178, 179, 182, 183, 184, 185, 188, 189, 190, 191, 1, 7, 13, 19, 25, 31, 37, 43, 49, 55, 61, 67, 73, 79, 85, 91, 97, 103, 109, 115, 121, 127, 133, 139, 145, 151, 157, 163, 169, 175, 181, 187]\n"
     ]
    }
   ],
   "source": [
    "# 一方で，後で機械学習をするために配列のインデックスを取得して，逆変換を行えるようにする．\n",
    "# sortedでは，ソートするkeyが同じ値だった場合，他の最初の要素の順序を保つようにソートする（stableという性質らしい．https://docs.python.org/ja/3/howto/sorting.html 参照．）\n",
    "# そこで，answerの後ろにインデックス用の番号を降るようにする．\n",
    "import numpy as np\n",
    "\n",
    "# ソート用のリストを作成\n",
    "list=np.arange(len(answer))\n",
    "list_for_sort=[[i[0],i[1],i[2],i[3],j] for i,j in zip(answer,list)]\n",
    "\n",
    "sort_index=[i[4] for i in sorted(list_for_sort, key=lambda x:x[0])]\n",
    "print(sort_index)\n",
    "np.savetxt(\"sort_index_1129.txt\",np.array(sort_index))\n"
   ]
  },
  {
   "cell_type": "code",
   "execution_count": 104,
   "metadata": {},
   "outputs": [
    {
     "name": "stdout",
     "output_type": "stream",
     "text": [
      "\n",
      "[[42, 'C'], [96, 'C'], [90, 'C'], [150, 'C'], [36, 'C'], [108, 'C'], [114, 'C'], [168, 'C'], [132, 'C'], [18, 'C'], [162, 'C'], [12, 'C'], [6, 'C'], [60, 'C'], [24, 'C'], [72, 'C'], [174, 'C'], [180, 'C'], [156, 'C'], [102, 'C'], [0, 'C'], [144, 'C'], [78, 'C'], [30, 'C'], [54, 'C'], [66, 'C'], [126, 'C'], [186, 'C'], [48, 'C'], [84, 'C'], [138, 'C'], [120, 'C'], [47, 'H'], [95, 'H'], [98, 'H'], [154, 'H'], [113, 'H'], [39, 'H'], [45, 'H'], [93, 'H'], [46, 'H'], [155, 'H'], [110, 'H'], [100, 'H'], [99, 'H'], [101, 'H'], [173, 'H'], [152, 'H'], [41, 'H'], [111, 'H'], [92, 'H'], [40, 'H'], [94, 'H'], [44, 'H'], [118, 'H'], [153, 'H'], [116, 'H'], [38, 'H'], [119, 'H'], [112, 'H'], [136, 'H'], [171, 'H'], [65, 'H'], [117, 'H'], [20, 'H'], [172, 'H'], [166, 'H'], [16, 'H'], [167, 'H'], [9, 'H'], [170, 'H'], [137, 'H'], [28, 'H'], [23, 'H'], [134, 'H'], [14, 'H'], [135, 'H'], [11, 'H'], [165, 'H'], [27, 'H'], [22, 'H'], [74, 'H'], [15, 'H'], [63, 'H'], [21, 'H'], [8, 'H'], [17, 'H'], [164, 'H'], [26, 'H'], [64, 'H'], [10, 'H'], [62, 'H'], [182, 'H'], [76, 'H'], [161, 'H'], [178, 'H'], [176, 'H'], [104, 'H'], [75, 'H'], [29, 'H'], [177, 'H'], [105, 'H'], [184, 'H'], [160, 'H'], [159, 'H'], [183, 'H'], [4, 'H'], [158, 'H'], [77, 'H'], [179, 'H'], [106, 'H'], [148, 'H'], [107, 'H'], [2, 'H'], [185, 'H'], [147, 'H'], [146, 'H'], [83, 'H'], [57, 'H'], [82, 'H'], [34, 'H'], [32, 'H'], [3, 'H'], [80, 'H'], [131, 'H'], [35, 'H'], [58, 'H'], [191, 'H'], [5, 'H'], [53, 'H'], [33, 'H'], [81, 'H'], [68, 'H'], [71, 'H'], [56, 'H'], [125, 'H'], [149, 'H'], [87, 'H'], [59, 'H'], [142, 'H'], [128, 'H'], [188, 'H'], [129, 'H'], [86, 'H'], [50, 'H'], [189, 'H'], [51, 'H'], [69, 'H'], [70, 'H'], [130, 'H'], [190, 'H'], [141, 'H'], [88, 'H'], [124, 'H'], [140, 'H'], [52, 'H'], [89, 'H'], [123, 'H'], [122, 'H'], [143, 'H'], [91, 'O'], [43, 'O'], [37, 'O'], [151, 'O'], [109, 'O'], [97, 'O'], [169, 'O'], [115, 'O'], [61, 'O'], [163, 'O'], [19, 'O'], [133, 'O'], [7, 'O'], [157, 'O'], [13, 'O'], [25, 'O'], [73, 'O'], [181, 'O'], [103, 'O'], [175, 'O'], [79, 'O'], [1, 'O'], [127, 'O'], [67, 'O'], [55, 'O'], [187, 'O'], [31, 'O'], [145, 'O'], [49, 'O'], [121, 'O'], [85, 'O'], [139, 'O']]\n",
      "\n",
      " \n",
      " 再ソートした結果\n",
      "['C', 'O', 'H', 'H', 'H', 'H', 'C', 'O', 'H', 'H', 'H', 'H', 'C', 'O', 'H', 'H', 'H', 'H', 'C', 'O', 'H', 'H', 'H', 'H', 'C', 'O', 'H', 'H', 'H', 'H', 'C', 'O', 'H', 'H', 'H', 'H', 'C', 'O', 'H', 'H', 'H', 'H', 'C', 'O', 'H', 'H', 'H', 'H', 'C', 'O', 'H', 'H', 'H', 'H', 'C', 'O', 'H', 'H', 'H', 'H', 'C', 'O', 'H', 'H', 'H', 'H', 'C', 'O', 'H', 'H', 'H', 'H', 'C', 'O', 'H', 'H', 'H', 'H', 'C', 'O', 'H', 'H', 'H', 'H', 'C', 'O', 'H', 'H', 'H', 'H', 'C', 'O', 'H', 'H', 'H', 'H', 'C', 'O', 'H', 'H', 'H', 'H', 'C', 'O', 'H', 'H', 'H', 'H', 'C', 'O', 'H', 'H', 'H', 'H', 'C', 'O', 'H', 'H', 'H', 'H', 'C', 'O', 'H', 'H', 'H', 'H', 'C', 'O', 'H', 'H', 'H', 'H', 'C', 'O', 'H', 'H', 'H', 'H', 'C', 'O', 'H', 'H', 'H', 'H', 'C', 'O', 'H', 'H', 'H', 'H', 'C', 'O', 'H', 'H', 'H', 'H', 'C', 'O', 'H', 'H', 'H', 'H', 'C', 'O', 'H', 'H', 'H', 'H', 'C', 'O', 'H', 'H', 'H', 'H', 'C', 'O', 'H', 'H', 'H', 'H', 'C', 'O', 'H', 'H', 'H', 'H', 'C', 'O', 'H', 'H', 'H', 'H']\n",
      "[[0.974317667833576, 1.0037485671799002, 0.16651693051209765], [0.7799188326775921, 0.3462003159949193, 0.8016047585117259], [1.013817032745748, 0.9433377737848136, 0.21298677158524118], [0.27417206233154684, 0.5560890981752842, 0.8620155519068124], [0.2540351311998513, 0.6869791505313053, 0.06273428544874377], [0.6831066637752099, 0.30747544843396635, 0.6172743889215899], [0.4987762941850739, 0.511942749155798, 0.09448867684872518], [0.5731280399021036, 0.552991108770408, 0.02091142848291459], [0.817094705536107, 0.7706248644629635, 0.9448867684872517], [0.7009201028532484, 0.5909414789801419, 0.5971374577898944], [0.9634747049165091, 0.4848353418631308, 0.421326559063168], [0.9162303664921466, 0.7442919545215155, 0.30050497227299483], [0.8635645466092506, 0.7156355525264104, 0.236996189473032], [0.9797391492921094, 0.5196877226679886, 0.26410359676569906], [0.289662009355928, 0.7985067691068496, 0.6072059233557421], [0.4801883577558165, 0.4290715325753587, 0.08442021128287742], [0.8039282505653831, 0.06118529074630565, 0.40428761733634877], [0.7047925896093435, 0.7721738591654017, 1.0300814771213482], [0.777595340623935, 0.5700300504972272, 0.6273428544874378], [0.3268378822144428, 0.7349979863068868, 0.6226958703801234], [0.9131323770872705, -0.04104835961461012, 0.46160042132655904], [0.7342234889556678, 0.8875739644970414, 0.9534062393506615], [0.42597354317048236, 0.5467951299606555, 0.08132222187800119], [0.44068899284364443, 0.8449766101799931, 0.657548251184981], [0.9255243347067754, 0.4840608445119118, 0.3477493106973574], [0.02168592583413365, 0.6676167167508287, 0.5336286749899315], [0.9069363982775179, 0.40428761733634877, 0.32528888751200474], [0.8294866631556119, 0.8503980916385266, 0.15954645435112613], [0.4708943895411878, 0.7063415843117817, 0.6784596796678956], [0.1432820099755259, 0.20601629542426966, 0.6381858174045045], [0.9402397843799375, 0.8542705783946218, 0.7016946002044674], [0.473992378946064, 0.054989311936553174, 0.07977322717556307], [0.39964063322903437, 0.5018742835899501, 0.9015149168189844], [0.6513522723752285, 0.38105269679977694, 0.5065212676972645], [0.3864741782583104, 0.6358623253508472, 0.8573685677994981], [0.9518572446482234, 0.9239753400043371, 0.7466154465751728], [0.43913999814120636, 0.816320208184888, 0.08984169274141084], [0.4840608445119118, 0.30515195638030923, 0.6668422193996096], [0.09293968214628706, 0.3508473001022337, 0.03485238080485764], [0.343102326590043, 0.24706465503887975, 0.8534960810434029], [0.5351776696923696, 0.7427429598190775, -0.003097989404876235], [0.4569534372192447, 0.868986028067784, 0.15335047554137365], [0.6753616902630194, 0.3438768239412622, 0.20988878218036494], [0.39964063322903437, 0.25868211530716567, 1.0021995724774622], [0.8132222187800118, 0.08209671922922024, 0.868986028067784], [0.4662474054338734, 0.19517333250720284, 0.8736330121750984], [0.39576814647293906, 0.18587936429257412, 0.6017844418972087], [0.6637442299947335, 0.3361318504290715, 0.12779206295114473], [0.29895597757055675, 0.9255243347067754, 0.27417206233154684], [0.2091142848291459, 0.9735431704823568, 0.315994919297376], [0.35859227361442425, 0.9774156572384524, 0.25713312060472754], [0.3291613742681, 0.8635645466092506, 0.3221908981071285], [0.6637442299947335, 0.9046129062238607, 0.7675268750580874], [0.6683912141020477, 0.24706465503887975, 0.49335481272654047], [0.6970476160971529, 0.3136714272437189, 0.5351776696923696], [0.8085752346726975, 0.32838687691688095, 0.512717246507017], [0.05344031723411506, 0.9805136466433285, 0.8984169274141082], [0.935592800272623, 0.3725332259363673, 0.7683013724093064], [0.8596920598531554, 0.8333591499117075, 0.6784596796678956], [0.5584125902289414, 0.18510486694135503, 0.10997862387310635], [0.7357724836581059, 0.7985067691068496, 0.9534062393506615], [0.8527215836921838, 0.10378264506335388, 0.44456147959973974], [1.0045230645311192, 0.4670219027850924, 0.21531026363889838], [0.6350878279996282, 0.5103937544533598, 0.03640137550729576], [0.8465256048824313, 0.525109204126522, 0.35162179745345273], [0.11772359738529695, 0.3601412683168624, 0.46160042132655904], [0.1301155550048019, 0.9464357631896898, 0.882926980389727], [0.9983270857213667, 0.7683013724093064, 0.7481644412776108], [0.1564484649462499, 0.9627002075652903, 0.804702747916602], [0.1432820099755259, 0.935592800272623, 0.30205396697543296], [0.49490380742897866, -0.06660677220483904, 0.473992378946064], [0.19052634839988847, 0.9797391492921094, 0.9286223241116516], [0.12779206295114473, 0.6288918491898758, 0.5065212676972645], [0.17271290932185013, 0.16032095170234517, 0.6900771399361815], [0.5243347067753029, 0.525883701477741, 0.17271290932185013], [0.13631153381455433, 0.13166454970724, 0.8449766101799931], [0.11307661327798259, 0.5622850769850367, 0.45230645311193035], [0.2114377768828031, 1.0486694135506058, 0.49180581802410234], [0.35936677096564335, 0.5560890981752842, 0.8418786207751169], [0.8782799962824127, 0.9681216890238236, 0.13398804176089718], [0.36169026301930046, 0.5708045478484464, 0.6908516372874005], [0.841104123423898, 0.2579076179559466, 0.4980017968338548], [0.7613308962483348, 0.4066111093900059, 0.7543604200873634], [0.9069363982775179, 0.26100560736082284, 0.8434276154775551], [0.5344031723411505, 0.0038724867560952945, 0.4430124848973016], [0.619597880975247, 0.9448867684872517, 0.7233805260386009], [0.3376808451315097, 0.3601412683168624, 0.3965426438241581], [0.578549521360637, 0.07977322717556307, 0.20059481396573622], [0.4778648657021593, 1.0091700486384336, 0.7628798909507729], [0.8790544936336318, 0.5405991511509031, 0.07512624306824871], [0.4073856067412249, 0.27417206233154684, 0.5955884630874563], [0.738095975711763, 0.26487809411691815, 0.24706465503887975], [0.368660739180272, 0.8465256048824313, 0.05034232782923882], [0.4027386226339106, 0.18510486694135503, 1.0207875089067195], [0.7086650763654389, 0.04569534372192447, 0.948759255243347], [0.7102140710678769, 0.42365005111682524, 0.2199572477462127], [0.4143560829021965, 0.262554602063261, 0.8914464512531367], [0.804702747916602, 0.17038941726819296, 1.002974069828681], [0.6017844418972087, 0.3462003159949193, 0.25326063384863223], [0.3198674060534713, 0.19904581926329815, 0.34852380804857647], [0.4530809504631494, 0.368660739180272, 0.7024690975556864], [0.4422379875460825, 0.25326063384863223, 0.3539452895071099], [0.23622169212181293, 0.9905821122091761, 0.5467951299606555], [0.12934105765358284, 0.7830168220824685, 0.10688063446823012], [0.13708603116577342, 0.26952507822423244, 0.8000557638092877], [0.5498931193655318, 0.804702747916602, 0.34542581864370026], [0.18820285634623127, 0.9921311069116142, 0.619597880975247], [1.0231110009603765, 1.026208990365253, 0.10765513181944919], [0.7528114253849251, 0.11385111062920164, 0.9232008426531181], [0.52665819882896, 0.8155457108336689, 0.02091142848291459], [0.3376808451315097, 0.3128969298924998, 0.6134019021654946], [0.4182285696582918, 0.7411939651166394, 0.12082158679017319], [0.16032095170234517, 0.30824994578518544, 0.236996189473032], [0.4492084637070541, 0.3400043371851668, 0.8651135413116887], [0.14947798878527838, 0.3152204219461569, 0.08984169274141084], [0.030205396697543296, 0.2757210570339849, 0.5708045478484464], [0.21685925834133649, 0.3663372471266148, 0.08984169274141084], [-0.030205396697543296, 0.3136714272437189, 0.5467951299606555], [0.7055670869605626, 0.16729142786331672, 0.8782799962824127], [0.17271290932185013, 0.2424176709315654, 0.05421481458533412], [0.8922209486043557, 0.4848353418631308, 0.011617460268285883], [0.6343133306484091, 0.0023234920536571763, 0.48560983921434986], [0.9518572446482234, 0.4375910034387682, 0.04104835961461012], [0.9131323770872705, 0.5235602094240839, -0.06041079339508659], [0.5870689922240466, 1.079649307599368, 0.8023792558629449], [0.12779206295114473, 0.8225161869946406, 0.9627002075652903], [0.5646085690386939, 0.09991015830725859, 0.118498094736516], [0.381827194150996, 0.5158152359118932, 0.7396449704142011], [0.4530809504631494, 0.47011989218996875, 0.3221908981071285], [0.33071036897053807, 0.5204622200192076, 0.29430899346324235], [0.5405991511509031, 0.0046469841073143526, 0.35936677096564335], [0.9867096254530809, 0.8705350227702223, 0.631989838594752], [0.9232008426531181, 0.03795037020973388, 0.4941293100777595], [0.7915362929458781, 0.7930852876483162, 0.19749682456085998], [0.45927692927290187, 0.7597819015458968, 0.5460206326094365], [0.8217416896434214, 0.6513522723752285, 0.27339756498032775], [0.18355587223891695, 0.3198674060534713, 0.578549521360637], [0.855045075745841, 0.6552247591313237, 0.7280275101459152], [0.5553146008240651, 1.0021995724774622, 0.7930852876483162], [0.8000557638092877, 0.421326559063168, -0.0007744973512190588], [0.552216611419189, 0.9696706837262616, 0.8705350227702223], [0.6366368227020662, -0.013166454970724, 0.5630595743362558], [0.48560983921434986, -0.014715449673162118, 0.04879333312680071], [0.7954087797019734, 0.4050621146875678, -0.07512624306824871], [0.882152483038508, 0.3097989404876235, 0.7799188326775921], [0.33690634778029055, 0.4298460299265777, 0.42829703522413953], [0.8759565042287556, 0.262554602063261, 0.7164100498776295], [0.8380061340190217, 1.026208990365253, 0.105331639765792], [0.22770222125840328, 0.8906719539019177, 0.4313950246290158], [0.631989838594752, 0.0712537563121534, 0.07512624306824871], [0.381827194150996, 0.22305523715108894, 0.29895597757055675], [0.3601412683168624, 0.30747544843396635, 0.2199572477462127], [0.37872920474611976, 0.2935344961120233, 0.14870349143405928], [0.7698503671117445, 0.23931968152668917, 1.0045230645311192], [0.8031537532141639, 0.29818148021933766, 0.26332909941448], [0.4313950246290158, 0.2780445490876421, 0.5165897332631122], [0.17426190402428823, 0.685430155828867, 0.08364571393165836], [0.6753616902630194, 0.7683013724093064, 0.8658880386629079], [0.05963629604386753, 0.7760463459214969, 0.13398804176089718], [0.1301155550048019, 0.6529012670776666, 0.02091142848291459], [0.6621952352922954, 0.7326744942532296, 0.24319216828278448], [0.17271290932185013, 0.6033334365996469, 0.5731280399021036], [0.43216952198023484, 0.7628798909507729, 0.6257938597849996], [0.7946342823507544, 0.6157253942191517, 0.7280275101459152], [0.6869791505313053, 0.6931751293410576, 0.8596920598531554], [0.9170048638433657, 0.6877536478825244, 0.17503640137550733], [1.000650577775024, 0.06970476160971528, 0.47011989218996875], [0.8372316366678025, 0.5994609498435516, 0.5746770346045417], [0.11152761857554447, 0.34852380804857647, 0.5475696273118745], [0.10145915300969671, 0.31212243254128075, 0.18820285634623127], [0.7845658167849066, 0.48560983921434986, 0.632764335945971], [0.10068465565847765, 0.42365005111682524, 0.5824220081167322], [0.9162303664921466, 0.04104835961461012, 0.5816475107655131], [0.421326559063168, 0.16264444375600237, 0.25868211530716567], [0.118498094736516, 0.1866538616437932, 0.7791443353263732], [0.22847671860962235, 0.8867994671458224, 0.5088447597509217], [0.03640137550729576, 0.17968338548282167, 0.7605563988971158], [0.5173642306143313, 0.6730381982093621, 0.4004151305802534], [0.030979894048762356, 0.7040180922581245, 0.5963629604386753], [0.315994919297376, 1.0076210539359955, 0.565383066389913], [0.578549521360637, 0.7280275101459152, 0.37175872858514825], [0.6288918491898758, 0.6800086743703336, 0.28733851730227083], [0.171163914619412, 0.6869791505313053, 0.4677964001363115], [0.1634189411072214, 0.6374113200532855, 0.15102698348771648], [0.6366368227020662, 0.7466154465751728, 0.4368165060875492], [0.9688961863750425, 1.064159360574987, 0.22460423185352704], [0.38337618885343416, 0.5018742835899501, 0.36169026301930046], [0.12856656030236377, 0.8380061340190217, 0.8867994671458224], [0.4120325908485393, 0.5708045478484464, 0.4027386226339106], [0.276495554385204, 0.8767310015799745, 0.20524179807305062], [0.4894823259704452, 0.06970476160971528, 0.46160042132655904], [1.0509929056042628, 0.7977322717556307, 0.8008302611605068]]\n"
     ]
    }
   ],
   "source": [
    "# sort_listを使って，answer2からanswerを復元する\n",
    "answer_atomslist=[]\n",
    "\n",
    "atom_list=[i[0] for i in answer2 ]\n",
    "coord_list=[[i[1],i[2],i[3]] for i in answer2 ]\n",
    "\n",
    "# sort_indexとリストを結合\n",
    "atom_sort_list=[[i,j] for i,j in zip(sort_index,atom_list)]\n",
    "coord_sort_list=[[i,j] for i,j in zip(sort_index,coord_list)]\n",
    "print(\"\")\n",
    "print(atom_sort_list)\n",
    "print(\"\")\n",
    "\n",
    "# sort_indexに従って配列を並べ直す．\n",
    "sorted_atom_list= [i[1] for i in sorted(atom_sort_list, key=lambda x:x[0])]\n",
    "sorted_coord_list=[i[1] for i in sorted(coord_sort_list, key=lambda x:x[0])]\n",
    "print(\" \")\n",
    "print(\" 再ソートした結果\")\n",
    "print(sorted_atom_list)\n",
    "# print(sorted_coord_list)\n"
   ]
  },
  {
   "cell_type": "code",
   "execution_count": 118,
   "metadata": {},
   "outputs": [
    {
     "name": "stdout",
     "output_type": "stream",
     "text": [
      "['C', 0.6753616902630194, 0.3438768239412622, 0.20988878218036494]\n",
      "['C', 0.11152761857554447, 0.34852380804857647, 0.5475696273118745]\n"
     ]
    }
   ],
   "source": [
    "# 並べ替えた後のanswer2[0]と対応しているのはanswerのどれか？\n",
    "# 今までは，sort_index[0]と思っていたが，どうも違うのか？\n",
    "print(answer2[0])\n",
    "print(answer[42])\n"
   ]
  },
  {
   "cell_type": "code",
   "execution_count": null,
   "metadata": {},
   "outputs": [],
   "source": []
  },
  {
   "cell_type": "code",
   "execution_count": 74,
   "metadata": {},
   "outputs": [
    {
     "name": "stdout",
     "output_type": "stream",
     "text": [
      "C 32\n",
      "H 128\n",
      "O 32\n",
      "num_atom {'C': 32, 'H': 128, 'O': 32}\n",
      "C\n",
      "32\n",
      "0.675362  0.343877  0.209889\n",
      "0.414356  0.262555  0.891446\n",
      "0.407386  0.274172  0.595588\n",
      "0.381827  0.223055  0.298956\n",
      "0.439140  0.816320  0.089842\n",
      "0.752811  0.113851  0.923201\n",
      "0.149478  0.315220  0.089842\n",
      "0.111528  0.348524  0.547570\n",
      "0.923201  0.037950  0.494129\n",
      "0.777595  0.570030  0.627343\n",
      "0.432170  0.762880  0.625794\n",
      "0.863565  0.715636  0.236996\n",
      "0.498776  0.511943  0.094489\n",
      "0.735772  0.798507  0.953406\n",
      "0.925524  0.484061  0.347749\n",
      "0.127792  0.628892  0.506521\n",
      "0.118498  0.186654  0.779144\n",
      "0.578550  0.728028  0.371759\n",
      "0.174262  0.685430  0.083646\n",
      "0.236222  0.990582  0.546795\n",
      "0.974318  1.003749  0.166517\n",
      "0.882152  0.309799  0.779919\n",
      "0.359367  0.556089  0.841879\n",
      "0.940240  0.854271  0.701695\n",
      "0.697048  0.313671  0.535178\n",
      "0.130116  0.946436  0.882927\n",
      "0.564609  0.099910  0.118498\n",
      "0.383376  0.501874  0.361690\n",
      "0.298956  0.925524  0.274172\n",
      "0.534403  0.003872  0.443012\n",
      "0.555315  1.002200  0.793085\n",
      "0.892221  0.484835  0.011617\n",
      "\n",
      "H\n",
      "128\n",
      "0.663744  0.336132  0.127792\n",
      "0.710214  0.423650  0.219957\n",
      "0.601784  0.346200  0.253261\n",
      "0.803154  0.298181  0.263329\n",
      "0.449208  0.340004  0.865114\n",
      "0.343102  0.247065  0.853496\n",
      "0.466247  0.195173  0.873633\n",
      "0.402739  0.185105  1.020788\n",
      "0.395768  0.185879  0.601784\n",
      "0.431395  0.278045  0.516590\n",
      "0.337681  0.312897  0.613402\n",
      "0.453081  0.368661  0.702469\n",
      "0.319867  0.199046  0.348524\n",
      "0.442238  0.253261  0.353945\n",
      "0.421327  0.162644  0.258682\n",
      "0.378729  0.293534  0.148703\n",
      "0.456953  0.868986  0.153350\n",
      "0.418229  0.741194  0.120822\n",
      "0.368661  0.846526  0.050342\n",
      "0.535178  0.742743  -0.003098\n",
      "0.708665  0.045695  0.948759\n",
      "0.813222  0.082097  0.868986\n",
      "0.705567  0.167291  0.878280\n",
      "0.769850  0.239320  1.004523\n",
      "0.216859  0.366337  0.089842\n",
      "0.092940  0.350847  0.034852\n",
      "0.172713  0.242418  0.054215\n",
      "0.160321  0.308250  0.236996\n",
      "0.183556  0.319867  0.578550\n",
      "0.100685  0.423650  0.582422\n",
      "0.117724  0.360141  0.461600\n",
      "-0.030205  0.313671  0.546795\n",
      "0.913132  -0.041048  0.461600\n",
      "0.916230  0.041048  0.581648\n",
      "1.000651  0.069705  0.470120\n",
      "0.803928  0.061185  0.404288\n",
      "0.837232  0.599461  0.574677\n",
      "0.700920  0.590941  0.597137\n",
      "0.784566  0.485610  0.632764\n",
      "0.855045  0.655225  0.728028\n",
      "0.470894  0.706342  0.678460\n",
      "0.440689  0.844977  0.657548\n",
      "0.459277  0.759782  0.546021\n",
      "0.289662  0.798507  0.607206\n",
      "0.821742  0.651352  0.273398\n",
      "0.916230  0.744292  0.300505\n",
      "0.917005  0.687754  0.175036\n",
      "0.829487  0.850398  0.159546\n",
      "0.425974  0.546795  0.081322\n",
      "0.524335  0.525884  0.172713\n",
      "0.480188  0.429072  0.084420\n",
      "0.635088  0.510394  0.036401\n",
      "0.734223  0.887574  0.953406\n",
      "0.817095  0.770625  0.944887\n",
      "0.704793  0.772174  1.030081\n",
      "0.686979  0.693175  0.859692\n",
      "0.906936  0.404288  0.325289\n",
      "0.846526  0.525109  0.351622\n",
      "0.963475  0.484835  0.421327\n",
      "1.004523  0.467022  0.215310\n",
      "0.171164  0.686979  0.467796\n",
      "0.113077  0.562285  0.452306\n",
      "0.172713  0.603333  0.573128\n",
      "0.030980  0.704018  0.596363\n",
      "0.036401  0.179683  0.760556\n",
      "0.137086  0.269525  0.800056\n",
      "0.136312  0.131665  0.844977\n",
      "0.143282  0.206016  0.638186\n",
      "0.517364  0.673038  0.400415\n",
      "0.549893  0.804703  0.345426\n",
      "0.636637  0.746615  0.436817\n",
      "0.662195  0.732674  0.243192\n",
      "0.130116  0.652901  0.020911\n",
      "0.163419  0.637411  0.151027\n",
      "0.254035  0.686979  0.062734\n",
      "0.059636  0.776046  0.133988\n",
      "0.211438  1.048669  0.491806\n",
      "0.315995  1.007621  0.565383\n",
      "0.188203  0.992131  0.619598\n",
      "0.227702  0.890672  0.431395\n",
      "1.023111  1.026209  0.107655\n",
      "1.013817  0.943338  0.212987\n",
      "0.968896  1.064159  0.224604\n",
      "0.838006  1.026209  0.105332\n",
      "0.875957  0.262555  0.716410\n",
      "0.906936  0.261006  0.843428\n",
      "0.935593  0.372533  0.768301\n",
      "0.761331  0.406611  0.754360\n",
      "0.386474  0.635862  0.857369\n",
      "0.399641  0.501874  0.901515\n",
      "0.274172  0.556089  0.862016\n",
      "0.361690  0.570805  0.690852\n",
      "0.986710  0.870535  0.631990\n",
      "0.951857  0.923975  0.746615\n",
      "0.859692  0.833359  0.678460\n",
      "1.050993  0.797732  0.800830\n",
      "0.683107  0.307475  0.617274\n",
      "0.668391  0.247065  0.493355\n",
      "0.651352  0.381053  0.506521\n",
      "0.841104  0.257908  0.498002\n",
      "0.156448  0.962700  0.804703\n",
      "0.190526  0.979739  0.928622\n",
      "0.053440  0.980514  0.898417\n",
      "0.127792  0.822516  0.962700\n",
      "0.631990  0.071254  0.075126\n",
      "0.578550  0.079773  0.200595\n",
      "0.558413  0.185105  0.109979\n",
      "0.485610  -0.014715  0.048793\n",
      "0.453081  0.470120  0.322191\n",
      "0.412033  0.570805  0.402739\n",
      "0.330710  0.520462  0.294309\n",
      "0.337681  0.360141  0.396543\n",
      "0.358592  0.977416  0.257133\n",
      "0.276496  0.876731  0.205242\n",
      "0.329161  0.863565  0.322191\n",
      "0.143282  0.935593  0.302054\n",
      "0.494904  -0.066607  0.473992\n",
      "0.540599  0.004647  0.359367\n",
      "0.489482  0.069705  0.461600\n",
      "0.636637  -0.013166  0.563060\n",
      "0.477865  1.009170  0.762880\n",
      "0.587069  1.079649  0.802379\n",
      "0.552217  0.969671  0.870535\n",
      "0.663744  0.904613  0.767527\n",
      "0.879054  0.540599  0.075126\n",
      "0.913132  0.523560  -0.060411\n",
      "0.951857  0.437591  0.041048\n",
      "0.795409  0.405062  -0.075126\n",
      "\n",
      "O\n",
      "32\n",
      "0.738096  0.264878  0.247065\n",
      "0.399641  0.258682  1.002200\n",
      "0.484061  0.305152  0.666842\n",
      "0.360141  0.307475  0.219957\n",
      "0.526658  0.815546  0.020911\n",
      "0.804703  0.170389  1.002974\n",
      "0.101459  0.312122  0.188203\n",
      "0.030205  0.275721  0.570805\n",
      "0.852722  0.103783  0.444561\n",
      "0.794634  0.615725  0.728028\n",
      "0.326838  0.734998  0.622696\n",
      "0.791536  0.793085  0.197497\n",
      "0.573128  0.552991  0.020911\n",
      "0.675362  0.768301  0.865888\n",
      "0.979739  0.519688  0.264104\n",
      "0.021686  0.667617  0.533629\n",
      "0.172713  0.160321  0.690077\n",
      "0.628892  0.680009  0.287339\n",
      "0.129341  0.783017  0.106881\n",
      "0.228477  0.886799  0.508845\n",
      "0.878280  0.968122  0.133988\n",
      "0.779919  0.346200  0.801605\n",
      "0.381827  0.515815  0.739645\n",
      "0.998327  0.768301  0.748164\n",
      "0.808575  0.328387  0.512717\n",
      "0.128567  0.838006  0.886799\n",
      "0.473992  0.054989  0.079773\n",
      "0.336906  0.429846  0.428297\n",
      "0.209114  0.973543  0.315995\n",
      "0.634313  0.002323  0.485610\n",
      "0.619598  0.944887  0.723381\n",
      "0.800056  0.421327  -0.000774\n"
     ]
    }
   ],
   "source": [
    "# 原子の要素を取り出す\n",
    "atoms_symbol=sorted(set(tmp))\n",
    "\n",
    "# シンボルごとのカウント\n",
    "num_atom = {}\n",
    "\n",
    "for symbol in atoms_symbol:\n",
    "    print(\"原子種と原子数\", symbol, tmp.count(symbol))\n",
    "    # num_atom.update(symbol = tmp.count(symbol))\n",
    "    num_atom[symbol] = tmp.count(symbol)\n",
    "\n",
    "\n",
    "print(\"num_atom:: \", num_atom)\n",
    "print(\"\")\n",
    "\n",
    "for i, ans in enumerate(answer2):\n",
    "    if i == 0: # 1行目の例外処理\n",
    "        print(ans[0])\n",
    "        print(num_atom[ans[0]])\n",
    "        print(\"{:.6f}  {:.6f}  {:.6f}\".format(ans[1],ans[2],ans[3]))\n",
    "    else:\n",
    "        if prev != ans[0]:\n",
    "            print(\"\")\n",
    "            print(ans[0])\n",
    "            print(num_atom[ans[0]])\n",
    "        print(\"{:.6f}  {:.6f}  {:.6f}\".format(ans[1],ans[2],ans[3]))\n",
    "\n",
    "    # 一つ前の原子を保存\n",
    "    prev = ans[0]\n",
    "    "
   ]
  },
  {
   "cell_type": "markdown",
   "metadata": {},
   "source": [
    "# CPMD用原子種ソートがうまくいっているかの確認．"
   ]
  },
  {
   "cell_type": "code",
   "execution_count": 94,
   "metadata": {},
   "outputs": [
    {
     "name": "stdout",
     "output_type": "stream",
     "text": [
      " ソート前のanswer\n",
      "[['C', 0, 0, 1], ['H', 0, 0, 2], ['O', 0, 0, 3], ['C', 0, 0, 4], ['O', 0, 0, 5]]\n",
      " \n",
      " ソート後のanswer2\n",
      "answer2 [['C', 0, 0, 1], ['C', 0, 0, 4], ['H', 0, 0, 2], ['O', 0, 0, 3], ['O', 0, 0, 5]]\n",
      " \n",
      " ソートリスト\n",
      "sort_index [0, 3, 1, 2, 4]\n",
      " \n",
      "\n",
      "[[0, 'C'], [3, 'C'], [1, 'H'], [2, 'O'], [4, 'O']]\n",
      "\n",
      " \n",
      " 再ソートした結果\n",
      "['C', 'H', 'O', 'C', 'O']\n",
      "[[0, 0, 1], [0, 0, 2], [0, 0, 3], [0, 0, 4], [0, 0, 5]]\n"
     ]
    }
   ],
   "source": [
    "# ソートがちゃんとできているかの実験\n",
    "\n",
    "\n",
    "# まず，原子種と座標を持ったリストanswerを作成\n",
    "answer=[]\n",
    "\n",
    "answer.append([\"C\", 0,0,1])\n",
    "answer.append([\"H\", 0,0,2])\n",
    "answer.append([\"O\", 0,0,3])\n",
    "answer.append([\"C\", 0,0,4])\n",
    "answer.append([\"O\", 0,0,5])\n",
    "\n",
    "print(\" ソート前のanswer\")\n",
    "print(answer)\n",
    "print(\" \")\n",
    "\n",
    "# answerを原子種でソート\n",
    "answer2 = sorted(answer, key=lambda x:x[0])\n",
    "print(\" ソート後のanswer2\")\n",
    "print(\"answer2\", answer2)\n",
    "print(\" \")\n",
    "# 一方で，後で機械学習をするために配列のインデックスを取得して，逆変換を行えるようにする．\n",
    "sort_index=[i[0] for i in sorted(enumerate(answer), key=lambda x:x[1])]\n",
    "print(\" ソートリスト\")\n",
    "print(\"sort_index\", sort_index)\n",
    "print(\" \")\n",
    "\n",
    "# sort_listを使って，answer2からanswerを復元する\n",
    "answer_atomslist=[]\n",
    "\n",
    "atom_list=[i[0] for i in answer2 ]\n",
    "coord_list=[[i[1],i[2],i[3]] for i in answer2 ]\n",
    "\n",
    "# sort_indexとリストを結合\n",
    "atom_sort_list=[[i,j] for i,j in zip(sort_index,atom_list)]\n",
    "coord_sort_list=[[i,j] for i,j in zip(sort_index,coord_list)]\n",
    "print(\"\")\n",
    "print(atom_sort_list)\n",
    "print(\"\")\n",
    "\n",
    "# sort_indexに従って配列を並べ直す．\n",
    "sorted_atom_list= [i[1] for i in sorted(atom_sort_list, key=lambda x:x[0])]\n",
    "sorted_coord_list=[i[1] for i in sorted(coord_sort_list, key=lambda x:x[0])]\n",
    "print(\" \")\n",
    "print(\" 再ソートした結果\")\n",
    "print(sorted_atom_list)\n",
    "print(sorted_coord_list)\n",
    "\n"
   ]
  },
  {
   "cell_type": "code",
   "execution_count": 166,
   "metadata": {},
   "outputs": [],
   "source": [
    "def parser_in(file):\n",
    "    path = file \n",
    "    with open(path) as f:\n",
    "\n",
    "        s = 0\n",
    "        p = 0\n",
    "        d = 0\n",
    "        system_parm=[]\n",
    "        cell_parm = []\n",
    "        atomic_pos = []\n",
    "\n",
    "        for s_line in f:          \n",
    "            #extract &SYSTEM   \n",
    "            if \"SYSTEM\" in s_line :\n",
    "                s = 1\n",
    "                #system_parm = []\n",
    "            if (s == 1) and (\"/\" in s_line ) :\n",
    "                s = 0 \n",
    "            if s == 1 :\n",
    "                system_parm.append(s_line.rstrip('\\n'))    \n",
    "\n",
    "            #extract CELL_PARAMETERS      \n",
    "            if \"CELL_PARAMETERS\" in s_line :\n",
    "                p = 1\n",
    "                #cell_parm = []\n",
    "            if (p == 1) and (len(s_line.split()) == 0 ) :\n",
    "                p = 0 \n",
    "            if p == 1 :\n",
    "                cell_parm.append(s_line.rstrip('\\n'))\n",
    "\n",
    "            #extract ATOMIC_POSITIONS      \n",
    "            if \"ATOMIC_POSITIONS\" in s_line :\n",
    "                d = 1\n",
    "                #atomic_pos = []\n",
    "            if (d == 1) and (len(s_line.split()) == 0 ) :\n",
    "                d = 0 \n",
    "            if d == 1 :\n",
    "                atomic_pos.append(s_line.rstrip('\\n'))    \n",
    "                \n",
    "    return [system_parm,cell_parm,atomic_pos]\n",
    "\n",
    "atom_species = [\n",
    "    \"ATOMIC_SPECIES\",\n",
    "    \"C 12.011 C.pbe-n-rrkjus_psl.1.0.0.UPF\",\n",
    "    \"H 1.008  H.pbe-rrkjus_psl.1.0.0.UPF\",\n",
    "]        \n",
    "        "
   ]
  },
  {
   "cell_type": "code",
   "execution_count": 167,
   "metadata": {},
   "outputs": [],
   "source": [
    "def generate_QE_inp(system_parm,cell_parm,atom_species,atomic_pos,name,nberry,efield):\n",
    "    \n",
    "    system_parm = system_parm\n",
    "    cell_parm   = cell_parm\n",
    "    atomic_pos  = atomic_pos\n",
    "    name        = name \n",
    "    nberry      = nberry\n",
    "    atom_species= atom_species\n",
    "    efield      = efield\n",
    "    \n",
    "    path_w = str(name)+\"_pw.in\"\n",
    "    \n",
    "    cont_parm = [\n",
    "        \"&control\",\n",
    "        \"calculation='scf'\",\n",
    "        \"restart_mode='restart'\",\n",
    "        \"prefix='{}'\".format(str(name)),\n",
    "        \"lelfield=.true. \",\n",
    "        \"nberrycyc={} \".format(int(nberry)),\n",
    "        \"pseudo_dir='./pseudo'  \",\n",
    "        \"outdir='./out' \",\n",
    "        \"tprnfor=.true. \",\n",
    "        \"tstress=.true. \",\n",
    "    ]\n",
    "\n",
    "    system_parm.append(\"ecutwfc=50  \")\n",
    "    system_parm.append(\"ecutrho=200  \")\n",
    "    system_parm.append(\"nosym=.true. \")\n",
    "    #system_parm.append(\"occupations='smearing' , \")\n",
    "    #system_parm.append(\"smearing='gauss' , \")\n",
    "    #system_parm.append(\"degauss=0.01 , \")\n",
    "\n",
    "    elec_parm = [ \"&electrons\" , \n",
    "        #\"diagonalization='david'\", \n",
    "        #\"conv_thr =  1.0d-8\" ,\n",
    "        #\"mixing_beta = 0.5\"  ,\n",
    "        #\"startingwfc='random' \" , \n",
    "        \"efield_cart(1)={}\".format(efield[0]) , \n",
    "        \"efield_cart(2)={}\".format(efield[1]) ,\n",
    "        \"efield_cart(3)={}\".format(efield[2]) , \n",
    "    ]\n",
    "\n",
    "\n",
    "    with open(path_w, mode='w') as f:\n",
    "        #control\n",
    "        for s in cont_parm :\n",
    "            f.write(s+\"\\n\")\n",
    "        f.write(\"/\\n\")\n",
    "        #system\n",
    "        for s in system_parm :\n",
    "            f.write(s+\"\\n\")\n",
    "        f.write(\"/\\n\")\n",
    "        #electrons\n",
    "        for s in elec_parm :\n",
    "            f.write(s+\"\\n\")\n",
    "        f.write(\"/\\n\")\n",
    "        #atom_species\n",
    "        for s in atom_species :\n",
    "            f.write(s+\"\\n\")\n",
    "        f.write(\"\\n\")\n",
    "        #k-points \n",
    "        f.write(\"K_POINTS {automatic}\" +\"\\n\")\n",
    "        f.write(\"1 1 1 0 0 0 \"+\"\\n\")        \n",
    "        f.write(\"\\n\")\n",
    "        #cell\n",
    "        for s in cell_parm :\n",
    "            f.write(s+\"\\n\")\n",
    "        f.write(\"\\n\")\n",
    "        #atomic pos\n",
    "        for s in atomic_pos :\n",
    "            f.write(s+\"\\n\")\n"
   ]
  },
  {
   "cell_type": "code",
   "execution_count": 168,
   "metadata": {},
   "outputs": [],
   "source": [
    "def execute_QE(name) :\n",
    "    import os\n",
    "    import subprocess\n",
    "    from subprocess import PIPE\n",
    "    name = name \n",
    "    input_file  = str(name)+\"_pw.in\"\n",
    "    output_file = str(name)+\"_pw.out\"\n",
    "    os.environ['OMP_NUM_THREADS'] = '6'    \n",
    "    commands = \"pw.x < {0} > {1} \".format(input_file,output_file)\n",
    "    proc = subprocess.run(commands, shell=True, stdout=PIPE, stderr=PIPE,encoding='utf-8')\n",
    "    output = proc.stdout"
   ]
  },
  {
   "cell_type": "code",
   "execution_count": 169,
   "metadata": {},
   "outputs": [],
   "source": [
    "def extract_dipole(file):\n",
    "    path = file \n",
    "    with open(path) as f:\n",
    "\n",
    "        s = 0\n",
    "        #mu_cell_x = []\n",
    "        #mu_cell_y = []\n",
    "        #mu_cell_z = []  \n",
    "\n",
    "        for s_line in f:          \n",
    "            #extract &Dipole Momnet   \n",
    "            if \"Electronic Dipole on Cartesian axes\" in s_line :\n",
    "                s = 1\n",
    "                i = 0\n",
    "            if (s == 1) and (i > 4 ) :\n",
    "                s = 0 \n",
    "            if (s == 1) and (i < 4 ) :\n",
    "                if i == 1  :\n",
    "                    mu_cell_x = float(s_line.split()[1])\n",
    "                if i == 2  :\n",
    "                    mu_cell_y = float(s_line.split()[1])\n",
    "                if i == 3  :\n",
    "                    mu_cell_z = float(s_line.split()[1])\n",
    "                i +=1\n",
    "    return [mu_cell_x, mu_cell_y, mu_cell_z]\n"
   ]
  },
  {
   "cell_type": "code",
   "execution_count": null,
   "metadata": {},
   "outputs": [],
   "source": [
    "\"\"\"\n",
    "The electronic dipole D[0.a.u.] at 0 field is a small number in the\n",
    "order of 1.0d-4.  After the third calculation the electronic dipole\n",
    "D[0.001 a.u.] at 0.001 a.u. field is 0.9265.\n",
    "\n",
    "The high-frequency dielectric constant eps_inf is then given by\n",
    "\n",
    "eps_inf=4*pi*(D[0.001 a.u.]-D[0.0 a.u.])/(0.001 a.u. * Omega) + 1\n",
    "\n",
    "where Omega is the volume of the unit cell (1054.9778 (a.u.)^3). \n",
    "We obtain:\n",
    "\n",
    "eps_inf=12.04\n",
    "\n",
    "(Compare: other DFT calculations, 12.7-13.1 , exp. 11.4 )\n",
    "The result 12.14 is not fully converged with respect to the k-points grid\n",
    "P.Umari and A. Pasquarello, PRB 68, 085114 (2003).\n",
    "\n",
    "\"\"\""
   ]
  },
  {
   "cell_type": "code",
   "execution_count": 170,
   "metadata": {},
   "outputs": [
    {
     "name": "stderr",
     "output_type": "stream",
     "text": [
      "\r\n",
      "0it [00:00, ?it/s]"
     ]
    },
    {
     "name": "stdout",
     "output_type": "stream",
     "text": [
      "-1.0867007360347007 -1.8236002242611027 -11.693738753498845\n",
      "-0.32279904730842934 -1.8152083105304528 -11.707408319311735\n",
      "-1.0797221764381242 -1.120941271802796 -11.680002482577128\n"
     ]
    },
    {
     "name": "stderr",
     "output_type": "stream",
     "text": [
      "\r\n",
      "1it [14:43, 883.26s/it]"
     ]
    },
    {
     "name": "stdout",
     "output_type": "stream",
     "text": [
      "-1.09785303653412 -1.8096137055825334 -10.946336987766825\n",
      "-1.0870487475224495 -1.8239150193592883 -11.69296477933432\n",
      "-0.32282052484876106 -1.8152169925713393 -11.70734530480576\n",
      "-1.0797223984932782 -1.120937753700868 -11.680003349861478\n"
     ]
    },
    {
     "name": "stderr",
     "output_type": "stream",
     "text": [
      "\r\n",
      "2it [30:08, 907.88s/it]"
     ]
    },
    {
     "name": "stdout",
     "output_type": "stream",
     "text": [
      "-1.0978534977418113 -1.8096127790197585 -10.946336621295805\n",
      "-1.087048913176718 -1.8239149828303103 -11.692964872878633\n",
      "-0.3228205272848061 -1.8152169811821064 -11.7073453099696\n",
      "-1.0797223980685988 -1.1209377530554685 -11.680003350282007\n"
     ]
    },
    {
     "name": "stderr",
     "output_type": "stream",
     "text": [
      "\r\n",
      "3it [45:32, 915.34s/it]"
     ]
    },
    {
     "name": "stdout",
     "output_type": "stream",
     "text": [
      "-1.0978534978136933 -1.809612778771719 -10.94633662119898\n",
      "-1.0870489132016783 -1.8239149828191692 -11.6929648728904\n"
     ]
    },
    {
     "name": "stderr",
     "output_type": "stream",
     "text": [
      "3it [49:53, 997.84s/it]\n"
     ]
    },
    {
     "ename": "KeyboardInterrupt",
     "evalue": "",
     "output_type": "error",
     "traceback": [
      "\u001b[0;31m---------------------------------------------------------------------------\u001b[0m",
      "\u001b[0;31mKeyboardInterrupt\u001b[0m                         Traceback (most recent call last)",
      "\u001b[0;32m<ipython-input-170-fe85dab75c9d>\u001b[0m in \u001b[0;36m<module>\u001b[0;34m()\u001b[0m\n\u001b[1;32m     32\u001b[0m     \u001b[0mefield\u001b[0m \u001b[0;34m=\u001b[0m \u001b[0;34m[\u001b[0m\u001b[0;36m0.001\u001b[0m\u001b[0;34m,\u001b[0m \u001b[0;36m0.0\u001b[0m\u001b[0;34m,\u001b[0m \u001b[0;36m0.0\u001b[0m \u001b[0;34m]\u001b[0m\u001b[0;34m\u001b[0m\u001b[0;34m\u001b[0m\u001b[0m\n\u001b[1;32m     33\u001b[0m     \u001b[0mgenerate_QE_inp\u001b[0m\u001b[0;34m(\u001b[0m\u001b[0msystem_parm\u001b[0m\u001b[0;34m,\u001b[0m\u001b[0mcell_parm\u001b[0m\u001b[0;34m,\u001b[0m\u001b[0matom_species\u001b[0m\u001b[0;34m,\u001b[0m\u001b[0matomic_pos\u001b[0m\u001b[0;34m,\u001b[0m\u001b[0mfilename\u001b[0m\u001b[0;34m,\u001b[0m\u001b[0mnberry\u001b[0m\u001b[0;34m,\u001b[0m\u001b[0mefield\u001b[0m\u001b[0;34m)\u001b[0m\u001b[0;34m\u001b[0m\u001b[0;34m\u001b[0m\u001b[0m\n\u001b[0;32m---> 34\u001b[0;31m     \u001b[0mexecute_QE\u001b[0m\u001b[0;34m(\u001b[0m\u001b[0mfilename\u001b[0m\u001b[0;34m)\u001b[0m\u001b[0;34m\u001b[0m\u001b[0;34m\u001b[0m\u001b[0m\n\u001b[0m\u001b[1;32m     35\u001b[0m     \u001b[0mD_fx\u001b[0m\u001b[0;34m,\u001b[0m\u001b[0mD_fy\u001b[0m\u001b[0;34m,\u001b[0m\u001b[0mD_fz\u001b[0m \u001b[0;34m=\u001b[0m \u001b[0mextract_dipole\u001b[0m\u001b[0;34m(\u001b[0m\u001b[0mstr\u001b[0m\u001b[0;34m(\u001b[0m\u001b[0mfilename\u001b[0m\u001b[0;34m)\u001b[0m\u001b[0;34m+\u001b[0m\u001b[0;34m\"_pw.out\"\u001b[0m\u001b[0;34m)\u001b[0m\u001b[0;34m\u001b[0m\u001b[0;34m\u001b[0m\u001b[0m\n\u001b[1;32m     36\u001b[0m     \u001b[0mD_Ex\u001b[0m \u001b[0;34m=\u001b[0m \u001b[0mnp\u001b[0m\u001b[0;34m.\u001b[0m\u001b[0marray\u001b[0m\u001b[0;34m(\u001b[0m\u001b[0;34m[\u001b[0m\u001b[0mD_fx\u001b[0m\u001b[0;34m,\u001b[0m\u001b[0mD_fy\u001b[0m\u001b[0;34m,\u001b[0m\u001b[0mD_fz\u001b[0m\u001b[0;34m]\u001b[0m\u001b[0;34m)\u001b[0m\u001b[0;34m\u001b[0m\u001b[0;34m\u001b[0m\u001b[0m\n",
      "\u001b[0;32m<ipython-input-168-f3ad57d4686d>\u001b[0m in \u001b[0;36mexecute_QE\u001b[0;34m(name)\u001b[0m\n\u001b[1;32m      8\u001b[0m     \u001b[0mos\u001b[0m\u001b[0;34m.\u001b[0m\u001b[0menviron\u001b[0m\u001b[0;34m[\u001b[0m\u001b[0;34m'OMP_NUM_THREADS'\u001b[0m\u001b[0;34m]\u001b[0m \u001b[0;34m=\u001b[0m \u001b[0;34m'6'\u001b[0m\u001b[0;34m\u001b[0m\u001b[0;34m\u001b[0m\u001b[0m\n\u001b[1;32m      9\u001b[0m     \u001b[0mcommands\u001b[0m \u001b[0;34m=\u001b[0m \u001b[0;34m\"pw.x < {0} > {1} \"\u001b[0m\u001b[0;34m.\u001b[0m\u001b[0mformat\u001b[0m\u001b[0;34m(\u001b[0m\u001b[0minput_file\u001b[0m\u001b[0;34m,\u001b[0m\u001b[0moutput_file\u001b[0m\u001b[0;34m)\u001b[0m\u001b[0;34m\u001b[0m\u001b[0;34m\u001b[0m\u001b[0m\n\u001b[0;32m---> 10\u001b[0;31m     \u001b[0mproc\u001b[0m \u001b[0;34m=\u001b[0m \u001b[0msubprocess\u001b[0m\u001b[0;34m.\u001b[0m\u001b[0mrun\u001b[0m\u001b[0;34m(\u001b[0m\u001b[0mcommands\u001b[0m\u001b[0;34m,\u001b[0m \u001b[0mshell\u001b[0m\u001b[0;34m=\u001b[0m\u001b[0;32mTrue\u001b[0m\u001b[0;34m,\u001b[0m \u001b[0mstdout\u001b[0m\u001b[0;34m=\u001b[0m\u001b[0mPIPE\u001b[0m\u001b[0;34m,\u001b[0m \u001b[0mstderr\u001b[0m\u001b[0;34m=\u001b[0m\u001b[0mPIPE\u001b[0m\u001b[0;34m,\u001b[0m\u001b[0mencoding\u001b[0m\u001b[0;34m=\u001b[0m\u001b[0;34m'utf-8'\u001b[0m\u001b[0;34m)\u001b[0m\u001b[0;34m\u001b[0m\u001b[0;34m\u001b[0m\u001b[0m\n\u001b[0m\u001b[1;32m     11\u001b[0m     \u001b[0moutput\u001b[0m \u001b[0;34m=\u001b[0m \u001b[0mproc\u001b[0m\u001b[0;34m.\u001b[0m\u001b[0mstdout\u001b[0m\u001b[0;34m\u001b[0m\u001b[0;34m\u001b[0m\u001b[0m\n",
      "\u001b[0;32m/home/yamazaki/miniconda3/envs/openmm/lib/python3.6/subprocess.py\u001b[0m in \u001b[0;36mrun\u001b[0;34m(input, timeout, check, *popenargs, **kwargs)\u001b[0m\n\u001b[1;32m    423\u001b[0m     \u001b[0;32mwith\u001b[0m \u001b[0mPopen\u001b[0m\u001b[0;34m(\u001b[0m\u001b[0;34m*\u001b[0m\u001b[0mpopenargs\u001b[0m\u001b[0;34m,\u001b[0m \u001b[0;34m**\u001b[0m\u001b[0mkwargs\u001b[0m\u001b[0;34m)\u001b[0m \u001b[0;32mas\u001b[0m \u001b[0mprocess\u001b[0m\u001b[0;34m:\u001b[0m\u001b[0;34m\u001b[0m\u001b[0;34m\u001b[0m\u001b[0m\n\u001b[1;32m    424\u001b[0m         \u001b[0;32mtry\u001b[0m\u001b[0;34m:\u001b[0m\u001b[0;34m\u001b[0m\u001b[0;34m\u001b[0m\u001b[0m\n\u001b[0;32m--> 425\u001b[0;31m             \u001b[0mstdout\u001b[0m\u001b[0;34m,\u001b[0m \u001b[0mstderr\u001b[0m \u001b[0;34m=\u001b[0m \u001b[0mprocess\u001b[0m\u001b[0;34m.\u001b[0m\u001b[0mcommunicate\u001b[0m\u001b[0;34m(\u001b[0m\u001b[0minput\u001b[0m\u001b[0;34m,\u001b[0m \u001b[0mtimeout\u001b[0m\u001b[0;34m=\u001b[0m\u001b[0mtimeout\u001b[0m\u001b[0;34m)\u001b[0m\u001b[0;34m\u001b[0m\u001b[0;34m\u001b[0m\u001b[0m\n\u001b[0m\u001b[1;32m    426\u001b[0m         \u001b[0;32mexcept\u001b[0m \u001b[0mTimeoutExpired\u001b[0m\u001b[0;34m:\u001b[0m\u001b[0;34m\u001b[0m\u001b[0;34m\u001b[0m\u001b[0m\n\u001b[1;32m    427\u001b[0m             \u001b[0mprocess\u001b[0m\u001b[0;34m.\u001b[0m\u001b[0mkill\u001b[0m\u001b[0;34m(\u001b[0m\u001b[0;34m)\u001b[0m\u001b[0;34m\u001b[0m\u001b[0;34m\u001b[0m\u001b[0m\n",
      "\u001b[0;32m/home/yamazaki/miniconda3/envs/openmm/lib/python3.6/subprocess.py\u001b[0m in \u001b[0;36mcommunicate\u001b[0;34m(self, input, timeout)\u001b[0m\n\u001b[1;32m    861\u001b[0m \u001b[0;34m\u001b[0m\u001b[0m\n\u001b[1;32m    862\u001b[0m             \u001b[0;32mtry\u001b[0m\u001b[0;34m:\u001b[0m\u001b[0;34m\u001b[0m\u001b[0;34m\u001b[0m\u001b[0m\n\u001b[0;32m--> 863\u001b[0;31m                 \u001b[0mstdout\u001b[0m\u001b[0;34m,\u001b[0m \u001b[0mstderr\u001b[0m \u001b[0;34m=\u001b[0m \u001b[0mself\u001b[0m\u001b[0;34m.\u001b[0m\u001b[0m_communicate\u001b[0m\u001b[0;34m(\u001b[0m\u001b[0minput\u001b[0m\u001b[0;34m,\u001b[0m \u001b[0mendtime\u001b[0m\u001b[0;34m,\u001b[0m \u001b[0mtimeout\u001b[0m\u001b[0;34m)\u001b[0m\u001b[0;34m\u001b[0m\u001b[0;34m\u001b[0m\u001b[0m\n\u001b[0m\u001b[1;32m    864\u001b[0m             \u001b[0;32mfinally\u001b[0m\u001b[0;34m:\u001b[0m\u001b[0;34m\u001b[0m\u001b[0;34m\u001b[0m\u001b[0m\n\u001b[1;32m    865\u001b[0m                 \u001b[0mself\u001b[0m\u001b[0;34m.\u001b[0m\u001b[0m_communication_started\u001b[0m \u001b[0;34m=\u001b[0m \u001b[0;32mTrue\u001b[0m\u001b[0;34m\u001b[0m\u001b[0;34m\u001b[0m\u001b[0m\n",
      "\u001b[0;32m/home/yamazaki/miniconda3/envs/openmm/lib/python3.6/subprocess.py\u001b[0m in \u001b[0;36m_communicate\u001b[0;34m(self, input, endtime, orig_timeout)\u001b[0m\n\u001b[1;32m   1532\u001b[0m                         \u001b[0;32mraise\u001b[0m \u001b[0mTimeoutExpired\u001b[0m\u001b[0;34m(\u001b[0m\u001b[0mself\u001b[0m\u001b[0;34m.\u001b[0m\u001b[0margs\u001b[0m\u001b[0;34m,\u001b[0m \u001b[0morig_timeout\u001b[0m\u001b[0;34m)\u001b[0m\u001b[0;34m\u001b[0m\u001b[0;34m\u001b[0m\u001b[0m\n\u001b[1;32m   1533\u001b[0m \u001b[0;34m\u001b[0m\u001b[0m\n\u001b[0;32m-> 1534\u001b[0;31m                     \u001b[0mready\u001b[0m \u001b[0;34m=\u001b[0m \u001b[0mselector\u001b[0m\u001b[0;34m.\u001b[0m\u001b[0mselect\u001b[0m\u001b[0;34m(\u001b[0m\u001b[0mtimeout\u001b[0m\u001b[0;34m)\u001b[0m\u001b[0;34m\u001b[0m\u001b[0;34m\u001b[0m\u001b[0m\n\u001b[0m\u001b[1;32m   1535\u001b[0m                     \u001b[0mself\u001b[0m\u001b[0;34m.\u001b[0m\u001b[0m_check_timeout\u001b[0m\u001b[0;34m(\u001b[0m\u001b[0mendtime\u001b[0m\u001b[0;34m,\u001b[0m \u001b[0morig_timeout\u001b[0m\u001b[0;34m)\u001b[0m\u001b[0;34m\u001b[0m\u001b[0;34m\u001b[0m\u001b[0m\n\u001b[1;32m   1536\u001b[0m \u001b[0;34m\u001b[0m\u001b[0m\n",
      "\u001b[0;32m/home/yamazaki/miniconda3/envs/openmm/lib/python3.6/selectors.py\u001b[0m in \u001b[0;36mselect\u001b[0;34m(self, timeout)\u001b[0m\n\u001b[1;32m    374\u001b[0m             \u001b[0mready\u001b[0m \u001b[0;34m=\u001b[0m \u001b[0;34m[\u001b[0m\u001b[0;34m]\u001b[0m\u001b[0;34m\u001b[0m\u001b[0;34m\u001b[0m\u001b[0m\n\u001b[1;32m    375\u001b[0m             \u001b[0;32mtry\u001b[0m\u001b[0;34m:\u001b[0m\u001b[0;34m\u001b[0m\u001b[0;34m\u001b[0m\u001b[0m\n\u001b[0;32m--> 376\u001b[0;31m                 \u001b[0mfd_event_list\u001b[0m \u001b[0;34m=\u001b[0m \u001b[0mself\u001b[0m\u001b[0;34m.\u001b[0m\u001b[0m_poll\u001b[0m\u001b[0;34m.\u001b[0m\u001b[0mpoll\u001b[0m\u001b[0;34m(\u001b[0m\u001b[0mtimeout\u001b[0m\u001b[0;34m)\u001b[0m\u001b[0;34m\u001b[0m\u001b[0;34m\u001b[0m\u001b[0m\n\u001b[0m\u001b[1;32m    377\u001b[0m             \u001b[0;32mexcept\u001b[0m \u001b[0mInterruptedError\u001b[0m\u001b[0;34m:\u001b[0m\u001b[0;34m\u001b[0m\u001b[0;34m\u001b[0m\u001b[0m\n\u001b[1;32m    378\u001b[0m                 \u001b[0;32mreturn\u001b[0m \u001b[0mready\u001b[0m\u001b[0;34m\u001b[0m\u001b[0;34m\u001b[0m\u001b[0m\n",
      "\u001b[0;31mKeyboardInterrupt\u001b[0m: "
     ]
    }
   ],
   "source": [
    "#擬ポテンシャルの設定\n",
    "atom_species = [\n",
    "    \"ATOMIC_SPECIES\",\n",
    "    \"C 12.011 C.pbe-n-rrkjus_psl.1.0.0.UPF\",\n",
    "    \"H 1.008  H.pbe-rrkjus_psl.1.0.0.UPF\",\n",
    "]  \n",
    "\n",
    "Mu = []\n",
    "\n",
    "#トラジェクトリーをASEで読み込んでQuantumEspressoの入力ファイルを出力する\n",
    "import numpy as np\n",
    "from tqdm import tqdm\n",
    "filename = \"BEN\"\n",
    "for i,snapshot in tqdm(enumerate(traj)) :\n",
    "    ###generate QE file###\n",
    "    path = filename+\".in\"\n",
    "    traj[i].save_gro(\"temp.gro\")\n",
    "    atoms1 = ase.io.read('temp.gro')\n",
    "    volume = atoms1.get_volume()/(5.29177210903e-1**3) #atomic unit\n",
    "    atoms1.write(path,format=\"espresso-in\")   \n",
    "    system_parm,cell_parm,atomic_pos = parser_in(path)\n",
    "    name = \"BEN\"\n",
    "    nberry = 1 \n",
    "    efield = [0.0, 0.0, 0.0 ]\n",
    "    generate_QE_inp(system_parm,cell_parm,atom_species,atomic_pos,filename,nberry,efield)\n",
    "    execute_QE(filename) \n",
    "    D_ix,D_iy,D_iz = extract_dipole(str(filename)+\"_pw.out\")\n",
    "    D_ref = np.array([D_ix,D_iy,D_iz])\n",
    "    print(D_ix,D_iy,D_iz)\n",
    "    \n",
    "    nberry = 1 \n",
    "    efield = [0.001, 0.0, 0.0 ]\n",
    "    generate_QE_inp(system_parm,cell_parm,atom_species,atomic_pos,filename,nberry,efield)\n",
    "    execute_QE(filename) \n",
    "    D_fx,D_fy,D_fz = extract_dipole(str(filename)+\"_pw.out\")\n",
    "    D_Ex = np.array([D_fx,D_fy,D_fz])\n",
    "    Mu_x = 4.0 * np.pi * (D_Ex - D_ref)/(0.001 * volume) + 1 \n",
    "    print(D_fx,D_fy,D_fz)\n",
    "    \n",
    "    nberry = 1 \n",
    "    efield = [0.0, 0.001, 0.0 ]\n",
    "    generate_QE_inp(system_parm,cell_parm,atom_species,atomic_pos,filename,nberry,efield)\n",
    "    execute_QE(filename) \n",
    "    D_fx,D_fy,D_fz = extract_dipole(str(filename)+\"_pw.out\")\n",
    "    D_Ey = np.array([D_fx,D_fy,D_fz])\n",
    "    Mu_y = 4.0 * np.pi * (D_Ey - D_ref)/(0.001 * volume) + 1 \n",
    "    print(D_fx,D_fy,D_fz)\n",
    "    \n",
    "    nberry = 1 \n",
    "    efield = [0.0, 0.0, 0.001 ]\n",
    "    generate_QE_inp(system_parm,cell_parm,atom_species,atomic_pos,filename,nberry,efield)\n",
    "    execute_QE(filename) \n",
    "    D_fx,D_fy,D_fz = extract_dipole(str(filename)+\"_pw.out\")\n",
    "    D_Ez = np.array([D_fx,D_fy,D_fz])\n",
    "    Mu_z = 4.0 * np.pi * (D_Ez - D_ref)/(0.001 * volume) + 1 \n",
    "    print(D_fx,D_fy,D_fz)\n",
    "    \n",
    "    M_tensor = np.vstack([Mu_x,Mu_y,Mu_z])\n",
    "    Mu.append(M_tensor)"
   ]
  },
  {
   "cell_type": "code",
   "execution_count": null,
   "metadata": {},
   "outputs": [],
   "source": []
  }
 ],
 "metadata": {
  "colab": {
   "name": "dipoles_gromacs_IR.ipynb",
   "provenance": []
  },
  "kernelspec": {
   "display_name": "Python 3.10.6 ('aiida')",
   "language": "python",
   "name": "python3"
  },
  "language_info": {
   "codemirror_mode": {
    "name": "ipython",
    "version": 3
   },
   "file_extension": ".py",
   "mimetype": "text/x-python",
   "name": "python",
   "nbconvert_exporter": "python",
   "pygments_lexer": "ipython3",
   "version": "3.10.6"
  },
  "vscode": {
   "interpreter": {
    "hash": "4de8887bdd3e5bea999f7f3c3cabaf239b0a0894106d5435a8b2d8622c6105a9"
   }
  }
 },
 "nbformat": 4,
 "nbformat_minor": 1
}
