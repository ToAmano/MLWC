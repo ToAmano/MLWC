{
 "cells": [
  {
   "cell_type": "code",
   "execution_count": 21,
   "metadata": {},
   "outputs": [
    {
     "data": {
      "image/png": "[encoded data removed]",
      "text/plain": [
       "<Figure size 640x480 with 1 Axes>"
      ]
     },
     "metadata": {},
     "output_type": "display_data"
    }
   ],
   "source": [
    "import networkx as nx\n",
    "import numpy as np\n",
    "import matplotlib.pyplot as plt\n",
    "\n",
    "G_ex1 = nx.Graph()\n",
    "\n",
    "# nodeを追加\n",
    "G_ex1.add_node(1,atomicnumber=1,position=np.array([1,2,3]))\n",
    "G_ex1.add_node(2,atomicnumber=1,position=np.array([10,20,30]))\n",
    "G_ex1.add_node(3,atomicnumber=1,position=np.array([2,2,3]))\n",
    "# G_ex1.add_node(\"hoge\")\n",
    "\n",
    "# nodeの削除\n",
    "# G_ex1.remove_node(3)\n",
    "\n",
    "# edgeを追加\n",
    "G_ex1.add_edge(1, 2,weight=5,test=10)\n",
    "G_ex1.add_edge(1, \"hoge\")\n",
    "G_ex1.add_edge(2, \"hoge\")\n",
    "\n",
    "# edgeの削除\n",
    "G_ex1.remove_edge(2, \"hoge\")\n",
    "\n",
    "# 可視化\n",
    "nx.draw(G_ex1, with_labels = True)\n",
    "plt.show()"
   ]
  },
  {
   "cell_type": "code",
   "execution_count": 22,
   "metadata": {},
   "outputs": [
    {
     "data": {
      "text/plain": [
       "NodeView((1, 2, 'hoge'))"
      ]
     },
     "execution_count": 22,
     "metadata": {},
     "output_type": "execute_result"
    }
   ],
   "source": [
    "G_ex1.nodes"
   ]
  },
  {
   "cell_type": "code",
   "execution_count": 23,
   "metadata": {},
   "outputs": [
    {
     "data": {
      "text/plain": [
       "{'atomicnumber': 1, 'position': array([1, 2, 3])}"
      ]
     },
     "execution_count": 23,
     "metadata": {},
     "output_type": "execute_result"
    }
   ],
   "source": [
    "G_ex1.nodes[1]"
   ]
  },
  {
   "cell_type": "code",
   "execution_count": 15,
   "metadata": {},
   "outputs": [
    {
     "data": {
      "text/plain": [
       "{'weight': 5, 'test': 10}"
      ]
     },
     "execution_count": 15,
     "metadata": {},
     "output_type": "execute_result"
    }
   ],
   "source": [
    "G_ex1.edges[1,2]"
   ]
  },
  {
   "cell_type": "code",
   "execution_count": 26,
   "metadata": {},
   "outputs": [
    {
     "ename": "NetworkXError",
     "evalue": "NodeView does not support slicing, try list(G.nodes)[None:None:None]",
     "output_type": "error",
     "traceback": [
      "\u001b[0;31m---------------------------------------------------------------------------\u001b[0m",
      "\u001b[0;31mNetworkXError\u001b[0m                             Traceback (most recent call last)",
      "Cell \u001b[0;32mIn[26], line 1\u001b[0m\n\u001b[0;32m----> 1\u001b[0m G_ex1\u001b[39m.\u001b[39;49mnodes[:][\u001b[39m\"\u001b[39m\u001b[39mposition\u001b[39m\u001b[39m\"\u001b[39m]\n",
      "File \u001b[0;32m~/anaconda3/envs/dieltools/lib/python3.11/site-packages/networkx/classes/reportviews.py:190\u001b[0m, in \u001b[0;36mNodeView.__getitem__\u001b[0;34m(self, n)\u001b[0m\n\u001b[1;32m    188\u001b[0m \u001b[39mdef\u001b[39;00m \u001b[39m__getitem__\u001b[39m(\u001b[39mself\u001b[39m, n):\n\u001b[1;32m    189\u001b[0m     \u001b[39mif\u001b[39;00m \u001b[39misinstance\u001b[39m(n, \u001b[39mslice\u001b[39m):\n\u001b[0;32m--> 190\u001b[0m         \u001b[39mraise\u001b[39;00m nx\u001b[39m.\u001b[39mNetworkXError(\n\u001b[1;32m    191\u001b[0m             \u001b[39mf\u001b[39m\u001b[39m\"\u001b[39m\u001b[39m{\u001b[39;00m\u001b[39mtype\u001b[39m(\u001b[39mself\u001b[39m)\u001b[39m.\u001b[39m\u001b[39m__name__\u001b[39m\u001b[39m}\u001b[39;00m\u001b[39m does not support slicing, \u001b[39m\u001b[39m\"\u001b[39m\n\u001b[1;32m    192\u001b[0m             \u001b[39mf\u001b[39m\u001b[39m\"\u001b[39m\u001b[39mtry list(G.nodes)[\u001b[39m\u001b[39m{\u001b[39;00mn\u001b[39m.\u001b[39mstart\u001b[39m}\u001b[39;00m\u001b[39m:\u001b[39m\u001b[39m{\u001b[39;00mn\u001b[39m.\u001b[39mstop\u001b[39m}\u001b[39;00m\u001b[39m:\u001b[39m\u001b[39m{\u001b[39;00mn\u001b[39m.\u001b[39mstep\u001b[39m}\u001b[39;00m\u001b[39m]\u001b[39m\u001b[39m\"\u001b[39m\n\u001b[1;32m    193\u001b[0m         )\n\u001b[1;32m    194\u001b[0m     \u001b[39mreturn\u001b[39;00m \u001b[39mself\u001b[39m\u001b[39m.\u001b[39m_nodes[n]\n",
      "\u001b[0;31mNetworkXError\u001b[0m: NodeView does not support slicing, try list(G.nodes)[None:None:None]"
     ]
    }
   ],
   "source": [
    "G_ex1.nodes[0][\"position\"]"
   ]
  },
  {
   "cell_type": "code",
   "execution_count": null,
   "metadata": {},
   "outputs": [],
   "source": []
  }
 ],
 "metadata": {
  "kernelspec": {
   "display_name": "dieltools",
   "language": "python",
   "name": "python3"
  },
  "language_info": {
   "codemirror_mode": {
    "name": "ipython",
    "version": 3
   },
   "file_extension": ".py",
   "mimetype": "text/x-python",
   "name": "python",
   "nbconvert_exporter": "python",
   "pygments_lexer": "ipython3",
   "version": "3.11.0"
  },
  "orig_nbformat": 4
 },
 "nbformat": 4,
 "nbformat_minor": 2
}
