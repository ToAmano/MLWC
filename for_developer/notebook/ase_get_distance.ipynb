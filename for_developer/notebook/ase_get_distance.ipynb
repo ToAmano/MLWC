{
 "cells": [
  {
   "attachments": {},
   "cell_type": "markdown",
   "metadata": {},
   "source": [
    "# 2023/5/26 \n",
    "# ase.get_distancesの代替として作成した\n",
    "# raw_minimum_image_convention(aseatom, a:int, indices, mic=False, vector=False)\n",
    "# のデバッグ"
   ]
  },
  {
   "cell_type": "code",
   "execution_count": 32,
   "metadata": {},
   "outputs": [
    {
     "data": {
      "text/plain": [
       "<module 'cpmd.asign_wcs' from '/Users/amano/works/research/dieltools/src/cpmd/asign_wcs.py'>"
      ]
     },
     "execution_count": 32,
     "metadata": {},
     "output_type": "execute_result"
    }
   ],
   "source": [
    "from importlib import reload # >= python 3.4\n",
    "import cpmd.asign_wcs\n",
    "reload(cpmd.asign_wcs)"
   ]
  },
  {
   "cell_type": "code",
   "execution_count": 33,
   "metadata": {},
   "outputs": [],
   "source": [
    "# 適当な座標ファイルを読み込み\n",
    "import ase\n",
    "import ase.io\n",
    "import numpy as np\n",
    "aseatom = ase.io.read(\"../test/gromacs_30.xyz\")"
   ]
  },
  {
   "cell_type": "code",
   "execution_count": 23,
   "metadata": {},
   "outputs": [
    {
     "name": "stdout",
     "output_type": "stream",
     "text": [
      "(384, 3)\n",
      "16.267601013183594\n",
      "8.133671643183593\n"
     ]
    }
   ],
   "source": [
    "coordinate = aseatom.get_positions()\n",
    "position = coordinate[0]\n",
    "distances = coordinate[:]-position\n",
    "print(np.shape(distances))\n",
    "cell = aseatom.get_cell()[0][0]\n",
    "print(cell)\n",
    "distances = np.where(np.abs(distances) > cell/2, distances-cell*np.sign(distances),distances)\n",
    "print(np.max(np.abs(distances)))"
   ]
  },
  {
   "cell_type": "code",
   "execution_count": 36,
   "metadata": {},
   "outputs": [],
   "source": [
    "ase_distance = aseatom.get_distances(2,slice(None),mic=True, vector=True)\n",
    "my_distance  = cpmd.asign_wcs.raw_minimum_image_convention(aseatom,2,slice(None),mic=True, vector=True)\n",
    "assert (np.abs(ase_distance-my_distance) < 0.0000000001 ).all()\n",
    "\n",
    "# print(ase_distance-my_distance)"
   ]
  },
  {
   "cell_type": "code",
   "execution_count": 2,
   "metadata": {},
   "outputs": [
    {
     "name": "stdout",
     "output_type": "stream",
     "text": [
      "1.125527767481511\n"
     ]
    }
   ],
   "source": [
    "import numpy as np\n",
    "d1=np.array([9.38831043 ,     16.00501060  ,    -0.91893435])\n",
    "d2=np.array([8.54170227 ,     16.39643478   ,   -0.28897047])\n",
    "print(np.linalg.norm(d1-d2))"
   ]
  },
  {
   "cell_type": "code",
   "execution_count": 3,
   "metadata": {},
   "outputs": [
    {
     "name": "stdout",
     "output_type": "stream",
     "text": [
      "1.1378952979730514\n"
     ]
    }
   ],
   "source": [
    "d1=np.array([21.60051346, 16.59464455,  8.74096394])\n",
    "d2=np.array([21.31500244, 17.05265617,  7.73920822])\n",
    "print(np.linalg.norm(d1-d2))\n",
    "\n",
    "#  4.523951263405925 Angstrom between atom 1/[21.60051346 16.59464455  8.74096394]/C and atom 52/[21.31500244 17.05265617  7.73920822]/H"
   ]
  },
  {
   "cell_type": "code",
   "execution_count": 4,
   "metadata": {},
   "outputs": [
    {
     "name": "stdout",
     "output_type": "stream",
     "text": [
      "7.484502095835922\n"
     ]
    }
   ],
   "source": [
    "d1=np.array([-2.0177021 , -6.01264382, -9.83773709])\n",
    "d2=np.array([ -4.23560524 ,  1.11503601, -10.38074494])\n",
    "print(np.linalg.norm(d1-d2))\n",
    "\n",
    "# 7.484502095835923 [-2.0177021  -6.01264382 -9.83773709] [ -4.23560524   1.11503601 -10.38074494"
   ]
  },
  {
   "cell_type": "code",
   "execution_count": 19,
   "metadata": {},
   "outputs": [
    {
     "name": "stdout",
     "output_type": "stream",
     "text": [
      "total_atoms :: 2450\n"
     ]
    },
    {
     "data": {
      "application/vnd.jupyter.widget-view+json": {
       "model_id": "037b03afab6645d3858465bb49f1f2c2",
       "version_major": 2,
       "version_minor": 0
      },
      "text/plain": [
       "NGLWidget()"
      ]
     },
     "metadata": {},
     "output_type": "display_data"
    }
   ],
   "source": [
    "# mol_BCの図示\n",
    "import nglview as nv\n",
    "import ase.io\n",
    "import copy \n",
    "\n",
    "\n",
    "#構造可視化\n",
    "aseatoms_with_WC=ase.io.read(\"/Volumes/portableSSD2T/14_pg/pg2/analyze_data/10mol_1_test/bulk/mol_BC.xyz\")\n",
    "# aseatoms_with_WC=ase.io.read(\"/Volumes/portableSSD2T/14_pg/pg2/analyze_data/10mol_1_test/test_1config.xyz\")\n",
    "\n",
    "total_atoms = len(aseatoms_with_WC)\n",
    "print(\"total_atoms ::\", total_atoms)\n",
    "\n",
    "# w = nv.show_ase(aseatoms_with_WC[245,291,293]) #,gui=True)\n",
    "w = nv.show_ase(aseatoms_with_WC[3*123:4*123]) #,gui=True)\n",
    "w = nv.show_ase(aseatoms_with_WC[2*243:3*243]) #,gui=True)\n",
    "# w = nv.show_ase(aseatoms_with_WC[0*243:1*243]) #,gui=True)\n",
    "\n",
    "w.clear_representations()\n",
    "w.add_label(radius=0.2,color=\"black\",label_type=\"atom\")\n",
    "w.add_ball_and_stick(\"_He\",color=\"green\",radius=0.004,aspectRatio=50)\n",
    "w.add_ball_and_stick(\"_Ne\",color=\"cyan\",radius=0.004,aspectRatio=50)\n",
    "w.add_ball_and_stick(\"_Ar\",color=\"green\",radius=0.004,aspectRatio=50)\n",
    "#w.add_ball_and_stick(\"_Li\",color=\"cyan\",radius=0.1)\n",
    "#w.add_ball_and_stick(\"_Be\",color=\"blue\",radius=0.1)\n",
    "w.add_ball_and_stick(\"_H\")\n",
    "w.add_ball_and_stick(\"_C\")\n",
    "w.add_ball_and_stick(\"_O\")\n",
    "w.add_ball_and_stick(\"_N\")\n",
    "\n",
    "#w.clear_representations()\n",
    "#w.add_label(radius=1,color=\"black\",label_type=\"atom\")\n",
    "#view.add_representation(\"ball+stick\")\n",
    "#w.add_representation(\"ball+stick\",selection=[i for i in range(0,n_atoms)],opacity=1.0)\n",
    "#w.add_representation(\"ball+stick\",selection=[i for i in range(n_atoms,total_atoms)],opacity=1,aspectRatio=2)\n",
    "w.add_unitcell()\n",
    "w.update_unitcell()\n",
    "w"
   ]
  },
  {
   "cell_type": "code",
   "execution_count": null,
   "metadata": {},
   "outputs": [],
   "source": [
    "Warning: bond distance is too long. bond distance = 21.673249187284238 Angstrom between 48/[17.22152901 17.51426315 15.09175205] and 46/[17.39673424 16.61976624 13.97842503]"
   ]
  }
 ],
 "metadata": {
  "kernelspec": {
   "display_name": "dieltools",
   "language": "python",
   "name": "python3"
  },
  "language_info": {
   "codemirror_mode": {
    "name": "ipython",
    "version": 3
   },
   "file_extension": ".py",
   "mimetype": "text/x-python",
   "name": "python",
   "nbconvert_exporter": "python",
   "pygments_lexer": "ipython3",
   "version": "3.11.0"
  },
  "orig_nbformat": 4
 },
 "nbformat": 4,
 "nbformat_minor": 2
}
