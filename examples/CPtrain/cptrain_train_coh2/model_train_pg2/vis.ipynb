{
 "cells": [
  {
   "cell_type": "code",
   "execution_count": 1,
   "metadata": {},
   "outputs": [],
   "source": [
    "import ase\n",
    "import ase.io"
   ]
  },
  {
   "cell_type": "code",
   "execution_count": 32,
   "metadata": {},
   "outputs": [],
   "source": [
    "data = ase.io.read(\"mol_with_WC.xyz\")"
   ]
  },
  {
   "cell_type": "code",
   "execution_count": 13,
   "metadata": {},
   "outputs": [],
   "source": [
    "data = ase.io.read(\"traj/test.xyz\")"
   ]
  },
  {
   "cell_type": "code",
   "execution_count": 33,
   "metadata": {},
   "outputs": [
    {
     "data": {
      "text/plain": [
       "Atoms(symbols='C192H448He704Ne896O96', pbc=True, cell=[19.120125136650596, 19.120125136650596, 19.120125136650596])"
      ]
     },
     "execution_count": 33,
     "metadata": {},
     "output_type": "execute_result"
    }
   ],
   "source": [
    "data"
   ]
  },
  {
   "cell_type": "code",
   "execution_count": 35,
   "metadata": {},
   "outputs": [
    {
     "data": {
      "application/vnd.jupyter.widget-view+json": {
       "model_id": "1f06fec177ab43af8d815c473d0353e0",
       "version_major": 2,
       "version_minor": 0
      },
      "text/plain": [
       "NGLWidget()"
      ]
     },
     "metadata": {},
     "output_type": "display_data"
    },
    {
     "data": {
      "application/vnd.jupyter.widget-view+json": {
       "model_id": "9015182e1e7b4d92a035c1494d895ec0",
       "version_major": 2,
       "version_minor": 0
      },
      "text/plain": [
       "Tab(children=(Box(children=(Box(children=(Box(children=(Label(value='step'), IntSlider(value=1, min=-100)), la…"
      ]
     },
     "metadata": {},
     "output_type": "display_data"
    }
   ],
   "source": [
    "\n",
    "import nglview as nv\n",
    "import ase.io\n",
    "import copy \n",
    "\n",
    "n=10\n",
    "w = nv.show_ase(data[73*n:73*(n+1)],gui=True)\n",
    "w.clear_representations()\n",
    "w.add_label(radius=0.2,color=\"black\",label_type=\"atom\")\n",
    "w.add_ball_and_stick(\"_He\",color=\"green\",radius=0.004,aspectRatio=50)\n",
    "w.add_ball_and_stick(\"_Ne\",color=\"cyan\",radius=0.004,aspectRatio=50)\n",
    "w.add_ball_and_stick(\"_Ar\",color=\"green\",radius=0.004,aspectRatio=50)\n",
    "w.add_ball_and_stick(\"_Li\",color=\"cyan\",radius=0.1)\n",
    "w.add_ball_and_stick(\"_Be\",color=\"blue\",radius=0.1)\n",
    "w.add_ball_and_stick(\"_X\",color=\"blue\",radius=0.1)\n",
    "w.add_ball_and_stick(\"_H\")\n",
    "w.add_ball_and_stick(\"_C\")\n",
    "w.add_ball_and_stick(\"_O\")\n",
    "w.add_ball_and_stick(\"_N\")\n",
    "\n",
    "#w.clear_representations()\n",
    "#w.add_label(radius=1,color=\"black\",label_type=\"atom\")\n",
    "#view.add_representation(\"ball+stick\")\n",
    "#w.add_representation(\"ball+stick\",selection=[i for i in range(0,n_atoms)],opacity=1.0)\n",
    "#w.add_representation(\"ball+stick\",selection=[i for i in range(n_atoms,total_atoms)],opacity=1,aspectRatio=2)\n",
    "w.add_unitcell()\n",
    "w.update_unitcell()\n",
    "w"
   ]
  },
  {
   "cell_type": "code",
   "execution_count": 22,
   "metadata": {},
   "outputs": [],
   "source": [
    "import numpy as np\n",
    "import matplotlib.pyplot as plt"
   ]
  },
  {
   "cell_type": "code",
   "execution_count": 23,
   "metadata": {},
   "outputs": [],
   "source": [
    "test = np.loadtxt(\"total_dipole.txt\")"
   ]
  },
  {
   "cell_type": "code",
   "execution_count": 26,
   "metadata": {},
   "outputs": [
    {
     "data": {
      "text/plain": [
       "[<matplotlib.lines.Line2D at 0x2b4b5fe50>]"
      ]
     },
     "execution_count": 26,
     "metadata": {},
     "output_type": "execute_result"
    },
    {
     "data": {
      "image/png": "[encoded data removed]",
      "text/plain": [
       "<Figure size 640x480 with 1 Axes>"
      ]
     },
     "metadata": {},
     "output_type": "display_data"
    }
   ],
   "source": [
    "plt.plot(test[:,3])"
   ]
  },
  {
   "cell_type": "code",
   "execution_count": null,
   "metadata": {},
   "outputs": [],
   "source": []
  }
 ],
 "metadata": {
  "kernelspec": {
   "display_name": "dieltools",
   "language": "python",
   "name": "python3"
  },
  "language_info": {
   "codemirror_mode": {
    "name": "ipython",
    "version": 3
   },
   "file_extension": ".py",
   "mimetype": "text/x-python",
   "name": "python",
   "nbconvert_exporter": "python",
   "pygments_lexer": "ipython3",
   "version": "3.11.9"
  }
 },
 "nbformat": 4,
 "nbformat_minor": 2
}
