{
 "cells": [
  {
   "cell_type": "code",
   "execution_count": 2,
   "metadata": {},
   "outputs": [],
   "source": [
    "import ase.io\n",
    "import numpy as np\n",
    "import nglview as nv\n",
    "from ase.io.trajectory import Trajectory"
   ]
  },
  {
   "cell_type": "code",
   "execution_count": 3,
   "metadata": {},
   "outputs": [],
   "source": [
    "import cpmd # import home-made package"
   ]
  },
  {
   "cell_type": "code",
   "execution_count": 4,
   "metadata": {},
   "outputs": [],
   "source": [
    "\n",
    "\n",
    "# import gaas trajectory without wannier centers\n",
    "filename=\"input/gaas_10ps_traj.xyz\"\n",
    "\n",
    "traj =  cpmd.read_traj.ReadCP(filename)\n",
    "#nv.show_asetraj(traj.ATOMS_LIST)"
   ]
  },
  {
   "cell_type": "code",
   "execution_count": 4,
   "metadata": {},
   "outputs": [
    {
     "name": "stdout",
     "output_type": "stream",
     "text": [
      "['Ga', 'Ga', 'Ga', 'Ga', 'Ga', 'Ga', 'Ga', 'Ga', 'Ga', 'Ga', 'Ga', 'Ga', 'Ga', 'Ga', 'Ga', 'Ga', 'Ga', 'Ga', 'Ga', 'Ga', 'Ga', 'Ga', 'Ga', 'Ga', 'Ga', 'Ga', 'Ga', 'Ga', 'Ga', 'Ga', 'Ga', 'Ga', 'As', 'As', 'As', 'As', 'As', 'As', 'As', 'As', 'As', 'As', 'As', 'As', 'As', 'As', 'As', 'As', 'As', 'As', 'As', 'As', 'As', 'As', 'As', 'As', 'As', 'As', 'As', 'As', 'As', 'As', 'As', 'As']\n"
     ]
    }
   ],
   "source": [
    "# \n",
    "# xyz from cppp.x is suffering from rearangement of Atomic symbols\n",
    "#\n",
    "\n",
    "# symbols from xyz\n",
    "print(traj.ATOMS_LIST[0].get_chemical_symbols())\n",
    "\n",
    "# symbols to change\n",
    "key_chemical_symbols=[\"Ga\", \"Ga\", \"Ga\", \"Ga\", \"As\", \"As\", \"As\", \"As\"]\n",
    "new_chemical_symbols=[]\n",
    "\n",
    "# make symbols for 2*2*2 supercell\n",
    "for i in range(8):\n",
    "    for j in range(len(key_chemical_symbols)):\n",
    "        new_chemical_symbols.append(key_chemical_symbols[j])\n",
    "\n",
    "# change symbols in trah\n",
    "for i in range(len(traj.ATOMS_LIST)):\n",
    "    traj.ATOMS_LIST[i].set_chemical_symbols(new_chemical_symbols)\n",
    "        "
   ]
  },
  {
   "cell_type": "code",
   "execution_count": 5,
   "metadata": {},
   "outputs": [
    {
     "data": {
      "application/vnd.jupyter.widget-view+json": {
       "model_id": "616054f9dad847a3b4f3d7d8337cc6df",
       "version_major": 2,
       "version_minor": 0
      },
      "text/plain": [
       "NGLWidget(count=8674)"
      ]
     },
     "metadata": {},
     "output_type": "display_data"
    }
   ],
   "source": [
    "# ReadCP has nglview_traj method to visualize trajectory\n",
    "view = traj.nglview_traj()\n",
    "view"
   ]
  },
  {
   "cell_type": "code",
   "execution_count": 6,
   "metadata": {},
   "outputs": [
    {
     "data": {
      "text/plain": [
       "0"
      ]
     },
     "execution_count": 6,
     "metadata": {},
     "output_type": "execute_result"
    }
   ],
   "source": [
    "# トラジェクトリの保存(in extxyz)\n",
    "traj.save()"
   ]
  },
  {
   "cell_type": "code",
   "execution_count": 7,
   "metadata": {},
   "outputs": [],
   "source": [
    "# load bec \n",
    "import numpy as np\n",
    "BEC=np.loadtxt(\"input/borninfo_gaas\")"
   ]
  },
  {
   "cell_type": "code",
   "execution_count": 8,
   "metadata": {},
   "outputs": [
    {
     "name": "stdout",
     "output_type": "stream",
     "text": [
      "[[ 2.14222  0.       0.     ]\n",
      " [ 0.       2.14222  0.     ]\n",
      " [ 0.       0.       2.14222]\n",
      " [-2.12591 -0.       0.     ]\n",
      " [-0.      -2.12591 -0.     ]\n",
      " [ 0.       0.      -2.12591]]\n"
     ]
    }
   ],
   "source": [
    "# eps_infを切断\n",
    "BEC=BEC[3:]\n",
    "print(BEC)"
   ]
  },
  {
   "cell_type": "code",
   "execution_count": 9,
   "metadata": {},
   "outputs": [
    {
     "name": "stdout",
     "output_type": "stream",
     "text": [
      "[[2.14222 0.      0.     ]\n",
      " [0.      2.14222 0.     ]\n",
      " [0.      0.      2.14222]]\n",
      "\n",
      "[[-2.14222 -0.      -0.     ]\n",
      " [-0.      -2.14222 -0.     ]\n",
      " [-0.      -0.      -2.14222]]\n"
     ]
    }
   ],
   "source": [
    "BEC1=np.array([\n",
    " [ 2.14222,  0.  ,     0.     ],\n",
    " [ 0.  ,     2.14222,  0.     ],\n",
    " [ 0.  ,     0.  ,     2.14222]\n",
    "])\n",
    "BEC2=-BEC1\n",
    "\n",
    "print(BEC1)\n",
    "print(\"\")\n",
    "print(BEC2)"
   ]
  },
  {
   "cell_type": "code",
   "execution_count": 10,
   "metadata": {},
   "outputs": [
    {
     "name": "stdout",
     "output_type": "stream",
     "text": [
      "[[ 2.14222  0.       0.     ]\n",
      " [ 0.       2.14222  0.     ]\n",
      " [ 0.       0.       2.14222]\n",
      " [ 2.14222  0.       0.     ]\n",
      " [ 0.       2.14222  0.     ]\n",
      " [ 0.       0.       2.14222]\n",
      " [ 2.14222  0.       0.     ]\n",
      " [ 0.       2.14222  0.     ]\n",
      " [ 0.       0.       2.14222]\n",
      " [ 2.14222  0.       0.     ]\n",
      " [ 0.       2.14222  0.     ]\n",
      " [ 0.       0.       2.14222]\n",
      " [-2.14222 -0.      -0.     ]\n",
      " [-0.      -2.14222 -0.     ]\n",
      " [-0.      -0.      -2.14222]\n",
      " [-2.14222 -0.      -0.     ]\n",
      " [-0.      -2.14222 -0.     ]\n",
      " [-0.      -0.      -2.14222]\n",
      " [-2.14222 -0.      -0.     ]\n",
      " [-0.      -2.14222 -0.     ]\n",
      " [-0.      -0.      -2.14222]\n",
      " [-2.14222 -0.      -0.     ]\n",
      " [-0.      -2.14222 -0.     ]\n",
      " [-0.      -0.      -2.14222]]\n",
      "[[ 2.14222  0.       0.     ]\n",
      " [ 0.       2.14222  0.     ]\n",
      " [ 0.       0.       2.14222]\n",
      " [ 2.14222  0.       0.     ]\n",
      " [ 0.       2.14222  0.     ]\n",
      " [ 0.       0.       2.14222]\n",
      " [ 2.14222  0.       0.     ]\n",
      " [ 0.       2.14222  0.     ]\n",
      " [ 0.       0.       2.14222]\n",
      " [ 2.14222  0.       0.     ]\n",
      " [ 0.       2.14222  0.     ]\n",
      " [ 0.       0.       2.14222]\n",
      " [-2.14222 -0.      -0.     ]\n",
      " [-0.      -2.14222 -0.     ]\n",
      " [-0.      -0.      -2.14222]\n",
      " [-2.14222 -0.      -0.     ]\n",
      " [-0.      -2.14222 -0.     ]\n",
      " [-0.      -0.      -2.14222]\n",
      " [-2.14222 -0.      -0.     ]\n",
      " [-0.      -2.14222 -0.     ]\n",
      " [-0.      -0.      -2.14222]\n",
      " [-2.14222 -0.      -0.     ]\n",
      " [-0.      -2.14222 -0.     ]\n",
      " [-0.      -0.      -2.14222]\n",
      " [ 2.14222  0.       0.     ]\n",
      " [ 0.       2.14222  0.     ]\n",
      " [ 0.       0.       2.14222]\n",
      " [ 2.14222  0.       0.     ]\n",
      " [ 0.       2.14222  0.     ]\n",
      " [ 0.       0.       2.14222]\n",
      " [ 2.14222  0.       0.     ]\n",
      " [ 0.       2.14222  0.     ]\n",
      " [ 0.       0.       2.14222]\n",
      " [ 2.14222  0.       0.     ]\n",
      " [ 0.       2.14222  0.     ]\n",
      " [ 0.       0.       2.14222]\n",
      " [-2.14222 -0.      -0.     ]\n",
      " [-0.      -2.14222 -0.     ]\n",
      " [-0.      -0.      -2.14222]\n",
      " [-2.14222 -0.      -0.     ]\n",
      " [-0.      -2.14222 -0.     ]\n",
      " [-0.      -0.      -2.14222]\n",
      " [-2.14222 -0.      -0.     ]\n",
      " [-0.      -2.14222 -0.     ]\n",
      " [-0.      -0.      -2.14222]\n",
      " [-2.14222 -0.      -0.     ]\n",
      " [-0.      -2.14222 -0.     ]\n",
      " [-0.      -0.      -2.14222]\n",
      " [ 2.14222  0.       0.     ]\n",
      " [ 0.       2.14222  0.     ]\n",
      " [ 0.       0.       2.14222]\n",
      " [ 2.14222  0.       0.     ]\n",
      " [ 0.       2.14222  0.     ]\n",
      " [ 0.       0.       2.14222]\n",
      " [ 2.14222  0.       0.     ]\n",
      " [ 0.       2.14222  0.     ]\n",
      " [ 0.       0.       2.14222]\n",
      " [ 2.14222  0.       0.     ]\n",
      " [ 0.       2.14222  0.     ]\n",
      " [ 0.       0.       2.14222]\n",
      " [-2.14222 -0.      -0.     ]\n",
      " [-0.      -2.14222 -0.     ]\n",
      " [-0.      -0.      -2.14222]\n",
      " [-2.14222 -0.      -0.     ]\n",
      " [-0.      -2.14222 -0.     ]\n",
      " [-0.      -0.      -2.14222]\n",
      " [-2.14222 -0.      -0.     ]\n",
      " [-0.      -2.14222 -0.     ]\n",
      " [-0.      -0.      -2.14222]\n",
      " [-2.14222 -0.      -0.     ]\n",
      " [-0.      -2.14222 -0.     ]\n",
      " [-0.      -0.      -2.14222]\n",
      " [ 2.14222  0.       0.     ]\n",
      " [ 0.       2.14222  0.     ]\n",
      " [ 0.       0.       2.14222]\n",
      " [ 2.14222  0.       0.     ]\n",
      " [ 0.       2.14222  0.     ]\n",
      " [ 0.       0.       2.14222]\n",
      " [ 2.14222  0.       0.     ]\n",
      " [ 0.       2.14222  0.     ]\n",
      " [ 0.       0.       2.14222]\n",
      " [ 2.14222  0.       0.     ]\n",
      " [ 0.       2.14222  0.     ]\n",
      " [ 0.       0.       2.14222]\n",
      " [-2.14222 -0.      -0.     ]\n",
      " [-0.      -2.14222 -0.     ]\n",
      " [-0.      -0.      -2.14222]\n",
      " [-2.14222 -0.      -0.     ]\n",
      " [-0.      -2.14222 -0.     ]\n",
      " [-0.      -0.      -2.14222]\n",
      " [-2.14222 -0.      -0.     ]\n",
      " [-0.      -2.14222 -0.     ]\n",
      " [-0.      -0.      -2.14222]\n",
      " [-2.14222 -0.      -0.     ]\n",
      " [-0.      -2.14222 -0.     ]\n",
      " [-0.      -0.      -2.14222]\n",
      " [ 2.14222  0.       0.     ]\n",
      " [ 0.       2.14222  0.     ]\n",
      " [ 0.       0.       2.14222]\n",
      " [ 2.14222  0.       0.     ]\n",
      " [ 0.       2.14222  0.     ]\n",
      " [ 0.       0.       2.14222]\n",
      " [ 2.14222  0.       0.     ]\n",
      " [ 0.       2.14222  0.     ]\n",
      " [ 0.       0.       2.14222]\n",
      " [ 2.14222  0.       0.     ]\n",
      " [ 0.       2.14222  0.     ]\n",
      " [ 0.       0.       2.14222]\n",
      " [-2.14222 -0.      -0.     ]\n",
      " [-0.      -2.14222 -0.     ]\n",
      " [-0.      -0.      -2.14222]\n",
      " [-2.14222 -0.      -0.     ]\n",
      " [-0.      -2.14222 -0.     ]\n",
      " [-0.      -0.      -2.14222]\n",
      " [-2.14222 -0.      -0.     ]\n",
      " [-0.      -2.14222 -0.     ]\n",
      " [-0.      -0.      -2.14222]\n",
      " [-2.14222 -0.      -0.     ]\n",
      " [-0.      -2.14222 -0.     ]\n",
      " [-0.      -0.      -2.14222]\n",
      " [ 2.14222  0.       0.     ]\n",
      " [ 0.       2.14222  0.     ]\n",
      " [ 0.       0.       2.14222]\n",
      " [ 2.14222  0.       0.     ]\n",
      " [ 0.       2.14222  0.     ]\n",
      " [ 0.       0.       2.14222]\n",
      " [ 2.14222  0.       0.     ]\n",
      " [ 0.       2.14222  0.     ]\n",
      " [ 0.       0.       2.14222]\n",
      " [ 2.14222  0.       0.     ]\n",
      " [ 0.       2.14222  0.     ]\n",
      " [ 0.       0.       2.14222]\n",
      " [-2.14222 -0.      -0.     ]\n",
      " [-0.      -2.14222 -0.     ]\n",
      " [-0.      -0.      -2.14222]\n",
      " [-2.14222 -0.      -0.     ]\n",
      " [-0.      -2.14222 -0.     ]\n",
      " [-0.      -0.      -2.14222]\n",
      " [-2.14222 -0.      -0.     ]\n",
      " [-0.      -2.14222 -0.     ]\n",
      " [-0.      -0.      -2.14222]\n",
      " [-2.14222 -0.      -0.     ]\n",
      " [-0.      -2.14222 -0.     ]\n",
      " [-0.      -0.      -2.14222]\n",
      " [ 2.14222  0.       0.     ]\n",
      " [ 0.       2.14222  0.     ]\n",
      " [ 0.       0.       2.14222]\n",
      " [ 2.14222  0.       0.     ]\n",
      " [ 0.       2.14222  0.     ]\n",
      " [ 0.       0.       2.14222]\n",
      " [ 2.14222  0.       0.     ]\n",
      " [ 0.       2.14222  0.     ]\n",
      " [ 0.       0.       2.14222]\n",
      " [ 2.14222  0.       0.     ]\n",
      " [ 0.       2.14222  0.     ]\n",
      " [ 0.       0.       2.14222]\n",
      " [-2.14222 -0.      -0.     ]\n",
      " [-0.      -2.14222 -0.     ]\n",
      " [-0.      -0.      -2.14222]\n",
      " [-2.14222 -0.      -0.     ]\n",
      " [-0.      -2.14222 -0.     ]\n",
      " [-0.      -0.      -2.14222]\n",
      " [-2.14222 -0.      -0.     ]\n",
      " [-0.      -2.14222 -0.     ]\n",
      " [-0.      -0.      -2.14222]\n",
      " [-2.14222 -0.      -0.     ]\n",
      " [-0.      -2.14222 -0.     ]\n",
      " [-0.      -0.      -2.14222]\n",
      " [ 2.14222  0.       0.     ]\n",
      " [ 0.       2.14222  0.     ]\n",
      " [ 0.       0.       2.14222]\n",
      " [ 2.14222  0.       0.     ]\n",
      " [ 0.       2.14222  0.     ]\n",
      " [ 0.       0.       2.14222]\n",
      " [ 2.14222  0.       0.     ]\n",
      " [ 0.       2.14222  0.     ]\n",
      " [ 0.       0.       2.14222]\n",
      " [ 2.14222  0.       0.     ]\n",
      " [ 0.       2.14222  0.     ]\n",
      " [ 0.       0.       2.14222]\n",
      " [-2.14222 -0.      -0.     ]\n",
      " [-0.      -2.14222 -0.     ]\n",
      " [-0.      -0.      -2.14222]\n",
      " [-2.14222 -0.      -0.     ]\n",
      " [-0.      -2.14222 -0.     ]\n",
      " [-0.      -0.      -2.14222]\n",
      " [-2.14222 -0.      -0.     ]\n",
      " [-0.      -2.14222 -0.     ]\n",
      " [-0.      -0.      -2.14222]\n",
      " [-2.14222 -0.      -0.     ]\n",
      " [-0.      -2.14222 -0.     ]\n",
      " [-0.      -0.      -2.14222]]\n"
     ]
    }
   ],
   "source": [
    "BEC1_super=np.tile(BEC1, (4,1))\n",
    "BEC2_super=np.tile(BEC2, (4,1))\n",
    "BECsum=np.concatenate([BEC1_super, BEC2_super])\n",
    "print(BECsum)\n",
    "\n",
    "# np.savetxt(\"BECsum.txt\",BECsum)\n",
    "\n",
    "# for conventional cell\n",
    "BEC_final=np.tile(BECsum,  (8,1))\n",
    "print(BEC_final)\n",
    "# for 2*2*2 supercell\n",
    "BEC_final2=BEC_final.reshape(64,3,3)\n",
    "# print(BEC_final2)"
   ]
  },
  {
   "cell_type": "code",
   "execution_count": 11,
   "metadata": {},
   "outputs": [],
   "source": [
    "# set bec\n",
    "traj.set_bec(bec=BEC_final2)\n",
    "\n",
    "#print(np.shape(BEC_final2))\n",
    "#print(traj.nstep)\n",
    "#print(len(traj.ATOMS_LIST[0].get_chemical_symbols()))\n",
    "# calculate dipole\n",
    "dipole_array=traj.calc_dipole()\n"
   ]
  },
  {
   "cell_type": "code",
   "execution_count": 13,
   "metadata": {},
   "outputs": [
    {
     "data": {
      "text/plain": [
       "(8674, 3)"
      ]
     },
     "execution_count": 13,
     "metadata": {},
     "output_type": "execute_result"
    }
   ],
   "source": [
    "# debug\n",
    "np.shape(dipole_array)"
   ]
  },
  {
   "cell_type": "code",
   "execution_count": 1,
   "metadata": {},
   "outputs": [
    {
     "ename": "NameError",
     "evalue": "name 'np' is not defined",
     "output_type": "error",
     "traceback": [
      "\u001b[0;31m---------------------------------------------------------------------------\u001b[0m",
      "\u001b[0;31mNameError\u001b[0m                                 Traceback (most recent call last)",
      "\u001b[1;32mセル13 を /Users/amano/works/research/jsr_utokyo/dieltools/sample/gaas_nowan/calc_dipole_from_bec.ipynb\u001b[0m in \u001b[0;36m<cell line: 3>\u001b[0;34m()\u001b[0m\n\u001b[1;32m      <a href='vscode-notebook-cell:/Users/amano/works/research/jsr_utokyo/dieltools/sample/gaas_nowan/calc_dipole_from_bec.ipynb#X15sZmlsZQ%3D%3D?line=0'>1</a>\u001b[0m start\u001b[39m=\u001b[39m\u001b[39m1000\u001b[39m\n\u001b[1;32m      <a href='vscode-notebook-cell:/Users/amano/works/research/jsr_utokyo/dieltools/sample/gaas_nowan/calc_dipole_from_bec.ipynb#X15sZmlsZQ%3D%3D?line=1'>2</a>\u001b[0m \u001b[39mimport\u001b[39;00m \u001b[39mmatplotlib\u001b[39;00m\u001b[39m.\u001b[39;00m\u001b[39mpyplot\u001b[39;00m \u001b[39mas\u001b[39;00m \u001b[39mplt\u001b[39;00m\n\u001b[0;32m----> <a href='vscode-notebook-cell:/Users/amano/works/research/jsr_utokyo/dieltools/sample/gaas_nowan/calc_dipole_from_bec.ipynb#X15sZmlsZQ%3D%3D?line=2'>3</a>\u001b[0m x\u001b[39m=\u001b[39mnp\u001b[39m.\u001b[39marange(np\u001b[39m.\u001b[39mshape(dipole_array)[\u001b[39m0\u001b[39m]\u001b[39m-\u001b[39mstart)\n\u001b[1;32m      <a href='vscode-notebook-cell:/Users/amano/works/research/jsr_utokyo/dieltools/sample/gaas_nowan/calc_dipole_from_bec.ipynb#X15sZmlsZQ%3D%3D?line=3'>4</a>\u001b[0m plot_dipole_array\u001b[39m=\u001b[39mdipole_array[start:,:]\u001b[39m-\u001b[39mdipole_array[start,:]\n\u001b[1;32m      <a href='vscode-notebook-cell:/Users/amano/works/research/jsr_utokyo/dieltools/sample/gaas_nowan/calc_dipole_from_bec.ipynb#X15sZmlsZQ%3D%3D?line=4'>5</a>\u001b[0m plot_time_array\u001b[39m=\u001b[39mtraj\u001b[39m.\u001b[39mtime[start:]\n",
      "\u001b[0;31mNameError\u001b[0m: name 'np' is not defined"
     ]
    }
   ],
   "source": [
    "start=1000\n",
    "import matplotlib.pyplot as plt\n",
    "x=np.arange(np.shape(dipole_array)[0]-start)\n",
    "plot_dipole_array=dipole_array[start:,:]-dipole_array[start,:]"
   ]
  },
  {
   "cell_type": "code",
   "execution_count": 15,
   "metadata": {},
   "outputs": [
    {
     "data": {
      "text/plain": [
       "<matplotlib.legend.Legend at 0x178e71d80>"
      ]
     },
     "execution_count": 15,
     "metadata": {},
     "output_type": "execute_result"
    },
    {
     "data": {
      "image/png": "[encoded data removed]",
      "text/plain": [
       "<Figure size 432x288 with 1 Axes>"
      ]
     },
     "metadata": {
      "needs_background": "light"
     },
     "output_type": "display_data"
    }
   ],
   "source": [
    "plt.plot(x,plot_dipole_array[:,0],label=\"Dipole_x\")\n",
    "plt.plot(x,plot_dipole_array[:,1],label=\"Dipole_y\")\n",
    "plt.plot(x,plot_dipole_array[:,2],label=\"Dipole_z\")\n",
    "plt.xlabel(\"timestep\")\n",
    "plt.ylabel(\"Dipole [D]\")\n",
    "plt.legend()"
   ]
  },
  {
   "cell_type": "code",
   "execution_count": 13,
   "metadata": {},
   "outputs": [
    {
     "data": {
      "text/plain": [
       "3.33564095198152e-30"
      ]
     },
     "execution_count": 13,
     "metadata": {},
     "output_type": "execute_result"
    }
   ],
   "source": [
    "# ase.units.Debye\n",
    "\n",
    "1/ase.units._c*1e-21\n",
    "#1/ase.units.Debye #3.33564e-30"
   ]
  },
  {
   "cell_type": "code",
   "execution_count": 17,
   "metadata": {},
   "outputs": [],
   "source": [
    "np.save(\"plot_dipole_array\", plot_dipole_array)"
   ]
  },
  {
   "cell_type": "code",
   "execution_count": 18,
   "metadata": {},
   "outputs": [],
   "source": [
    "plot_dipole_array=np.load(\"plot_dipole_array.npy\")"
   ]
  },
  {
   "cell_type": "code",
   "execution_count": 19,
   "metadata": {},
   "outputs": [
    {
     "name": "stdout",
     "output_type": "stream",
     "text": [
      "3837\n"
     ]
    }
   ],
   "source": [
    "import statsmodels.api as sm \n",
    "import numpy as np\n",
    "eps0 = 8.8541878128e-12\n",
    "debye = 3.33564e-30\n",
    "nm3 = 1.0e-27\n",
    "nm = 1.0e-9\n",
    "A3 = 1.0e-30\n",
    "kb = 1.38064852e-23\n",
    "T =300 \n",
    "\n",
    "# time =ms[\"time\"].to_numpy()\n",
    "V=   11.1923*11.1923*11.1923 * A3\n",
    "kbT = kb * T \n",
    "\n",
    "# N = int(len(ms))\n",
    "\n",
    "#acf_x = np.zeros(time.shape)\n",
    "#acf_y = np.zeros(time.shape)\n",
    "#acf_z = np.zeros(time.shape)\n",
    "#eps_0 = 0\n",
    "\n",
    "N=int(np.shape(plot_dipole_array)[0]/2)\n",
    "print(N)\n",
    "\n",
    "dMx=plot_dipole_array[:,0]\n",
    "dMy=plot_dipole_array[:,1]\n",
    "dMz=plot_dipole_array[:,2]\n",
    "\n",
    "\n",
    "eps_0 = 1.0 + ((np.mean(dMx**2+dMy**2+dMz**2))*debye**2)/(3.0*V*kbT*eps0)\n",
    "\n",
    "#自己相関関数を求める\n",
    "acf_x = sm.tsa.stattools.acf(dMx,nlags=N,fft=False)\n",
    "acf_y = sm.tsa.stattools.acf(dMy,nlags=N,fft=False)\n",
    "acf_z = sm.tsa.stattools.acf(dMz,nlags=N,fft=False)\n",
    "    "
   ]
  },
  {
   "cell_type": "code",
   "execution_count": 20,
   "metadata": {},
   "outputs": [
    {
     "data": {
      "text/plain": [
       "(7674, 3)"
      ]
     },
     "execution_count": 20,
     "metadata": {},
     "output_type": "execute_result"
    }
   ],
   "source": [
    "np.shape(plot_dipole_array)"
   ]
  },
  {
   "cell_type": "code",
   "execution_count": 21,
   "metadata": {},
   "outputs": [
    {
     "name": "stdout",
     "output_type": "stream",
     "text": [
      "[ 0.         -0.28273532 -0.56006984 ...  4.42925124  4.37168311\n",
      "  4.30599756]\n",
      "(3838,)\n"
     ]
    }
   ],
   "source": [
    "print(dMx)\n",
    "\n",
    "print(np.shape(acf_z))"
   ]
  },
  {
   "cell_type": "code",
   "execution_count": 22,
   "metadata": {},
   "outputs": [
    {
     "name": "stdout",
     "output_type": "stream",
     "text": [
      "0.120945\n"
     ]
    }
   ],
   "source": [
    "print(0.024189*5)"
   ]
  },
  {
   "cell_type": "code",
   "execution_count": 23,
   "metadata": {},
   "outputs": [
    {
     "name": "stdout",
     "output_type": "stream",
     "text": [
      "3838\n",
      "[0.00000000e+00 1.20945000e-03 2.41890000e-03 ... 4.63824075e+00\n",
      " 4.63945020e+00 4.64065965e+00]\n"
     ]
    }
   ],
   "source": [
    "# timestepをpsで計算する．\n",
    "time=np.arange(int(np.shape(plot_dipole_array)[0]/2)+1)*0.024189*5*10/1000\n",
    "print(len(time))\n",
    "\n",
    "print(time)"
   ]
  },
  {
   "cell_type": "code",
   "execution_count": 24,
   "metadata": {},
   "outputs": [
    {
     "data": {
      "image/png": "[encoded data removed]",
      "text/plain": [
       "<Figure size 432x288 with 1 Axes>"
      ]
     },
     "metadata": {
      "needs_background": "light"
     },
     "output_type": "display_data"
    }
   ],
   "source": [
    "import matplotlib.pyplot as plt\n",
    "plt.plot(time[:],np.zeros(time[:].shape))\n",
    "input_data =(acf_x+acf_y+acf_z)/3\n",
    "plt.plot(time[:],input_data,label=\"tot_from_numpy\")\n",
    "#sigma=1\n",
    "#blur_array = gaussian_filter((acf_x+acf_y+acf_z)/3, sigma)\n",
    "#plt.plot(time[:],blur_array,label=\"Blur\")\n",
    "plt.legend()\n",
    "plt.xlabel(\"time [ps]\")\n",
    "plt.ylabel(\"ACF\")\n",
    "plt.xscale(\"log\")\n",
    "plt.show()"
   ]
  },
  {
   "cell_type": "code",
   "execution_count": 25,
   "metadata": {},
   "outputs": [],
   "source": [
    "#天野さんコード(numpy)\n",
    "\n",
    "from calc_fourier import calc_fourier\n",
    "\n",
    "eps_n2 = 1.333**2\n",
    "eps_n2 = 10**2\n",
    "eps_inf = 1.0\n",
    "#eps_0 = pred_eps\n",
    "#data=acfs[\"acf\"].to_numpy()\n",
    "fft_data =(acf_x+acf_y+acf_z)/3\n",
    "#data[0]=0.5\n",
    "#data =blur_array\n",
    "\n",
    "TIMESTEP =(time[1]-time[0])  # psec.\n",
    "\n",
    "rfreq, ffteps1, ffteps2=calc_fourier(fft_data,eps_0, eps_n2,TIMESTEP)\n",
    "\n",
    "kayser = rfreq * 33.3 "
   ]
  },
  {
   "cell_type": "code",
   "execution_count": 26,
   "metadata": {},
   "outputs": [
    {
     "data": {
      "image/png": "[encoded data removed]",
      "text/plain": [
       "<Figure size 432x288 with 1 Axes>"
      ]
     },
     "metadata": {
      "needs_background": "light"
     },
     "output_type": "display_data"
    }
   ],
   "source": [
    "\n",
    "plt.plot(kayser, ffteps2, label=\"GaAs_333\")\n",
    "plt.legend()\n",
    "plt.xlabel(\"frequency/100 [cm-1]\")\n",
    "#plt.xlabel(\"frequency [THz]\")\n",
    "plt.ylabel(\"IR-Absorption (arb.-unit)\")\n",
    "plt.xlim(0,300)\n",
    "#plt.ylim(0,10)\n",
    "#plt.xscale('log')\n",
    "#plt.yscale('log')\n",
    "plt.show()"
   ]
  }
 ],
 "metadata": {
  "kernelspec": {
   "display_name": "Python 3.10.4",
   "language": "python",
   "name": "python3"
  },
  "language_info": {
   "codemirror_mode": {
    "name": "ipython",
    "version": 3
   },
   "file_extension": ".py",
   "mimetype": "text/x-python",
   "name": "python",
   "nbconvert_exporter": "python",
   "pygments_lexer": "ipython3",
   "version": "3.10.4"
  },
  "vscode": {
   "interpreter": {
    "hash": "6086fd495bbbd13a2b02fb8fcd6e9776a9c6b600284432da935ceecd1284d10c"
   }
  }
 },
 "nbformat": 4,
 "nbformat_minor": 1
}
