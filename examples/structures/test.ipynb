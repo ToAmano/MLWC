{
 "cells": [
  {
   "cell_type": "code",
   "execution_count": 3,
   "metadata": {},
   "outputs": [
    {
     "data": {
      "application/vnd.jupyter.widget-view+json": {
       "model_id": "d606ffcb154b4da4bcde4c068e583233",
       "version_major": 2,
       "version_minor": 0
      },
      "text/plain": [
       "NGLWidget()"
      ]
     },
     "metadata": {},
     "output_type": "display_data"
    },
    {
     "data": {
      "application/vnd.jupyter.widget-view+json": {
       "model_id": "6e43847d1f1747b59af17f78acd2dcf3",
       "version_major": 2,
       "version_minor": 0
      },
      "text/plain": [
       "Tab(children=(Box(children=(Box(children=(Box(children=(Label(value='step'), IntSlider(value=1, min=-100)), la…"
      ]
     },
     "metadata": {},
     "output_type": "display_data"
    }
   ],
   "source": [
    "#構造可視化\n",
    "\n",
    "import nglview as nv\n",
    "import ase.io\n",
    "import copy \n",
    "aseatoms_with_WC = ase.io.read(\"2propanol_128/2propanol_128mol.cif\")\n",
    "\n",
    "w = nv.show_ase(aseatoms_with_WC,gui=True)\n",
    "# w.clear_representations()\n",
    "# w.add_label(radius=0.2,color=\"black\",label_type=\"atom\")\n",
    "# w.add_ball_and_stick(\"_He\",color=\"green\",radius=0.004,aspectRatio=50)\n",
    "# w.add_ball_and_stick(\"_Ne\",color=\"cyan\",radius=0.004,aspectRatio=50)\n",
    "# w.add_ball_and_stick(\"_Ar\",color=\"green\",radius=0.004,aspectRatio=50)\n",
    "# #w.add_ball_and_stick(\"_Li\",color=\"cyan\",radius=0.1)\n",
    "# #w.add_ball_and_stick(\"_Be\",color=\"blue\",radius=0.1)\n",
    "# w.add_ball_and_stick(\"_H\")\n",
    "# w.add_ball_and_stick(\"_C\")\n",
    "# w.add_ball_and_stick(\"_O\")\n",
    "# w.add_ball_and_stick(\"_N\")\n",
    "\n",
    "#w.clear_representations()\n",
    "#w.add_label(radius=1,color=\"black\",label_type=\"atom\")\n",
    "#view.add_representation(\"ball+stick\")\n",
    "#w.add_representation(\"ball+stick\",selection=[i for i in range(0,n_atoms)],opacity=1.0)\n",
    "#w.add_representation(\"ball+stick\",selection=[i for i in range(n_atoms,total_atoms)],opacity=1,aspectRatio=2)\n",
    "w.add_unitcell()\n",
    "w.update_unitcell()\n",
    "w"
   ]
  },
  {
   "cell_type": "code",
   "execution_count": null,
   "metadata": {},
   "outputs": [],
   "source": []
  }
 ],
 "metadata": {
  "kernelspec": {
   "display_name": "dieltools",
   "language": "python",
   "name": "python3"
  },
  "language_info": {
   "codemirror_mode": {
    "name": "ipython",
    "version": 3
   },
   "file_extension": ".py",
   "mimetype": "text/x-python",
   "name": "python",
   "nbconvert_exporter": "python",
   "pygments_lexer": "ipython3",
   "version": "3.11.9"
  }
 },
 "nbformat": 4,
 "nbformat_minor": 2
}
