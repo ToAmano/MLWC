{
 "cells": [
  {
   "cell_type": "code",
   "execution_count": 1,
   "metadata": {},
   "outputs": [
    {
     "data": {
      "application/vnd.jupyter.widget-view+json": {
       "model_id": "f17f6abae5c044dfaadffa4f2ed6f547",
       "version_major": 2,
       "version_minor": 0
      },
      "text/plain": []
     },
     "metadata": {},
     "output_type": "display_data"
    }
   ],
   "source": [
    "import ase.io\n",
    "import numpy as np\n",
    "import nglview as nv\n",
    "from ase.io.trajectory import Trajectory"
   ]
  },
  {
   "cell_type": "code",
   "execution_count": 8,
   "metadata": {},
   "outputs": [
    {
     "name": "stdout",
     "output_type": "stream",
     "text": [
      "The autoreload extension is already loaded. To reload it, use:\n",
      "  %reload_ext autoreload\n"
     ]
    }
   ],
   "source": [
    "# import importlib\n",
    "# importlib.reload(cpmd)\n",
    "\n",
    "%load_ext autoreload\n",
    "%autoreload 2\n",
    "import cpmd\n"
   ]
  },
  {
   "cell_type": "code",
   "execution_count": 47,
   "metadata": {},
   "outputs": [],
   "source": [
    "%reload_ext autoreload"
   ]
  },
  {
   "cell_type": "code",
   "execution_count": 43,
   "metadata": {},
   "outputs": [],
   "source": [
    "# import gaas trajectory without wannier centers\n",
    "filename=\"mgo.pos\"\n",
    "pwin=\"mgo.3_nve.in\"\n",
    "traj =  cpmd.read_traj.ReadPOS(filename=filename, pwin=pwin)\n",
    "#nv.show_asetraj(traj.ATOMS_LIST)"
   ]
  },
  {
   "cell_type": "code",
   "execution_count": 44,
   "metadata": {},
   "outputs": [
    {
     "data": {
      "text/plain": [
       "0"
      ]
     },
     "execution_count": 44,
     "metadata": {},
     "output_type": "execute_result"
    }
   ],
   "source": [
    "# import forces \n",
    "traj.set_force_from_file(\"mgo.for\")"
   ]
  },
  {
   "cell_type": "code",
   "execution_count": 45,
   "metadata": {},
   "outputs": [
    {
     "name": "stdout",
     "output_type": "stream",
     "text": [
      "(1487, 64, 3)\n"
     ]
    }
   ],
   "source": [
    "# forceの単位は*.forファイルではHartree/Bohr, \n",
    "# custom_trajではRy/Bhor=2Hartree/Bohrに変換されている（alamodeのために）\n",
    "print(np.shape(traj.force))"
   ]
  },
  {
   "cell_type": "code",
   "execution_count": 49,
   "metadata": {},
   "outputs": [
    {
     "name": "stdout",
     "output_type": "stream",
     "text": [
      "1487 64\n",
      "i=  0\n",
      "i=  1000\n"
     ]
    },
    {
     "data": {
      "text/plain": [
       "0"
      ]
     },
     "execution_count": 49,
     "metadata": {},
     "output_type": "execute_result"
    }
   ],
   "source": [
    "traj.export_dfset_pwin(interval_step=1000)"
   ]
  }
 ],
 "metadata": {
  "kernelspec": {
   "display_name": "Python 3.10.5 ('aiida')",
   "language": "python",
   "name": "python3"
  },
  "language_info": {
   "codemirror_mode": {
    "name": "ipython",
    "version": 3
   },
   "file_extension": ".py",
   "mimetype": "text/x-python",
   "name": "python",
   "nbconvert_exporter": "python",
   "pygments_lexer": "ipython3",
   "version": "3.10.5"
  },
  "vscode": {
   "interpreter": {
    "hash": "3d188ad2cd356ed504fdd6ea02ecb215006a2f34c3e0b1679d43ca3fb32dec55"
   }
  }
 },
 "nbformat": 4,
 "nbformat_minor": 1
}
