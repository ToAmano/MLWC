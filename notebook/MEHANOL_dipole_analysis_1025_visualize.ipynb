{
 "cells": [
  {
   "attachments": {},
   "cell_type": "markdown",
   "id": "5c678027",
   "metadata": {},
   "source": [
    "# 双極子データの解析@メタノール\n",
    "\n",
    "## 2023/10/3 :: ethanolの10psデータの計算（CCP2023 proceeding用）\n",
    "\n",
    "## 屈折率は[1.4326](https://www.sccj-ifscc.com/library/glossary_detail/1547)\n",
    "\n",
    "## 今までの計算データ\n",
    "\n",
    "1: 32分子：ohtakaのデータ(/home/k0151/k015124/15_Ethanol/)\n",
    "    2023/10/3現在，まだ10ps分しか終わっていないので，継続的にデータをとってより長時間のtrajectoryを取得する．どうもちゃんと緩和できているか怪しいので，理想的には25psくらいとって後ろの20psを使いたいところ．\n",
    " "
   ]
  },
  {
   "cell_type": "code",
   "execution_count": 1,
   "id": "2e414d4f",
   "metadata": {},
   "outputs": [],
   "source": [
    "# plt.scatter(co_train_pred,co_train_true,label=\"train\",alpha=0.2,color=\"#1f77b4\",s=5)\n",
    "# plt.scatter(co_test_pred,co_test_true,label=\"test\",alpha=0.2, color='#ff7f0e',s=5)\n",
    "\n",
    "# plt.scatter(ch_train_pred,ch_train_true, alpha=0.1,color=\"#1f77b4\",s=5)\n",
    "# plt.scatter(ch_test_pred,ch_test_true,alpha=0.1, color='#ff7f0e',s=5)\n",
    "\n",
    "# plt.scatter(oh_train_pred,oh_train_true,alpha=0.1,color=\"#1f77b4\",s=5)\n",
    "# plt.scatter(oh_test_pred,oh_test_true,alpha=0.1, color='#ff7f0e',s=5)\n",
    "\n",
    "# plt.scatter(o_train_pred,o_train_true,alpha=0.1,color=\"#1f77b4\",s=5)\n",
    "# plt.scatter(o_test_pred,o_test_true,alpha=0.1, color='#ff7f0e',s=5)\n",
    "\n",
    "# plt.xlim(0,3.5)\n",
    "# plt.ylim(0,3.5)\n",
    "# #plt.title(\"This is a title\")\n",
    "# plt.xlabel(\"DNN predicted dipole [D] \")\n",
    "# plt.ylabel(\"QE dipole [D] \")\n",
    "# plt.grid(True)\n",
    "# # plt.title(str(c))\n",
    "# plt.legend()\n",
    "# plt.savefig(load_dir+\"methanol_1mol.png\")\n",
    "# plt.show()\n"
   ]
  },
  {
   "cell_type": "code",
   "execution_count": 2,
   "id": "9ae67044",
   "metadata": {},
   "outputs": [
    {
     "name": "stdout",
     "output_type": "stream",
     "text": [
      "20231026\n"
     ]
    },
    {
     "ename": "FileExistsError",
     "evalue": "[Errno 17] File exists: '20231026'",
     "output_type": "error",
     "traceback": [
      "\u001b[0;31m---------------------------------------------------------------------------\u001b[0m",
      "\u001b[0;31mFileExistsError\u001b[0m                           Traceback (most recent call last)",
      "\u001b[1;32m/Volumes/Realtek RTL9210B-CG Media_2/15_ethanol/32mol/20231002_analysis/MEHANOL_dipole_analysis_1025_visualize.ipynb セル 3\u001b[0m line \u001b[0;36m6\n\u001b[1;32m      <a href='vscode-notebook-cell:/Volumes/Realtek%20RTL9210B-CG%20Media_2/15_ethanol/32mol/20231002_analysis/MEHANOL_dipole_analysis_1025_visualize.ipynb#W2sZmlsZQ%3D%3D?line=2'>3</a>\u001b[0m \u001b[39mprint\u001b[39m(dt_now\u001b[39m.\u001b[39mstrftime(\u001b[39m'\u001b[39m\u001b[39m%\u001b[39m\u001b[39mY\u001b[39m\u001b[39m%\u001b[39m\u001b[39mm\u001b[39m\u001b[39m%d\u001b[39;00m\u001b[39m'\u001b[39m))\n\u001b[1;32m      <a href='vscode-notebook-cell:/Volumes/Realtek%20RTL9210B-CG%20Media_2/15_ethanol/32mol/20231002_analysis/MEHANOL_dipole_analysis_1025_visualize.ipynb#W2sZmlsZQ%3D%3D?line=4'>5</a>\u001b[0m \u001b[39mimport\u001b[39;00m \u001b[39mos\u001b[39;00m\n\u001b[0;32m----> <a href='vscode-notebook-cell:/Volumes/Realtek%20RTL9210B-CG%20Media_2/15_ethanol/32mol/20231002_analysis/MEHANOL_dipole_analysis_1025_visualize.ipynb#W2sZmlsZQ%3D%3D?line=5'>6</a>\u001b[0m os\u001b[39m.\u001b[39;49mmkdir(\u001b[39mstr\u001b[39;49m(dt_now\u001b[39m.\u001b[39;49mstrftime(\u001b[39m'\u001b[39;49m\u001b[39m%\u001b[39;49m\u001b[39mY\u001b[39;49m\u001b[39m%\u001b[39;49m\u001b[39mm\u001b[39;49m\u001b[39m%d\u001b[39;49;00m\u001b[39m'\u001b[39;49m)))\n\u001b[1;32m      <a href='vscode-notebook-cell:/Volumes/Realtek%20RTL9210B-CG%20Media_2/15_ethanol/32mol/20231002_analysis/MEHANOL_dipole_analysis_1025_visualize.ipynb#W2sZmlsZQ%3D%3D?line=7'>8</a>\u001b[0m datetoday\u001b[39m=\u001b[39m\u001b[39mstr\u001b[39m(dt_now\u001b[39m.\u001b[39mstrftime(\u001b[39m'\u001b[39m\u001b[39m%\u001b[39m\u001b[39mY\u001b[39m\u001b[39m%\u001b[39m\u001b[39mm\u001b[39m\u001b[39m%d\u001b[39;00m\u001b[39m'\u001b[39m))\n",
      "\u001b[0;31mFileExistsError\u001b[0m: [Errno 17] File exists: '20231026'"
     ]
    }
   ],
   "source": [
    "import datetime\n",
    "dt_now = datetime.datetime.now()\n",
    "print(dt_now.strftime('%Y%m%d'))\n",
    "\n",
    "import os\n",
    "os.mkdir(str(dt_now.strftime('%Y%m%d')))\n",
    "\n",
    "datetoday=str(dt_now.strftime('%Y%m%d'))"
   ]
  },
  {
   "cell_type": "code",
   "execution_count": 2,
   "id": "1e5b0d65",
   "metadata": {},
   "outputs": [
    {
     "name": "stdout",
     "output_type": "stream",
     "text": [
      "total_atoms :: 40000\n"
     ]
    },
    {
     "data": {
      "application/vnd.jupyter.widget-view+json": {
       "model_id": "8d70ee5c17824fb98e4a4ba57590cce2",
       "version_major": 2,
       "version_minor": 0
      },
      "text/plain": []
     },
     "metadata": {},
     "output_type": "display_data"
    },
    {
     "data": {
      "application/vnd.jupyter.widget-view+json": {
       "model_id": "f2e7a410d4134c55a3cbbe564551b151",
       "version_major": 2,
       "version_minor": 0
      },
      "text/plain": [
       "NGLWidget(max_frame=39999)"
      ]
     },
     "metadata": {},
     "output_type": "display_data"
    },
    {
     "data": {
      "application/vnd.jupyter.widget-view+json": {
       "model_id": "a664e9d59e4e4eadbf549e0dfbbbf8ca",
       "version_major": 2,
       "version_minor": 0
      },
      "text/plain": [
       "Tab(children=(Box(children=(Box(children=(Box(children=(Label(value='step'), IntSlider(value=1, min=-100)), la…"
      ]
     },
     "metadata": {},
     "output_type": "display_data"
    }
   ],
   "source": [
    "#構造可視化\n",
    "import ase \n",
    "import ase.io\n",
    "\n",
    "# 全部読み込むと重すぎるので\n",
    "aseatoms_with_WC=ase.io.read(\"/Volumes/Realtek RTL9210B-CG Media_2/12_methanol/100ps_dt1_methanol/dipole_100ps_3/mol_wan.xyz\",index=\"10000:50000\")\n",
    "total_atoms = len(aseatoms_with_WC)\n",
    "print(\"total_atoms ::\", total_atoms)\n",
    "\n",
    "import nglview as nv\n",
    "import ase.io\n",
    "import copy \n",
    "\n",
    "w = nv.show_asetraj(aseatoms_with_WC,gui=True)\n",
    "w.clear_representations()\n",
    "w.add_label(radius=0.2,color=\"black\",label_type=\"atom\")\n",
    "w.add_ball_and_stick(\"_He\",color=\"green\",radius=0.004,aspectRatio=50)\n",
    "w.add_ball_and_stick(\"_Ne\",color=\"cyan\",radius=0.004,aspectRatio=50)\n",
    "w.add_ball_and_stick(\"_Ar\",color=\"green\",radius=0.004,aspectRatio=50)\n",
    "#w.add_ball_and_stick(\"_Li\",color=\"cyan\",radius=0.1)\n",
    "#w.add_ball_and_stick(\"_Be\",color=\"blue\",radius=0.1)\n",
    "w.add_ball_and_stick(\"_H\")\n",
    "w.add_ball_and_stick(\"_C\")\n",
    "w.add_ball_and_stick(\"_O\")\n",
    "w.add_ball_and_stick(\"_N\")\n",
    "\n",
    "#w.clear_representations()\n",
    "#w.add_label(radius=1,color=\"black\",label_type=\"atom\")\n",
    "#view.add_representation(\"ball+stick\")\n",
    "#w.add_representation(\"ball+stick\",selection=[i for i in range(0,n_atoms)],opacity=1.0)\n",
    "#w.add_representation(\"ball+stick\",selection=[i for i in range(n_atoms,total_atoms)],opacity=1,aspectRatio=2)\n",
    "w.add_unitcell()\n",
    "w.update_unitcell()\n",
    "w"
   ]
  },
  {
   "cell_type": "code",
   "execution_count": null,
   "id": "983c867b",
   "metadata": {},
   "outputs": [],
   "source": [
    "#構造可視化\n",
    "import ase \n",
    "import ase.io\n",
    "\n",
    "# aseatoms_with_WC=ase.io.read(\"/Volumes/Realtek RTL9210B-CG Media_2/12_methanol/100ps_dt1_methanol/dipole_100ps_3/mol_wan.xyz\",index=\":\")\n",
    "# total_atoms = len(aseatoms_with_WC)\n",
    "# print(\"total_atoms ::\", total_atoms)\n",
    "\n",
    "import nglview as nv\n",
    "import ase.io\n",
    "import copy \n",
    "\n",
    "w = nv.show_asetraj(aseatoms_with_WC,gui=True)\n",
    "w.clear_representations()\n",
    "w.add_label(radius=0.2,color=\"black\",label_type=\"atom\")\n",
    "w.add_ball_and_stick(\"_He\",color=\"green\",radius=0.004,aspectRatio=50)\n",
    "w.add_ball_and_stick(\"_Ne\",color=\"cyan\",radius=0.004,aspectRatio=50)\n",
    "w.add_ball_and_stick(\"_Ar\",color=\"green\",radius=0.004,aspectRatio=50)\n",
    "#w.add_ball_and_stick(\"_Li\",color=\"cyan\",radius=0.1)\n",
    "#w.add_ball_and_stick(\"_Be\",color=\"blue\",radius=0.1)\n",
    "w.add_ball_and_stick(\"_H\")\n",
    "w.add_ball_and_stick(\"_C\")\n",
    "w.add_ball_and_stick(\"_O\")\n",
    "w.add_ball_and_stick(\"_N\")\n",
    "\n",
    "#w.clear_representations()\n",
    "#w.add_label(radius=1,color=\"black\",label_type=\"atom\")\n",
    "#view.add_representation(\"ball+stick\")\n",
    "#w.add_representation(\"ball+stick\",selection=[i for i in range(0,n_atoms)],opacity=1.0)\n",
    "#w.add_representation(\"ball+stick\",selection=[i for i in range(n_atoms,total_atoms)],opacity=1,aspectRatio=2)\n",
    "w.add_unitcell()\n",
    "w.update_unitcell()\n",
    "w"
   ]
  },
  {
   "cell_type": "code",
   "execution_count": null,
   "id": "443364ec",
   "metadata": {},
   "outputs": [],
   "source": []
  }
 ],
 "metadata": {
  "kernelspec": {
   "display_name": "ml",
   "language": "python",
   "name": "python3"
  },
  "language_info": {
   "codemirror_mode": {
    "name": "ipython",
    "version": 3
   },
   "file_extension": ".py",
   "mimetype": "text/x-python",
   "name": "python",
   "nbconvert_exporter": "python",
   "pygments_lexer": "ipython3",
   "version": "3.11.0"
  },
  "vscode": {
   "interpreter": {
    "hash": "24a069e81befd82fcc9b24cab329dfed5a026c574c36bfeb5496b58d02225b9f"
   }
  }
 },
 "nbformat": 4,
 "nbformat_minor": 5
}
