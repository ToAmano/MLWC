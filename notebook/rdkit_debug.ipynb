{
 "cells": [
  {
   "attachments": {},
   "cell_type": "markdown",
   "metadata": {},
   "source": [
    "# 2023/5/26 \n",
    "# rdkitを用いたボンド情報読み込みクラスread_molのデバックを行う\n",
    "\n",
    "## まず，obabelでgroからmolへと変換する必要がある．\n",
    "## ここをやらなくて良いように，CPmake.py smileにmolを作る機能も追加しておいた．\n",
    "```\n",
    "obabel -i gro input_GMX.gro -o mol > input_GMX.mol\n",
    "```"
   ]
  },
  {
   "cell_type": "code",
   "execution_count": 1,
   "metadata": {},
   "outputs": [
    {
     "data": {
      "text/plain": [
       "<module 'ml.atomtype' from '/Users/amano/works/research/dieltools/src/ml/atomtype.py'>"
      ]
     },
     "execution_count": 1,
     "metadata": {},
     "output_type": "execute_result"
    }
   ],
   "source": [
    "from importlib import reload # >= python 3.4\n",
    "import ml.atomtype\n",
    "reload(ml.atomtype)"
   ]
  },
  {
   "cell_type": "code",
   "execution_count": 2,
   "metadata": {},
   "outputs": [],
   "source": [
    "filename_mol=\"../smiles/pg.acpype/input_GMX.mol\"\n",
    "filename_itp=\"../smiles/pg.acpype/input_GMX.itp\""
   ]
  },
  {
   "cell_type": "code",
   "execution_count": 4,
   "metadata": {},
   "outputs": [
    {
     "name": "stdout",
     "output_type": "stream",
     "text": [
      " -----  ml.read_mol :: parse results... -------\n",
      " bonds_list ::  [[1, 7], [1, 0], [2, 3], [2, 8], [2, 1], [3, 9], [4, 2], [5, 0], [6, 1], [10, 4], [11, 4], [12, 4]]\n",
      " counter    ::  13\n",
      " atom_list  ::  ['O', 'C', 'C', 'O', 'C', 'H', 'H', 'H', 'H', 'H', 'H', 'H', 'H']\n",
      " -----------------------------------------------\n",
      " ================ \n",
      " CH bonds...       [[1, 7], [2, 8], [6, 1], [10, 4], [11, 4], [12, 4]]\n",
      " CO bonds...       [[1, 0], [2, 3]]\n",
      " OH bonds...       [[3, 9], [5, 0]]\n",
      " OO bonds...       []\n",
      " CC bonds...       [[2, 1], [4, 2]]\n",
      " CC ring bonds...  []\n",
      " \n",
      "\n",
      " ================== \n",
      " ring_bond_index  []\n",
      " ch_bond_index    [0, 3, 8, 9, 10, 11]\n",
      " oh_bond_index    [5, 7]\n",
      " co_bond_index    [1, 2]\n",
      " cc_bond_index    [4, 6]\n",
      " ================ \n",
      " O atoms (lonepair)...       [0, 3]\n",
      " N atoms (lonepair)...       []\n",
      " ====== \n",
      " -----  ml.read_itp  :: parse results... -------\n",
      " bonds_list ::  [[0, 1], [0, 5], [1, 2], [1, 6], [1, 7], [2, 3], [2, 4], [2, 8], [3, 9], [4, 10], [4, 11], [4, 12]]\n",
      " counter    ::  13\n",
      " atomic_type::  ['oh', 'c3', 'c3', 'oh', 'c3', 'ho', 'h1', 'h1', 'h1', 'ho', 'hc', 'hc', 'hc']\n",
      " atom_list  ::  ['O', 'C', 'C', 'O', 'C', 'H', 'H', 'H', 'H', 'H', 'H', 'H', 'H']\n",
      " -----------------------------------------------\n",
      " ================ \n",
      " CH bonds...       [[1, 6], [1, 7], [2, 8], [4, 10], [4, 11], [4, 12]]\n",
      " CO bonds...       [[0, 1], [2, 3]]\n",
      " OH bonds...       [[0, 5], [3, 9]]\n",
      " OO bonds...       []\n",
      " CC bonds...       [[1, 2], [2, 4]]\n",
      " CC ring bonds...  []\n",
      " \n",
      "\n",
      " ================== \n",
      " ring_bond_index  []\n",
      " ch_bond_index    [3, 4, 7, 9, 10, 11]\n",
      " oh_bond_index    [1, 8]\n",
      " co_bond_index    [0, 5]\n",
      " cc_bond_index    [2, 6]\n",
      " ================ \n",
      " O atoms (lonepair)...       [0, 3]\n",
      " N atoms (lonepair)...       []\n"
     ]
    }
   ],
   "source": [
    "test_mol=ml.atomtype.read_mol(filename_mol)\n",
    "print(\" ====== \")\n",
    "test_itp=ml.atomtype.read_itp(filename_itp)"
   ]
  },
  {
   "cell_type": "code",
   "execution_count": 7,
   "metadata": {},
   "outputs": [
    {
     "name": "stdout",
     "output_type": "stream",
     "text": [
      "<rdkit.Chem.rdchem._ROAtomSeq object at 0x10fb8f680>\n",
      "False\n",
      "0\n"
     ]
    }
   ],
   "source": [
    "#\n",
    "# * molオブジェクト内にatomオブジェクトが格納されている\n",
    "\n",
    "# rdkitのmolオブジェクトから原子を取得\n",
    "print(test_mol.mol_rdkit.GetAtoms())\n",
    "\n",
    "# 原子が芳香族かどうか\n",
    "print(test_mol.mol_rdkit.GetAtoms()[0].GetIsAromatic())\n",
    "\n",
    "print(test_mol.mol_rdkit.GetAtoms()[0].GetIdx()) #get index\n",
    "print(test_mol.mol_rdkit.GetAtoms()[0].GetAtomicNum()) #get atomic number\n",
    "\n"
   ]
  },
  {
   "attachments": {},
   "cell_type": "markdown",
   "metadata": {},
   "source": [
    "インデックス\tatom.GetIdx()\n",
    "原子番号\tatom.GetAtomicNum()\n",
    "元素記号\tatom.GetSymbol()\n",
    "質量\tatom.GetMass()\n",
    "混成\tatom.GetHybridization()\n",
    "環内原子か否か\tatom.IsInRing()\n",
    "芳香族か否か\tatom.GetIsAromatic()\n",
    "結合リスト\tatom.GetBonds()"
   ]
  },
  {
   "cell_type": "code",
   "execution_count": 23,
   "metadata": {},
   "outputs": [
    {
     "name": "stdout",
     "output_type": "stream",
     "text": [
      "O 0.95 -0.02 0.07\n",
      "C 0.45 -0.07 -1.27\n",
      "C 0.95 1.14 -2.05\n",
      "O 2.38 1.14 -2.05\n",
      "C 0.47 1.12 -3.49\n",
      "[ 1.04   0.662 -1.758]\n",
      "[1.95315335 1.05927711 0.56731649 1.45235946 1.8800234 ]\n",
      "2\n",
      "[0, 1, 2, 3, 4]\n",
      "2\n"
     ]
    }
   ],
   "source": [
    "#\n",
    "# * 原子の座標を取得する\n",
    "# https://stackoverflow.com/questions/71915443/rdkit-coordinates-for-atoms-in-a-molecule\n",
    "import numpy as np\n",
    "\n",
    "# test_mol.mol_rdkit.GetConformer().GetAtomPosition(0).x\n",
    "\n",
    "positions_skelton = []\n",
    "index_tmp = []\n",
    "for i, atom in enumerate(test_mol.mol_rdkit.GetAtoms()):\n",
    "    positions = test_mol.mol_rdkit.GetConformer().GetAtomPosition(i)\n",
    "    # print(atom.GetSymbol(), positions.x, positions.y, positions.z)\n",
    "    if atom.GetSymbol() != \"H\":\n",
    "        print(atom.GetSymbol(), positions.x, positions.y, positions.z)\n",
    "        positions_skelton.append(np.array([positions.x, positions.y, positions.z]))\n",
    "        index_tmp.append(i)\n",
    "\n",
    "positions_skelton=np.array(positions_skelton)\n",
    "positions_mean = np.mean(positions_skelton, axis=0)\n",
    "print(positions_mean)\n",
    "\n",
    "# positions_meanに一番近い原子を探す\n",
    "distance = np.linalg.norm(positions_skelton - positions_mean,axis=1)\n",
    "print(distance)\n",
    "\n",
    "# distanceの中で最小のindexを返す\n",
    "print(np.argmin(distance))\n",
    "print(index_tmp)\n",
    "\n",
    "# 最小のindexを与える原子のindexを返す\n",
    "print(index_tmp[np.argmin(distance)])"
   ]
  },
  {
   "cell_type": "code",
   "execution_count": 52,
   "metadata": {},
   "outputs": [
    {
     "name": "stdout",
     "output_type": "stream",
     "text": [
      "13\n",
      "0 O 8\n",
      "1 C 6\n",
      "2 C 6\n",
      "3 O 8\n",
      "4 C 6\n",
      "5 H 1\n",
      "6 H 1\n",
      "7 H 1\n",
      "8 H 1\n",
      "9 H 1\n",
      "10 H 1\n",
      "11 H 1\n",
      "12 H 1\n"
     ]
    }
   ],
   "source": [
    "chemmol=test_mol.mol_rdkit\n",
    "print(chemmol.GetNumAtoms())\n",
    "for i in chemmol.GetAtoms():\n",
    "    print(i.GetIdx(), i.GetSymbol(), i.GetAtomicNum())"
   ]
  },
  {
   "cell_type": "code",
   "execution_count": null,
   "metadata": {},
   "outputs": [],
   "source": []
  }
 ],
 "metadata": {
  "kernelspec": {
   "display_name": "dieltools",
   "language": "python",
   "name": "python3"
  },
  "language_info": {
   "codemirror_mode": {
    "name": "ipython",
    "version": 3
   },
   "file_extension": ".py",
   "mimetype": "text/x-python",
   "name": "python",
   "nbconvert_exporter": "python",
   "pygments_lexer": "ipython3",
   "version": "3.11.3"
  },
  "orig_nbformat": 4
 },
 "nbformat": 4,
 "nbformat_minor": 2
}
