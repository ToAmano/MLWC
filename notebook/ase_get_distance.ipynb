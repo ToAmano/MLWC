{
 "cells": [
  {
   "attachments": {},
   "cell_type": "markdown",
   "metadata": {},
   "source": [
    "# 2023/5/26 \n",
    "# ase.get_distancesの代替として作成した\n",
    "# raw_minimum_image_convention(aseatom, a:int, indices, mic=False, vector=False)\n",
    "# のデバッグ"
   ]
  },
  {
   "cell_type": "code",
   "execution_count": 32,
   "metadata": {},
   "outputs": [
    {
     "data": {
      "text/plain": [
       "<module 'cpmd.asign_wcs' from '/Users/amano/works/research/dieltools/src/cpmd/asign_wcs.py'>"
      ]
     },
     "execution_count": 32,
     "metadata": {},
     "output_type": "execute_result"
    }
   ],
   "source": [
    "from importlib import reload # >= python 3.4\n",
    "import cpmd.asign_wcs\n",
    "reload(cpmd.asign_wcs)"
   ]
  },
  {
   "cell_type": "code",
   "execution_count": 33,
   "metadata": {},
   "outputs": [],
   "source": [
    "# 適当な座標ファイルを読み込み\n",
    "import ase\n",
    "import ase.io\n",
    "import numpy as np\n",
    "aseatom = ase.io.read(\"../test/gromacs_30.xyz\")"
   ]
  },
  {
   "cell_type": "code",
   "execution_count": 23,
   "metadata": {},
   "outputs": [
    {
     "name": "stdout",
     "output_type": "stream",
     "text": [
      "(384, 3)\n",
      "16.267601013183594\n",
      "8.133671643183593\n"
     ]
    }
   ],
   "source": [
    "coordinate = aseatom.get_positions()\n",
    "position = coordinate[0]\n",
    "distances = coordinate[:]-position\n",
    "print(np.shape(distances))\n",
    "cell = aseatom.get_cell()[0][0]\n",
    "print(cell)\n",
    "distances = np.where(np.abs(distances) > cell/2, distances-cell*np.sign(distances),distances)\n",
    "print(np.max(np.abs(distances)))"
   ]
  },
  {
   "cell_type": "code",
   "execution_count": 36,
   "metadata": {},
   "outputs": [],
   "source": [
    "ase_distance = aseatom.get_distances(2,slice(None),mic=True, vector=True)\n",
    "my_distance  = cpmd.asign_wcs.raw_minimum_image_convention(aseatom,2,slice(None),mic=True, vector=True)\n",
    "assert (np.abs(ase_distance-my_distance) < 0.0000000001 ).all()\n",
    "\n",
    "# print(ase_distance-my_distance)"
   ]
  },
  {
   "cell_type": "code",
   "execution_count": null,
   "metadata": {},
   "outputs": [],
   "source": []
  }
 ],
 "metadata": {
  "kernelspec": {
   "display_name": "dieltools",
   "language": "python",
   "name": "python3"
  },
  "language_info": {
   "codemirror_mode": {
    "name": "ipython",
    "version": 3
   },
   "file_extension": ".py",
   "mimetype": "text/x-python",
   "name": "python",
   "nbconvert_exporter": "python",
   "pygments_lexer": "ipython3",
   "version": "3.11.0"
  },
  "orig_nbformat": 4
 },
 "nbformat": 4,
 "nbformat_minor": 2
}
