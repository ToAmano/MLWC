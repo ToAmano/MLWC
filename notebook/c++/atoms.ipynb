{
 "cells": [
  {
   "attachments": {},
   "cell_type": "markdown",
   "metadata": {
    "vscode": {
     "languageId": "cpp"
    }
   },
   "source": [
    "# macos+vscode+jupyter+clingという組み合わせでc++を扱う方法\n",
    "\n",
    "1: cling + jupyterkernel（ここで紹介）\n",
    "2: xeus-cling\n",
    "3: root cling\n",
    "\n",
    "最初２の方法を試したが，condaでclingがちゃんと入らない（入っても起動後にerrorになっちゃう）ので，1の方法を取ることにした．clingはbrewでもインストールできて，こちらのclingがちゃんと動いた．\n",
    "\n",
    "clingが動いたら，jupyter用のkernelを別途インストールする必要がある．\n",
    "\n",
    "```cpp\n",
    "In file included from input_line_15:1:\n",
    "In file included from /Library/Developer/CommandLineTools/SDKs/MacOSX12.sdk/usr/include/c++/v1/iostream:37:\n",
    "In file included from /Library/Developer/CommandLineTools/SDKs/MacOSX12.sdk/usr/include/c++/v1/ios:214:\n",
    "In file included from /Library/Developer/CommandLineTools/SDKs/MacOSX12.sdk/usr/include/c++/v1/__locale:15:\n",
    "In file included from /Library/Developer/CommandLineTools/SDKs/MacOSX12.sdk/usr/include/c++/v1/string:519:\n",
    "In file included from /Library/Developer/CommandLineTools/SDKs/MacOSX12.sdk/usr/include/c++/v1/__debug:14:\n",
    "In file included from /Library/Developer/CommandLineTools/SDKs/MacOSX12.sdk/usr/include/c++/v1/iosfwd:98:\n",
    "In file included from /Library/Developer/CommandLineTools/SDKs/MacOSX12.sdk/usr/include/c++/v1/__mbstate_t.h:29:\n",
    "In file included from /Library/Developer/CommandLineTools/SDKs/MacOSX12.sdk/usr/include/c++/v1/wchar.h:123:\n",
    "/Library/Developer/CommandLineTools/SDKs/MacOSX.sdk/usr/include/wchar.h:89:10: fatal error: 'stdarg.h' file not found\n",
    "#include <stdarg.h>\n",
    "         ^~~~~~~~~~\n",
    "ename: evalue\n",
    "```\n",
    "\n",
    "となってiostreamがロードできない．これは困るので対策をする．jupyter notebookの場合，単にstdarg.hがあるディレクトリにcpathを通せばよかった．\n",
    "\n",
    "```bash\n",
    "export CPATH=/Library/Developer/CommandLineTools/usr/lib/tapi/14.0.3/include:$CPATH\n",
    "```\n",
    "\n",
    "しかし，この方法だとvscodeでは解決せず，結局`/Library/Developer/CommandLineTools/SDKs/MacOSX.sdk/usr/include/`ディレクトリにstdarg.hを手でリンクを貼ることで解決できた．\n"
   ]
  },
  {
   "cell_type": "code",
   "execution_count": 1,
   "metadata": {
    "vscode": {
     "languageId": "c++"
    }
   },
   "outputs": [
    {
     "data": {
      "text/plain": []
     },
     "execution_count": 1,
     "metadata": {},
     "output_type": "execute_result"
    }
   ],
   "source": [
    "#include <stdio.h>\n",
    "#include <iostream>\n",
    "#include <vector>\n",
    "using namespace std;"
   ]
  },
  {
   "cell_type": "code",
   "execution_count": 11,
   "metadata": {
    "vscode": {
     "languageId": "c++"
    }
   },
   "outputs": [
    {
     "data": {
      "text/plain": []
     },
     "execution_count": 11,
     "metadata": {},
     "output_type": "execute_result"
    }
   ],
   "source": [
    "class AtomicCord // (x,y,z)の三次元ベクトル\n",
    "{\n",
    "  public:\n",
    "    double position[3];\n",
    "    //explicit AtomicCord(double x, double y, double z);  // コンストラクタ\n",
    "    AtomicCord(double x, double y, double z) // in angstrom\n",
    "  {\n",
    "    position[0] = x;\n",
    "    position[1] = y;\n",
    "    position[2] = z;\n",
    "  }; \n",
    "};\n",
    "\n",
    "// AtomicCord::AtomicCord(double x, double y, double z)\n",
    "// {\n",
    "//   this->position = {x,y,z};\n",
    "// };\n"
   ]
  },
  {
   "cell_type": "code",
   "execution_count": 19,
   "metadata": {
    "vscode": {
     "languageId": "c++"
    }
   },
   "outputs": [
    {
     "name": "stdout",
     "output_type": "stream",
     "text": [
      "0.1\n"
     ]
    },
    {
     "data": {
      "text/plain": [
       "(std::basic_ostream &) @0x7ff85f2c7820\n"
      ]
     },
     "execution_count": 19,
     "metadata": {},
     "output_type": "execute_result"
    }
   ],
   "source": [
    "AtomicCord classtest2 = AtomicCord(0.1,0.1,0.1);\n",
    "std::cout << classtest2.position[0] << std::endl;"
   ]
  },
  {
   "cell_type": "code",
   "execution_count": 37,
   "metadata": {
    "vscode": {
     "languageId": "c++"
    }
   },
   "outputs": [
    {
     "name": "stderr",
     "output_type": "stream",
     "text": [
      "/Library/Developer/CommandLineTools/SDKs/MacOSX12.sdk/usr/include/c++/v1/vector:365:5: error: constructor for 'std::__1::__vector_base<int, std::__1::allocator<int> >' must explicitly initialize the base class '__vector_base_common<true>' which does not have a default constructor\n",
      "    __vector_base()\n",
      "    ^\n",
      "/Library/Developer/CommandLineTools/SDKs/MacOSX12.sdk/usr/include/c++/v1/vector:519:5: note: in instantiation of member function 'std::__1::__vector_base<int, std::__1::allocator<int> >::__vector_base' requested here\n",
      "    vector() _NOEXCEPT_(is_nothrow_default_constructible<allocator_type>::value)\n",
      "    ^\n",
      "input_line_40:19:3: note: in instantiation of member function 'std::__1::vector<int, std::__1::allocator<int> >::vector' requested here\n",
      "  Atoms(std::vector<int> atomic_numbers,\n",
      "  ^\n",
      "/Library/Developer/CommandLineTools/SDKs/MacOSX12.sdk/usr/include/c++/v1/vector:327:64: note: 'std::__1::__vector_base_common<true>' declared here\n",
      "_LIBCPP_EXTERN_TEMPLATE(class _LIBCPP_EXTERN_TEMPLATE_TYPE_VIS __vector_base_common<true>)\n",
      "                                                               ^\n",
      "/Library/Developer/CommandLineTools/SDKs/MacOSX12.sdk/usr/include/c++/v1/vector:365:5: error: constructor for 'std::__1::__vector_base<std::__1::vector<double, std::__1::allocator<double> >, std::__1::allocator<std::__1::vector<double, std::__1::allocator<double> > > >' must explicitly initialize the base class '__vector_base_common<true>' which does not have a default constructor\n",
      "    __vector_base()\n",
      "    ^\n",
      "/Library/Developer/CommandLineTools/SDKs/MacOSX12.sdk/usr/include/c++/v1/vector:519:5: note: in instantiation of member function 'std::__1::__vector_base<std::__1::vector<double, std::__1::allocator<double> >, std::__1::allocator<std::__1::vector<double, std::__1::allocator<double> > > >::__vector_base' requested here\n",
      "    vector() _NOEXCEPT_(is_nothrow_default_constructible<allocator_type>::value)\n",
      "    ^\n",
      "input_line_40:19:3: note: in instantiation of member function 'std::__1::vector<std::__1::vector<double, std::__1::allocator<double> >, std::__1::allocator<std::__1::vector<double, std::__1::allocator<double> > > >::vector' requested here\n",
      "  Atoms(std::vector<int> atomic_numbers,\n",
      "  ^\n",
      "/Library/Developer/CommandLineTools/SDKs/MacOSX12.sdk/usr/include/c++/v1/vector:327:64: note: 'std::__1::__vector_base_common<true>' declared here\n",
      "_LIBCPP_EXTERN_TEMPLATE(class _LIBCPP_EXTERN_TEMPLATE_TYPE_VIS __vector_base_common<true>)\n",
      "                                                               ^\n",
      "/Library/Developer/CommandLineTools/SDKs/MacOSX12.sdk/usr/include/c++/v1/vector:2241:5: error: constructor for 'std::__1::vector<bool, std::__1::allocator<bool> >' must explicitly initialize the base class '__vector_base_common<true>' which does not have a default constructor\n",
      "    vector() _NOEXCEPT_(is_nothrow_default_constructible<allocator_type>::value);\n",
      "    ^\n",
      "input_line_40:19:3: note: in instantiation of member function 'std::__1::vector<bool, std::__1::allocator<bool> >::vector' requested here\n",
      "  Atoms(std::vector<int> atomic_numbers,\n",
      "  ^\n",
      "/Library/Developer/CommandLineTools/SDKs/MacOSX12.sdk/usr/include/c++/v1/vector:327:64: note: 'std::__1::__vector_base_common<true>' declared here\n",
      "_LIBCPP_EXTERN_TEMPLATE(class _LIBCPP_EXTERN_TEMPLATE_TYPE_VIS __vector_base_common<true>)\n",
      "                                                               ^\n"
     ]
    },
    {
     "ename": "ename",
     "evalue": "evalue",
     "output_type": "error",
     "traceback": []
    }
   ],
   "source": [
    "/*\n",
    " 2023/5/30\n",
    " ase atomsに対応するAtomsクラスを定義する\n",
    "\n",
    "どうも自作クラスをvectorに入れる場合は特殊な操作が必要な模様．\n",
    "https://nprogram.hatenablog.com/entry/2017/07/05/073922\n",
    "*/\n",
    "\n",
    "\n",
    "class Atoms {\n",
    "public: // public変数\n",
    "  std::vector<int> atomic_num;\n",
    "  std::vector<std::vector<double> > positions;\n",
    "  std::vector<std::vector<double> > cell;\n",
    "  std::vector<bool> pbc;\n",
    "  // std::vector<int> get_atomic_numbers(); // atomic_numを返す\n",
    "  \n",
    "  int number;\n",
    "  Atoms(std::vector<int> atomic_numbers,\n",
    "        std::vector<std::vector<double> > atomic_positions,\n",
    "        std::vector<std::vector<double> > UNITCELL_VECTORS,\n",
    "        std::vector<bool> pbc = {true, true, true}\n",
    "        )\n",
    "        {\n",
    "          for (int i = 0; i < atomic_numbers.size(); i++)\n",
    "            { \n",
    "              atomic_num[i] = atomic_numbers[i];         \n",
    "            }\n",
    "          for (int i = 0; i < atomic_positions.size(); i++)\n",
    "            { \n",
    "              positions[i] = atomic_positions[i];         \n",
    "            }\n",
    "          for (int i = 0; i < UNITCELL_VECTORS.size(); i++)\n",
    "            { \n",
    "              cell[i] = UNITCELL_VECTORS[i];         \n",
    "            }\n",
    "          for (int i = 0; i < pbc.size(); i++)\n",
    "            { \n",
    "              pbc[i] = pbc[i];         \n",
    "            }\n",
    "        };\n",
    "\n",
    "  // std::vector<int> get_atomic_numbers()// atomic_numを返す\n",
    "  // {\n",
    "  //  return this->atomic_num;\n",
    "  // };\n",
    "};\n",
    "\n",
    "// Atoms::Atoms(std::vector<int> atomic_num,\n",
    "//         std::vector<vector<double>> positions,\n",
    "//         std::vector<vector<double>> UNITCELL_VECTORS,\n",
    "//         std::vector<bool> pbc = {true, true, true}\n",
    "//         )\n",
    "//         {\n",
    "//           this->atomic_num = atomic_num;\n",
    "//           this->positions = positions;\n",
    "//           this->cell = cell;\n",
    "//         };\n",
    "\n",
    "// std::vector<int> Atoms::get_atomic_numbers()\n",
    "// {\n",
    "//   return this->atomic_num;\n",
    "// };"
   ]
  },
  {
   "cell_type": "code",
   "execution_count": 36,
   "metadata": {
    "vscode": {
     "languageId": "c++"
    }
   },
   "outputs": [
    {
     "name": "stderr",
     "output_type": "stream",
     "text": [
      "/Library/Developer/CommandLineTools/SDKs/MacOSX12.sdk/usr/include/c++/v1/vector:365:5: error: constructor for 'std::__1::__vector_base<int, std::__1::allocator<int> >' must explicitly initialize the base class '__vector_base_common<true>' which does not have a default constructor\n",
      "    __vector_base()\n",
      "    ^\n",
      "/Library/Developer/CommandLineTools/SDKs/MacOSX12.sdk/usr/include/c++/v1/vector:519:5: note: in instantiation of member function 'std::__1::__vector_base<int, std::__1::allocator<int> >::__vector_base' requested here\n",
      "    vector() _NOEXCEPT_(is_nothrow_default_constructible<allocator_type>::value)\n",
      "    ^\n",
      "input_line_39:5:2: note: in instantiation of member function 'std::__1::vector<int, std::__1::allocator<int> >::vector' requested here\n",
      "        Vector(vector<int> newVector) {\n",
      "        ^\n",
      "/Library/Developer/CommandLineTools/SDKs/MacOSX12.sdk/usr/include/c++/v1/vector:327:64: note: 'std::__1::__vector_base_common<true>' declared here\n",
      "_LIBCPP_EXTERN_TEMPLATE(class _LIBCPP_EXTERN_TEMPLATE_TYPE_VIS __vector_base_common<true>)\n",
      "                                                               ^\n"
     ]
    },
    {
     "ename": "ename",
     "evalue": "evalue",
     "output_type": "error",
     "traceback": []
    }
   ],
   "source": [
    "class Vector {\n",
    "\tvector<int> myVec;\n",
    "\n",
    "public:\n",
    "\tVector(vector<int> newVector) {\n",
    "\t    myVec = newVector;\n",
    "\t}\n",
    "\t\n",
    "\tvoid print() {\n",
    "\t\tfor (int i = 0; i < myVec.size(); i++)\n",
    "\t\t\tcout << myVec[i] << \" \";\n",
    "\t}\n",
    "\t\n",
    "};\n"
   ]
  },
  {
   "cell_type": "code",
   "execution_count": null,
   "metadata": {
    "vscode": {
     "languageId": "cpp"
    }
   },
   "outputs": [],
   "source": [
    "// export CPATH=/Library/Developer/CommandLineTools/usr/lib/tapi/14.0.3/include:$CPATH"
   ]
  },
  {
   "cell_type": "code",
   "execution_count": 8,
   "metadata": {
    "vscode": {
     "languageId": "c++"
    }
   },
   "outputs": [
    {
     "data": {
      "text/plain": []
     },
     "execution_count": 8,
     "metadata": {},
     "output_type": "execute_result"
    }
   ],
   "source": [
    "int j;\n",
    "for(int i = 1; i <= 5; i++) {\n",
    "    j = i+1;\n",
    "};"
   ]
  },
  {
   "cell_type": "code",
   "execution_count": 11,
   "metadata": {
    "vscode": {
     "languageId": "c++"
    }
   },
   "outputs": [
    {
     "name": "stderr",
     "output_type": "stream",
     "text": [
      "input_line_14:3:5: error: redefinition of 'p'\n",
      "int p;\n",
      "    ^\n",
      "input_line_13:3:5: note: previous definition is here\n",
      "int p;\n",
      "    ^\n"
     ]
    },
    {
     "ename": "ename",
     "evalue": "evalue",
     "output_type": "error",
     "traceback": []
    }
   ],
   "source": [
    "// export CPATH=/Library/Developer/CommandLineTools/usr/lib/tapi/14.0.3/include:$CPATH"
   ]
  },
  {
   "cell_type": "code",
   "execution_count": 2,
   "metadata": {
    "vscode": {
     "languageId": "c++"
    }
   },
   "outputs": [
    {
     "data": {
      "text/plain": []
     },
     "execution_count": 2,
     "metadata": {},
     "output_type": "execute_result"
    }
   ],
   "source": [
    "using namespace std;"
   ]
  },
  {
   "cell_type": "code",
   "execution_count": 3,
   "metadata": {
    "vscode": {
     "languageId": "c++"
    }
   },
   "outputs": [
    {
     "name": "stdout",
     "output_type": "stream",
     "text": [
      "Hello World!\n"
     ]
    },
    {
     "name": "stderr",
     "output_type": "stream",
     "text": [
      "In file included from input_line_6:1:\n",
      "In file included from /usr/local/Cellar/cling/0.9/libexec/include/cling/Interpreter/RuntimePrintValue.h:17:\n",
      "In file included from /Library/Developer/CommandLineTools/SDKs/MacOSX12.sdk/usr/include/c++/v1/memory:671:\n",
      "In file included from /Library/Developer/CommandLineTools/SDKs/MacOSX12.sdk/usr/include/c++/v1/__functional_base:26:\n",
      "In file included from /Library/Developer/CommandLineTools/SDKs/MacOSX12.sdk/usr/include/c++/v1/utility:211:\n",
      "In file included from /Library/Developer/CommandLineTools/SDKs/MacOSX12.sdk/usr/include/c++/v1/__debug:14:\n",
      "In file included from /Library/Developer/CommandLineTools/SDKs/MacOSX12.sdk/usr/include/c++/v1/iosfwd:98:\n",
      "In file included from /Library/Developer/CommandLineTools/SDKs/MacOSX12.sdk/usr/include/c++/v1/__mbstate_t.h:29:\n",
      "In file included from /Library/Developer/CommandLineTools/SDKs/MacOSX12.sdk/usr/include/c++/v1/wchar.h:123:\n",
      "/Library/Developer/CommandLineTools/SDKs/MacOSX.sdk/usr/include/wchar.h:89:10: fatal error: 'stdarg.h' file not found\n",
      "#include <stdarg.h>\n",
      "         ^~~~~~~~~~\n"
     ]
    },
    {
     "data": {
      "text/plain": [
       "(int) 13\n"
      ]
     },
     "execution_count": 3,
     "metadata": {},
     "output_type": "execute_result"
    }
   ],
   "source": [
    "printf(\"Hello World!\\n\")"
   ]
  },
  {
   "cell_type": "code",
   "execution_count": 4,
   "metadata": {
    "vscode": {
     "languageId": "c++"
    }
   },
   "outputs": [
    {
     "data": {
      "text/plain": []
     },
     "execution_count": 4,
     "metadata": {},
     "output_type": "execute_result"
    }
   ],
   "source": [
    "double calc(int s1, int s2) {\n",
    "// ここはコメント行。s1 は消費支出，s2 は飲食費，エンゲル係数を返す。\n",
    "    return s2 * 100. / s1;\n",
    "}"
   ]
  },
  {
   "cell_type": "code",
   "execution_count": 5,
   "metadata": {
    "vscode": {
     "languageId": "c++"
    }
   },
   "outputs": [
    {
     "data": {
      "text/plain": [
       "(double) 35.833333\n"
      ]
     },
     "execution_count": 5,
     "metadata": {},
     "output_type": "execute_result"
    }
   ],
   "source": [
    "calc(120000, 43000);"
   ]
  },
  {
   "cell_type": "code",
   "execution_count": null,
   "metadata": {
    "vscode": {
     "languageId": "c++"
    }
   },
   "outputs": [],
   "source": []
  }
 ],
 "metadata": {
  "kernelspec": {
   "display_name": "C++14",
   "language": "C++",
   "name": "cling-cpp14"
  },
  "language_info": {
   "codemirror_mode": "c++",
   "file_extension": ".c++",
   "mimetype": "text/x-c++src",
   "name": "C++"
  },
  "orig_nbformat": 4
 },
 "nbformat": 4,
 "nbformat_minor": 2
}
