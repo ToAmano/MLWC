{
 "cells": [
  {
   "attachments": {},
   "cell_type": "markdown",
   "metadata": {
    "vscode": {
     "languageId": "cpp"
    }
   },
   "source": [
    "# macos+vscode+jupyter+clingという組み合わせでc++を扱う方法\n",
    "\n",
    "1: cling + jupyterkernel（ここで紹介）\n",
    "2: xeus-cling\n",
    "3: root cling\n",
    "\n",
    "最初２の方法を試したが，condaでclingがちゃんと入らない（入っても起動後にerrorになっちゃう）ので，1の方法を取ることにした．clingはbrewでもインストールできて，こちらのclingがちゃんと動いた．\n",
    "\n",
    "clingが動いたら，jupyter用のkernelを別途インストールする必要がある．\n",
    "\n",
    "```cpp\n",
    "In file included from input_line_15:1:\n",
    "In file included from /Library/Developer/CommandLineTools/SDKs/MacOSX12.sdk/usr/include/c++/v1/iostream:37:\n",
    "In file included from /Library/Developer/CommandLineTools/SDKs/MacOSX12.sdk/usr/include/c++/v1/ios:214:\n",
    "In file included from /Library/Developer/CommandLineTools/SDKs/MacOSX12.sdk/usr/include/c++/v1/__locale:15:\n",
    "In file included from /Library/Developer/CommandLineTools/SDKs/MacOSX12.sdk/usr/include/c++/v1/string:519:\n",
    "In file included from /Library/Developer/CommandLineTools/SDKs/MacOSX12.sdk/usr/include/c++/v1/__debug:14:\n",
    "In file included from /Library/Developer/CommandLineTools/SDKs/MacOSX12.sdk/usr/include/c++/v1/iosfwd:98:\n",
    "In file included from /Library/Developer/CommandLineTools/SDKs/MacOSX12.sdk/usr/include/c++/v1/__mbstate_t.h:29:\n",
    "In file included from /Library/Developer/CommandLineTools/SDKs/MacOSX12.sdk/usr/include/c++/v1/wchar.h:123:\n",
    "/Library/Developer/CommandLineTools/SDKs/MacOSX.sdk/usr/include/wchar.h:89:10: fatal error: 'stdarg.h' file not found\n",
    "#include <stdarg.h>\n",
    "         ^~~~~~~~~~\n",
    "ename: evalue\n",
    "```\n",
    "\n",
    "となってiostreamがロードできない．これは困るので対策をする．jupyter notebookの場合，単にstdarg.hがあるディレクトリにcpathを通せばよかった．\n",
    "\n",
    "```bash\n",
    "export CPATH=/Library/Developer/CommandLineTools/usr/lib/tapi/14.0.3/include:$CPATH\n",
    "```\n",
    "\n",
    "しかし，この方法だとvscodeでは解決せず，結局`/Library/Developer/CommandLineTools/SDKs/MacOSX.sdk/usr/include/`ディレクトリにstdarg.hを手でリンクを貼ることで解決できた．\n"
   ]
  },
  {
   "cell_type": "code",
   "execution_count": 1,
   "metadata": {},
   "outputs": [
    {
     "data": {
      "text/plain": []
     },
     "execution_count": 1,
     "metadata": {},
     "output_type": "execute_result"
    }
   ],
   "source": [
    "#include <stdio.h>"
   ]
  },
  {
   "cell_type": "code",
   "execution_count": 3,
   "metadata": {},
   "outputs": [
    {
     "data": {
      "text/plain": []
     },
     "execution_count": 3,
     "metadata": {},
     "output_type": "execute_result"
    }
   ],
   "source": [
    "#include <iostream>\n",
    "using namespace std;"
   ]
  },
  {
   "cell_type": "code",
   "execution_count": null,
   "metadata": {
    "vscode": {
     "languageId": "cpp"
    }
   },
   "outputs": [],
   "source": [
    "// export CPATH=/Library/Developer/CommandLineTools/usr/lib/tapi/14.0.3/include:$CPATH"
   ]
  },
  {
   "cell_type": "code",
   "execution_count": 8,
   "metadata": {},
   "outputs": [
    {
     "data": {
      "text/plain": []
     },
     "execution_count": 8,
     "metadata": {},
     "output_type": "execute_result"
    }
   ],
   "source": [
    "int j;\n",
    "for(int i = 1; i <= 5; i++) {\n",
    "    j = i+1;\n",
    "};"
   ]
  },
  {
   "cell_type": "code",
   "execution_count": 11,
   "metadata": {},
   "outputs": [
    {
     "name": "stderr",
     "output_type": "stream",
     "text": [
      "input_line_14:3:5: error: redefinition of 'p'\n",
      "int p;\n",
      "    ^\n",
      "input_line_13:3:5: note: previous definition is here\n",
      "int p;\n",
      "    ^\n"
     ]
    },
    {
     "ename": "ename",
     "evalue": "evalue",
     "output_type": "error",
     "traceback": []
    }
   ],
   "source": [
    "// export CPATH=/Library/Developer/CommandLineTools/usr/lib/tapi/14.0.3/include:$CPATH"
   ]
  },
  {
   "cell_type": "code",
   "execution_count": 2,
   "metadata": {},
   "outputs": [
    {
     "data": {
      "text/plain": []
     },
     "execution_count": 2,
     "metadata": {},
     "output_type": "execute_result"
    }
   ],
   "source": [
    "using namespace std;"
   ]
  },
  {
   "cell_type": "code",
   "execution_count": 3,
   "metadata": {},
   "outputs": [
    {
     "name": "stdout",
     "output_type": "stream",
     "text": [
      "Hello World!\n"
     ]
    },
    {
     "name": "stderr",
     "output_type": "stream",
     "text": [
      "In file included from input_line_6:1:\n",
      "In file included from /usr/local/Cellar/cling/0.9/libexec/include/cling/Interpreter/RuntimePrintValue.h:17:\n",
      "In file included from /Library/Developer/CommandLineTools/SDKs/MacOSX12.sdk/usr/include/c++/v1/memory:671:\n",
      "In file included from /Library/Developer/CommandLineTools/SDKs/MacOSX12.sdk/usr/include/c++/v1/__functional_base:26:\n",
      "In file included from /Library/Developer/CommandLineTools/SDKs/MacOSX12.sdk/usr/include/c++/v1/utility:211:\n",
      "In file included from /Library/Developer/CommandLineTools/SDKs/MacOSX12.sdk/usr/include/c++/v1/__debug:14:\n",
      "In file included from /Library/Developer/CommandLineTools/SDKs/MacOSX12.sdk/usr/include/c++/v1/iosfwd:98:\n",
      "In file included from /Library/Developer/CommandLineTools/SDKs/MacOSX12.sdk/usr/include/c++/v1/__mbstate_t.h:29:\n",
      "In file included from /Library/Developer/CommandLineTools/SDKs/MacOSX12.sdk/usr/include/c++/v1/wchar.h:123:\n",
      "/Library/Developer/CommandLineTools/SDKs/MacOSX.sdk/usr/include/wchar.h:89:10: fatal error: 'stdarg.h' file not found\n",
      "#include <stdarg.h>\n",
      "         ^~~~~~~~~~\n"
     ]
    },
    {
     "data": {
      "text/plain": [
       "(int) 13\n"
      ]
     },
     "execution_count": 3,
     "metadata": {},
     "output_type": "execute_result"
    }
   ],
   "source": [
    "printf(\"Hello World!\\n\")"
   ]
  },
  {
   "cell_type": "code",
   "execution_count": 4,
   "metadata": {},
   "outputs": [
    {
     "data": {
      "text/plain": []
     },
     "execution_count": 4,
     "metadata": {},
     "output_type": "execute_result"
    }
   ],
   "source": [
    "double calc(int s1, int s2) {\n",
    "// ここはコメント行。s1 は消費支出，s2 は飲食費，エンゲル係数を返す。\n",
    "    return s2 * 100. / s1;\n",
    "}"
   ]
  },
  {
   "cell_type": "code",
   "execution_count": 5,
   "metadata": {},
   "outputs": [
    {
     "data": {
      "text/plain": [
       "(double) 35.833333\n"
      ]
     },
     "execution_count": 5,
     "metadata": {},
     "output_type": "execute_result"
    }
   ],
   "source": [
    "calc(120000, 43000);"
   ]
  },
  {
   "cell_type": "code",
   "execution_count": null,
   "metadata": {},
   "outputs": [],
   "source": []
  }
 ],
 "metadata": {
  "kernelspec": {
   "display_name": "C++14",
   "language": "C++",
   "name": "cling-cpp14"
  },
  "language_info": {
   "codemirror_mode": "c++",
   "file_extension": ".c++",
   "mimetype": "text/x-c++src",
   "name": "c++"
  },
  "orig_nbformat": 4
 },
 "nbformat": 4,
 "nbformat_minor": 2
}
