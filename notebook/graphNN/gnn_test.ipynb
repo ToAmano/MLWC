{
 "cells": [
  {
   "cell_type": "code",
   "execution_count": 1,
   "metadata": {},
   "outputs": [
    {
     "ename": "RuntimeError",
     "evalue": "source tensor shape must match self tensor shape, excluding the specified dimension. Got self.shape = [10, 16] source.shape = [5, 32]",
     "output_type": "error",
     "traceback": [
      "\u001b[0;31m---------------------------------------------------------------------------\u001b[0m",
      "\u001b[0;31mRuntimeError\u001b[0m                              Traceback (most recent call last)",
      "Cell \u001b[0;32mIn[1], line 39\u001b[0m\n\u001b[1;32m     37\u001b[0m \u001b[38;5;66;03m# メッセージパッシング層を適用\u001b[39;00m\n\u001b[1;32m     38\u001b[0m message_passing_layer \u001b[38;5;241m=\u001b[39m MessagePassingLayer(in_channels, out_channels)\n\u001b[0;32m---> 39\u001b[0m x_updated \u001b[38;5;241m=\u001b[39m \u001b[43mmessage_passing_layer\u001b[49m\u001b[43m(\u001b[49m\u001b[43mx\u001b[49m\u001b[43m,\u001b[49m\u001b[43m \u001b[49m\u001b[43medge_index\u001b[49m\u001b[43m)\u001b[49m\n\u001b[1;32m     41\u001b[0m \u001b[38;5;28mprint\u001b[39m(x_updated)\n",
      "File \u001b[0;32m~/anaconda3/envs/dieltools/lib/python3.11/site-packages/torch/nn/modules/module.py:1553\u001b[0m, in \u001b[0;36mModule._wrapped_call_impl\u001b[0;34m(self, *args, **kwargs)\u001b[0m\n\u001b[1;32m   1551\u001b[0m     \u001b[38;5;28;01mreturn\u001b[39;00m \u001b[38;5;28mself\u001b[39m\u001b[38;5;241m.\u001b[39m_compiled_call_impl(\u001b[38;5;241m*\u001b[39margs, \u001b[38;5;241m*\u001b[39m\u001b[38;5;241m*\u001b[39mkwargs)  \u001b[38;5;66;03m# type: ignore[misc]\u001b[39;00m\n\u001b[1;32m   1552\u001b[0m \u001b[38;5;28;01melse\u001b[39;00m:\n\u001b[0;32m-> 1553\u001b[0m     \u001b[38;5;28;01mreturn\u001b[39;00m \u001b[38;5;28;43mself\u001b[39;49m\u001b[38;5;241;43m.\u001b[39;49m\u001b[43m_call_impl\u001b[49m\u001b[43m(\u001b[49m\u001b[38;5;241;43m*\u001b[39;49m\u001b[43margs\u001b[49m\u001b[43m,\u001b[49m\u001b[43m \u001b[49m\u001b[38;5;241;43m*\u001b[39;49m\u001b[38;5;241;43m*\u001b[39;49m\u001b[43mkwargs\u001b[49m\u001b[43m)\u001b[49m\n",
      "File \u001b[0;32m~/anaconda3/envs/dieltools/lib/python3.11/site-packages/torch/nn/modules/module.py:1562\u001b[0m, in \u001b[0;36mModule._call_impl\u001b[0;34m(self, *args, **kwargs)\u001b[0m\n\u001b[1;32m   1557\u001b[0m \u001b[38;5;66;03m# If we don't have any hooks, we want to skip the rest of the logic in\u001b[39;00m\n\u001b[1;32m   1558\u001b[0m \u001b[38;5;66;03m# this function, and just call forward.\u001b[39;00m\n\u001b[1;32m   1559\u001b[0m \u001b[38;5;28;01mif\u001b[39;00m \u001b[38;5;129;01mnot\u001b[39;00m (\u001b[38;5;28mself\u001b[39m\u001b[38;5;241m.\u001b[39m_backward_hooks \u001b[38;5;129;01mor\u001b[39;00m \u001b[38;5;28mself\u001b[39m\u001b[38;5;241m.\u001b[39m_backward_pre_hooks \u001b[38;5;129;01mor\u001b[39;00m \u001b[38;5;28mself\u001b[39m\u001b[38;5;241m.\u001b[39m_forward_hooks \u001b[38;5;129;01mor\u001b[39;00m \u001b[38;5;28mself\u001b[39m\u001b[38;5;241m.\u001b[39m_forward_pre_hooks\n\u001b[1;32m   1560\u001b[0m         \u001b[38;5;129;01mor\u001b[39;00m _global_backward_pre_hooks \u001b[38;5;129;01mor\u001b[39;00m _global_backward_hooks\n\u001b[1;32m   1561\u001b[0m         \u001b[38;5;129;01mor\u001b[39;00m _global_forward_hooks \u001b[38;5;129;01mor\u001b[39;00m _global_forward_pre_hooks):\n\u001b[0;32m-> 1562\u001b[0m     \u001b[38;5;28;01mreturn\u001b[39;00m \u001b[43mforward_call\u001b[49m\u001b[43m(\u001b[49m\u001b[38;5;241;43m*\u001b[39;49m\u001b[43margs\u001b[49m\u001b[43m,\u001b[49m\u001b[43m \u001b[49m\u001b[38;5;241;43m*\u001b[39;49m\u001b[38;5;241;43m*\u001b[39;49m\u001b[43mkwargs\u001b[49m\u001b[43m)\u001b[49m\n\u001b[1;32m   1564\u001b[0m \u001b[38;5;28;01mtry\u001b[39;00m:\n\u001b[1;32m   1565\u001b[0m     result \u001b[38;5;241m=\u001b[39m \u001b[38;5;28;01mNone\u001b[39;00m\n",
      "Cell \u001b[0;32mIn[1], line 20\u001b[0m, in \u001b[0;36mMessagePassingLayer.forward\u001b[0;34m(self, x, edge_index)\u001b[0m\n\u001b[1;32m     18\u001b[0m \u001b[38;5;66;03m# メッセージの集約（ここでは平均）\u001b[39;00m\n\u001b[1;32m     19\u001b[0m aggr_messages \u001b[38;5;241m=\u001b[39m torch\u001b[38;5;241m.\u001b[39mzeros_like(x)  \u001b[38;5;66;03m# 各ノードの初期化\u001b[39;00m\n\u001b[0;32m---> 20\u001b[0m \u001b[43maggr_messages\u001b[49m\u001b[38;5;241;43m.\u001b[39;49m\u001b[43mindex_add_\u001b[49m\u001b[43m(\u001b[49m\u001b[38;5;241;43m0\u001b[39;49m\u001b[43m,\u001b[49m\u001b[43m \u001b[49m\u001b[43mrow\u001b[49m\u001b[43m,\u001b[49m\u001b[43m \u001b[49m\u001b[43mmessages\u001b[49m\u001b[43m)\u001b[49m  \u001b[38;5;66;03m# メッセージを集約\u001b[39;00m\n\u001b[1;32m     22\u001b[0m \u001b[38;5;66;03m# 更新関数を適用\u001b[39;00m\n\u001b[1;32m     23\u001b[0m \u001b[38;5;28;01mreturn\u001b[39;00m \u001b[38;5;28mself\u001b[39m\u001b[38;5;241m.\u001b[39mlinear_update(aggr_messages)\n",
      "\u001b[0;31mRuntimeError\u001b[0m: source tensor shape must match self tensor shape, excluding the specified dimension. Got self.shape = [10, 16] source.shape = [5, 32]"
     ]
    }
   ],
   "source": [
    "import torch\n",
    "import torch.nn as nn\n",
    "\n",
    "class MessagePassingLayer(nn.Module):\n",
    "    def __init__(self, in_channels, out_channels):\n",
    "        super(MessagePassingLayer, self).__init__()\n",
    "        self.linear_message = nn.Linear(in_channels, out_channels)\n",
    "        self.linear_update = nn.Linear(out_channels, out_channels)\n",
    "\n",
    "    def forward(self, x, edge_index):\n",
    "        # x: ノード特徴量 (num_nodes, in_channels)\n",
    "        # edge_index: エッジの接続情報 (2, num_edges)\n",
    "        \n",
    "        # メッセージ生成\n",
    "        row, col = edge_index\n",
    "        messages = self.linear_message(x[col])  # 隣接ノードの特徴を取り出して線形変換\n",
    "        \n",
    "        # メッセージの集約（ここでは平均）\n",
    "        aggr_messages = torch.zeros_like(x)  # 各ノードの初期化\n",
    "        aggr_messages.index_add_(0, row, messages)  # メッセージを集約\n",
    "        \n",
    "        # 更新関数を適用\n",
    "        return self.linear_update(aggr_messages)\n",
    "\n",
    "# 使用例\n",
    "if __name__ == \"__main__\":\n",
    "    # ノード特徴量の次元（入力次元、出力次元）\n",
    "    in_channels = 16\n",
    "    out_channels = 32\n",
    "\n",
    "    # ダミーデータ（ノード特徴量とエッジの接続情報）を作成\n",
    "    num_nodes = 10\n",
    "    x = torch.rand((num_nodes, in_channels))  # 10ノード分の特徴ベクトル\n",
    "    edge_index = torch.tensor([[0, 1, 2, 3, 0],   # ノード間の接続を示すインデックス\n",
    "                               [1, 2, 3, 4, 1]], dtype=torch.long)\n",
    "\n",
    "    # メッセージパッシング層を適用\n",
    "    message_passing_layer = MessagePassingLayer(in_channels, out_channels)\n",
    "    x_updated = message_passing_layer(x, edge_index)\n",
    "\n",
    "    print(x_updated)"
   ]
  },
  {
   "cell_type": "code",
   "execution_count": null,
   "metadata": {},
   "outputs": [],
   "source": []
  }
 ],
 "metadata": {
  "kernelspec": {
   "display_name": "dieltools",
   "language": "python",
   "name": "python3"
  },
  "language_info": {
   "codemirror_mode": {
    "name": "ipython",
    "version": 3
   },
   "file_extension": ".py",
   "mimetype": "text/x-python",
   "name": "python",
   "nbconvert_exporter": "python",
   "pygments_lexer": "ipython3",
   "version": "3.11.9"
  }
 },
 "nbformat": 4,
 "nbformat_minor": 2
}
