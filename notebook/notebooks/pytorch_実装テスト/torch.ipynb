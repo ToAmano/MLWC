{
 "cells": [
  {
   "cell_type": "code",
   "execution_count": 2,
   "metadata": {},
   "outputs": [
    {
     "name": "stdout",
     "output_type": "stream",
     "text": [
      "Original coordinates:\n",
      "[[ 3.5  4.5  5.5]\n",
      " [-0.5  1.5  2.5]\n",
      " [ 6.   6.   6. ]]\n",
      "Wrapped coordinates:\n",
      "[[0.5 0.5 0.5]\n",
      " [0.5 0.5 0.5]\n",
      " [0.  0.  0. ]]\n"
     ]
    }
   ],
   "source": [
    "import numpy as np\n",
    "\n",
    "def apply_pbc(coords, lattice_vectors):\n",
    "    \"\"\"\n",
    "    Apply periodic boundary conditions to bring coordinates inside the unit cell.\n",
    "\n",
    "    Parameters:\n",
    "    coords (numpy.ndarray): The coordinates of the atoms, shape (N, 3).\n",
    "    lattice_vectors (numpy.ndarray): The lattice vectors, shape (3, 3).\n",
    "\n",
    "    Returns:\n",
    "    numpy.ndarray: The coordinates wrapped inside the unit cell.\n",
    "    \"\"\"\n",
    "    # Convert coordinates to fractional coordinates\n",
    "    fractional_coords = np.linalg.solve(lattice_vectors.T, coords.T).T\n",
    "\n",
    "    # Apply periodic boundary conditions: bring fractional coordinates into the range [0, 1)\n",
    "    fractional_coords -= np.floor(fractional_coords)\n",
    "\n",
    "    # Convert back to cartesian coordinates\n",
    "    wrapped_coords = fractional_coords.dot(lattice_vectors)\n",
    "\n",
    "    return wrapped_coords\n",
    "\n",
    "# Example usage\n",
    "coords = np.array([\n",
    "    [3.5, 4.5, 5.5],  # Example coordinates that might be outside the unit cell\n",
    "    [-0.5, 1.5, 2.5],\n",
    "    [6.0, 6.0, 6.0]\n",
    "])\n",
    "\n",
    "lattice_vectors = np.array([\n",
    "    [1.0, 0.0, 0.0],  # Lattice vector a\n",
    "    [0.0, 1.0, 0.0],  # Lattice vector b\n",
    "    [0.0, 0.0, 1.0]   # Lattice vector c\n",
    "])\n",
    "\n",
    "wrapped_coords = apply_pbc(coords, lattice_vectors)\n",
    "print(\"Original coordinates:\")\n",
    "print(coords)\n",
    "print(\"Wrapped coordinates:\")\n",
    "print(wrapped_coords)"
   ]
  },
  {
   "cell_type": "code",
   "execution_count": 4,
   "metadata": {},
   "outputs": [
    {
     "name": "stdout",
     "output_type": "stream",
     "text": [
      "test\n"
     ]
    }
   ],
   "source": [
    "print(\"test\")"
   ]
  },
  {
   "cell_type": "code",
   "execution_count": 5,
   "metadata": {},
   "outputs": [
    {
     "name": "stdout",
     "output_type": "stream",
     "text": [
      "Original coordinates:\n",
      "tensor([[ 3.5000,  4.5000,  5.5000],\n",
      "        [-0.5000,  1.5000,  2.5000],\n",
      "        [ 6.0000,  6.0000,  6.0000]])\n",
      "Wrapped coordinates:\n",
      "tensor([[1.5000, 0.5000, 1.5000],\n",
      "        [1.5000, 1.5000, 0.5000],\n",
      "        [0.0000, 0.0000, 0.0000]])\n"
     ]
    }
   ],
   "source": [
    "import torch\n",
    "def apply_pbc_torch(coords, lattice_vectors):\n",
    "    \"\"\"\n",
    "    Apply periodic boundary conditions to bring coordinates inside the unit cell.\n",
    "\n",
    "    Parameters:\n",
    "    coords (torch.Tensor): The coordinates of the atoms, shape (N, 3).\n",
    "    lattice_vectors (torch.Tensor): The lattice vectors, shape (3, 3).\n",
    "\n",
    "    Returns:\n",
    "    torch.Tensor: The coordinates wrapped inside the unit cell.\n",
    "    \"\"\"\n",
    "    # Convert coordinates to fractional coordinates\n",
    "    inv_lattice_vectors = torch.linalg.inv(lattice_vectors)\n",
    "    fractional_coords = torch.matmul(coords, inv_lattice_vectors.T)\n",
    "\n",
    "    # Apply periodic boundary conditions: bring fractional coordinates into the range [0, 1)\n",
    "    fractional_coords = fractional_coords - torch.floor(fractional_coords)\n",
    "\n",
    "    # Convert back to cartesian coordinates\n",
    "    wrapped_coords = torch.matmul(fractional_coords, lattice_vectors)\n",
    "\n",
    "    return wrapped_coords\n",
    "\n",
    "# Example usage\n",
    "coords = torch.tensor([\n",
    "    [3.5, 4.5, 5.5],  # Example coordinates that might be outside the unit cell\n",
    "    [-0.5, 1.5, 2.5],\n",
    "    [6.0, 6.0, 6.0]\n",
    "])\n",
    "\n",
    "lattice_vectors = torch.tensor([\n",
    "    [2.0, 0.0, 0.0],  # Lattice vector a\n",
    "    [0.0, 2.0, 0.0],  # Lattice vector b\n",
    "    [0.0, 0.0, 2.0]   # Lattice vector c\n",
    "])\n",
    "\n",
    "wrapped_coords = apply_pbc_torch(coords, lattice_vectors)\n",
    "print(\"Original coordinates:\")\n",
    "print(coords)\n",
    "print(\"Wrapped coordinates:\")\n",
    "print(wrapped_coords)"
   ]
  },
  {
   "cell_type": "code",
   "execution_count": 41,
   "metadata": {},
   "outputs": [
    {
     "ename": "AttributeError",
     "evalue": "module 'cpmd.asign_wcs_torch' has no attribute 'relative_vector_torch2'",
     "output_type": "error",
     "traceback": [
      "\u001b[0;31m---------------------------------------------------------------------------\u001b[0m",
      "\u001b[0;31mAttributeError\u001b[0m                            Traceback (most recent call last)",
      "Cell \u001b[0;32mIn[41], line 16\u001b[0m\n\u001b[1;32m     14\u001b[0m wrapped_coords \u001b[38;5;241m=\u001b[39m cpmd\u001b[38;5;241m.\u001b[39masign_wcs_torch\u001b[38;5;241m.\u001b[39mapply_pbc_torch(torch\u001b[38;5;241m.\u001b[39mstack([atom1, atom2]), lattice_vectors)\n\u001b[1;32m     15\u001b[0m relative_vec \u001b[38;5;241m=\u001b[39m cpmd\u001b[38;5;241m.\u001b[39masign_wcs_torch\u001b[38;5;241m.\u001b[39mrelative_vector_torch(wrapped_coords[\u001b[38;5;241m0\u001b[39m], wrapped_coords[\u001b[38;5;241m1\u001b[39m], lattice_vectors)\n\u001b[0;32m---> 16\u001b[0m relative_vec2\u001b[38;5;241m=\u001b[39m \u001b[43mcpmd\u001b[49m\u001b[38;5;241;43m.\u001b[39;49m\u001b[43masign_wcs_torch\u001b[49m\u001b[38;5;241;43m.\u001b[39;49m\u001b[43mrelative_vector_torch2\u001b[49m(wrapped_coords[\u001b[38;5;241m0\u001b[39m], wrapped_coords[\u001b[38;5;241m1\u001b[39m], lattice_vectors)\n\u001b[1;32m     18\u001b[0m \u001b[38;5;28mprint\u001b[39m(\u001b[38;5;124m\"\u001b[39m\u001b[38;5;124mWrapped coordinates:\u001b[39m\u001b[38;5;124m\"\u001b[39m)\n\u001b[1;32m     19\u001b[0m \u001b[38;5;28mprint\u001b[39m(wrapped_coords)\n",
      "\u001b[0;31mAttributeError\u001b[0m: module 'cpmd.asign_wcs_torch' has no attribute 'relative_vector_torch2'"
     ]
    }
   ],
   "source": [
    "import importlib\n",
    "import cpmd.asign_wcs_torch\n",
    "importlib.reload(cpmd.asign_wcs_torch)\n",
    "\n",
    "# Example usage\n",
    "atom1 = torch.tensor([1.8, 2.5, 3.5])\n",
    "atom2 = torch.tensor([4.5, 5.5, 6.5])\n",
    "lattice_vectors = torch.tensor([\n",
    "    [2.0, 0.0, 0.0],\n",
    "    [0.0, 2.0, 0.0],\n",
    "    [0.0, 0.0, 2.0]\n",
    "])\n",
    "\n",
    "wrapped_coords = cpmd.asign_wcs_torch.apply_pbc_torch(torch.stack([atom1, atom2]), lattice_vectors)\n",
    "relative_vec = cpmd.asign_wcs_torch.relative_vector_torch(wrapped_coords[0], wrapped_coords[1], lattice_vectors)\n",
    "relative_vec2= cpmd.asign_wcs_torch.relative_vectors_torch2(wrapped_coords[0], wrapped_coords[1], lattice_vectors)\n",
    "\n",
    "print(\"Wrapped coordinates:\")\n",
    "print(wrapped_coords)\n",
    "print(\"Relative vector considering PBC and minimum image convention:\")\n",
    "print(relative_vec)\n",
    "print(\"Relative vector considering PBC and minimum image convention:\")\n",
    "print(relative_vec2)"
   ]
  },
  {
   "cell_type": "code",
   "execution_count": 19,
   "metadata": {},
   "outputs": [],
   "source": [
    "import ase.io\n",
    "# メタノールの構造（32分子）を読み込む\n",
    "data = ase.io.read(\"../IONS+CENTERS_cell_test.xyz\",index=\":\")"
   ]
  },
  {
   "cell_type": "code",
   "execution_count": 20,
   "metadata": {},
   "outputs": [],
   "source": [
    "import cpmd.asign_wcs_torch"
   ]
  },
  {
   "cell_type": "code",
   "execution_count": 38,
   "metadata": {},
   "outputs": [
    {
     "name": "stdout",
     "output_type": "stream",
     "text": [
      "Cell([12.91197685547878, 12.91197685547878, 12.91197685547878])\n",
      "tensor(False)\n"
     ]
    }
   ],
   "source": [
    "import importlib\n",
    "\n",
    "importlib.reload(cpmd.asign_wcs_torch)\n",
    "print(data[0].get_cell())\n",
    "position = torch.from_numpy(data[0].get_positions().astype(np.float32))\n",
    "cell     = torch.from_numpy(data[0].get_cell().astype(np.float32))\n",
    "\n",
    "pbc_position = cpmd.asign_wcs_torch.apply_pbc_torch(position, cell)\n",
    "# pbcがかかったか確認\n",
    "print(torch.any(pbc_position)>12.91197685547878)\n"
   ]
  },
  {
   "cell_type": "code",
   "execution_count": 22,
   "metadata": {},
   "outputs": [
    {
     "name": "stdout",
     "output_type": "stream",
     "text": [
      " -----  ml.read_mol :: parse results... -------\n",
      " bonds_list ::  [[0, 4], [0, 2], [0, 3], [1, 0], [5, 1]]\n",
      " counter    ::  6\n",
      " atom_list  ::  ['C', 'O', 'H', 'H', 'H', 'H']\n",
      " -----------------------------------------------\n",
      " ================ \n",
      " CH bonds...       [[0, 4], [0, 2], [0, 3]]\n",
      " CO bonds...       [[1, 0]]\n",
      " OH bonds...       [[5, 1]]\n",
      " OO bonds...       []\n",
      " CC bonds...       []\n",
      " CC ring bonds...  []\n",
      " \n",
      "\n",
      " ================== \n",
      " ring_bond_index  []\n",
      " ch_bond_index    [0, 1, 2]\n",
      " oh_bond_index    [4]\n",
      " co_bond_index    [3]\n",
      " cc_bond_index    []\n",
      " ================ \n",
      " O atoms (lonepair)...       [1]\n",
      " N atoms (lonepair)...       []\n",
      " C atoms ...                 [0]\n",
      " H atoms ...                 [2, 3, 4, 5]\n",
      " ================ \n",
      "  Atomic coordinates \n",
      "C 0.94 0.02 -0.09\n",
      "O 0.47 0.27 -1.4\n",
      " -----  ml.read_mol :: parse results... -------\n",
      " representative_atom_index  :: 1\n",
      " -----------------------------------------------\n",
      " ================ \n",
      " coh_index/coc_index :: [oの番号, {coボンドの番号(co_bond_indexの0から数えていくつか),ohボンドの番号}]\n",
      " TODO :: もしかしたらbond_indexを使った方が全体的にやりやすいかもしれない\n",
      " coh_index :: [[0, {'CO': 0, 'OH': 0}]]\n",
      " coc_index :: []\n"
     ]
    }
   ],
   "source": [
    "import ml.atomtype\n",
    "itp_data=ml.atomtype.read_mol(\"methanol.mol\")\n",
    "# bonds_list=itp_data.bonds_list\n",
    "# TODO :: ここで変数を定義してるのはあまりよろしくない．\n",
    "NUM_MOL_ATOMS=itp_data.num_atoms_per_mol"
   ]
  },
  {
   "cell_type": "code",
   "execution_count": 23,
   "metadata": {},
   "outputs": [],
   "source": [
    "import cpmd.class_atoms_wan\n",
    "atoms_wan_list = []\n",
    "for atoms in data: # TODO 最初のatomsのみ利用\n",
    "    atoms_wan_list.append(cpmd.class_atoms_wan.atoms_wan(atoms,NUM_MOL_ATOMS,itp_data))"
   ]
  },
  {
   "cell_type": "code",
   "execution_count": 25,
   "metadata": {},
   "outputs": [
    {
     "data": {
      "text/plain": [
       "<cpmd.class_atoms_wan.atoms_wan at 0x12588a350>"
      ]
     },
     "execution_count": 25,
     "metadata": {},
     "output_type": "execute_result"
    }
   ],
   "source": [
    "atoms_wan_list[0]"
   ]
  },
  {
   "cell_type": "code",
   "execution_count": 26,
   "metadata": {},
   "outputs": [],
   "source": [
    "for atoms_wan_fr in atoms_wan_list:\n",
    "    y = lambda x:x._calc_wcs()\n",
    "    y(atoms_wan_fr)"
   ]
  },
  {
   "cell_type": "code",
   "execution_count": 27,
   "metadata": {},
   "outputs": [
    {
     "name": "stdout",
     "output_type": "stream",
     "text": [
      "[<cpmd.class_atoms_wan.atoms_wan object at 0x12588a350>]\n"
     ]
    }
   ],
   "source": [
    "print(atoms_wan_list[0].)"
   ]
  },
  {
   "cell_type": "code",
   "execution_count": 40,
   "metadata": {},
   "outputs": [
    {
     "ename": "RuntimeError",
     "evalue": "The size of tensor a (224) must match the size of tensor b (192) at non-singleton dimension 0",
     "output_type": "error",
     "traceback": [
      "\u001b[0;31m---------------------------------------------------------------------------\u001b[0m",
      "\u001b[0;31mRuntimeError\u001b[0m                              Traceback (most recent call last)",
      "Cell \u001b[0;32mIn[40], line 10\u001b[0m\n\u001b[1;32m      7\u001b[0m UNITCELL_VECTORS \u001b[38;5;241m=\u001b[39m torch\u001b[38;5;241m.\u001b[39mfrom_numpy(atoms_wan_list[\u001b[38;5;241m0\u001b[39m]\u001b[38;5;241m.\u001b[39matoms_nowan\u001b[38;5;241m.\u001b[39mget_cell()\u001b[38;5;241m.\u001b[39mastype(np\u001b[38;5;241m.\u001b[39mfloat32))\n\u001b[1;32m      9\u001b[0m \u001b[38;5;66;03m# 先頭原子(atom_coord)とWCsの距離ベクトル（PBC，mirror imageを考慮）\u001b[39;00m\n\u001b[0;32m---> 10\u001b[0m wfc_vectors \u001b[38;5;241m=\u001b[39m \u001b[43mcpmd\u001b[49m\u001b[38;5;241;43m.\u001b[39;49m\u001b[43masign_wcs_torch\u001b[49m\u001b[38;5;241;43m.\u001b[39;49m\u001b[43mrelative_vector_torch\u001b[49m\u001b[43m(\u001b[49m\u001b[43matom_coord\u001b[49m\u001b[43m,\u001b[49m\u001b[43m \u001b[49m\u001b[43mwfc_list\u001b[49m\u001b[43m,\u001b[49m\u001b[43m \u001b[49m\u001b[43mUNITCELL_VECTORS\u001b[49m\u001b[43m)\u001b[49m\n\u001b[1;32m     11\u001b[0m wfc_distances\u001b[38;5;241m=\u001b[39mtorch\u001b[38;5;241m.\u001b[39mlinalg\u001b[38;5;241m.\u001b[39mnorm(wfc_vectors,axis\u001b[38;5;241m=\u001b[39m\u001b[38;5;241m1\u001b[39m)\n\u001b[1;32m     13\u001b[0m wcs_indices \u001b[38;5;241m=\u001b[39m torch\u001b[38;5;241m.\u001b[39margsort(wfc_distances)\u001b[38;5;241m.\u001b[39mreshape(\u001b[38;5;241m-\u001b[39m\u001b[38;5;241m1\u001b[39m)[:\u001b[38;5;241m1\u001b[39m] \u001b[38;5;66;03m# 最も近いWCsのインデックスを一つ取り出す．\u001b[39;00m\n",
      "File \u001b[0;32m~/works/research/dieltools/src/cpmd/asign_wcs_torch.py:57\u001b[0m, in \u001b[0;36mrelative_vector_torch\u001b[0;34m(atom1, atom2, UNITCELL_VECTORS)\u001b[0m\n\u001b[1;32m     43\u001b[0m \u001b[38;5;250m\u001b[39m\u001b[38;5;124;03m\"\"\"\u001b[39;00m\n\u001b[1;32m     44\u001b[0m \u001b[38;5;124;03m!! atom1からatom2へのベクトル\u001b[39;00m\n\u001b[1;32m     45\u001b[0m \u001b[38;5;124;03mCalculate the relative vector between two atoms considering periodic boundary conditions.\u001b[39;00m\n\u001b[0;32m   (...)\u001b[0m\n\u001b[1;32m     53\u001b[0m \u001b[38;5;124;03mtorch.Tensor: The relative vector considering periodic boundary conditions, shape (3,).\u001b[39;00m\n\u001b[1;32m     54\u001b[0m \u001b[38;5;124;03m\"\"\"\u001b[39;00m\n\u001b[1;32m     55\u001b[0m \u001b[38;5;66;03m# UNITCELL_VECTORS = torch.from_numpy(UNITCELL_VECTORS.astype(np.float32))\u001b[39;00m\n\u001b[0;32m---> 57\u001b[0m relative_vec \u001b[38;5;241m=\u001b[39m \u001b[43matom2\u001b[49m\u001b[43m \u001b[49m\u001b[38;5;241;43m-\u001b[39;49m\u001b[43m \u001b[49m\u001b[43matom1\u001b[49m\n\u001b[1;32m     58\u001b[0m \u001b[38;5;66;03m# relative_vec = torch.from_numpy(relative_vec.astype(np.float32))\u001b[39;00m\n\u001b[1;32m     59\u001b[0m \n\u001b[1;32m     60\u001b[0m \u001b[38;5;66;03m# Convert the relative vector to fractional coordinates\u001b[39;00m\n\u001b[1;32m     61\u001b[0m inv_lattice_vectors \u001b[38;5;241m=\u001b[39m torch\u001b[38;5;241m.\u001b[39mlinalg\u001b[38;5;241m.\u001b[39minv(UNITCELL_VECTORS)\n",
      "\u001b[0;31mRuntimeError\u001b[0m: The size of tensor a (224) must match the size of tensor b (192) at non-singleton dimension 0"
     ]
    }
   ],
   "source": [
    "import importlib\n",
    "\n",
    "importlib.reload(cpmd.asign_wcs_torch)\n",
    "#\n",
    "wfc_list    = torch.from_numpy(np.array(atoms_wan_list[0].wannier).astype(np.float32))\n",
    "atom_coord  = torch.from_numpy(atoms_wan_list[0].atoms_nowan.get_positions().astype(np.float32))\n",
    "UNITCELL_VECTORS = torch.from_numpy(atoms_wan_list[0].atoms_nowan.get_cell().astype(np.float32))\n",
    "\n",
    "# 先頭原子(atom_coord)とWCsの距離ベクトル（PBC，mirror imageを考慮）\n",
    "wfc_vectors = cpmd.asign_wcs_torch.relative_vector_torch2(atom_coord, wfc_list, UNITCELL_VECTORS)\n",
    "wfc_distances=torch.linalg.norm(wfc_vectors,axis=1)\n",
    "\n",
    "wcs_indices = torch.argsort(wfc_distances).reshape(-1)[:1] # 最も近いWCsのインデックスを一つ取り出す．"
   ]
  },
  {
   "cell_type": "code",
   "execution_count": null,
   "metadata": {},
   "outputs": [],
   "source": []
  }
 ],
 "metadata": {
  "kernelspec": {
   "display_name": "test_dieltools",
   "language": "python",
   "name": "python3"
  },
  "language_info": {
   "codemirror_mode": {
    "name": "ipython",
    "version": 3
   },
   "file_extension": ".py",
   "mimetype": "text/x-python",
   "name": "python",
   "nbconvert_exporter": "python",
   "pygments_lexer": "ipython3",
   "version": "3.11.6"
  }
 },
 "nbformat": 4,
 "nbformat_minor": 2
}
