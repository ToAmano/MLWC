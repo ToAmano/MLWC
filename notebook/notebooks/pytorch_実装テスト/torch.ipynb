{
 "cells": [
  {
   "cell_type": "code",
   "execution_count": 1,
   "metadata": {},
   "outputs": [
    {
     "name": "stdout",
     "output_type": "stream",
     "text": [
      "Original coordinates:\n",
      "[[ 3.5  4.5  5.5]\n",
      " [-0.5  1.5  2.5]\n",
      " [ 6.   6.   6. ]]\n",
      "Wrapped coordinates:\n",
      "[[0.5 0.5 0.5]\n",
      " [0.5 0.5 0.5]\n",
      " [0.  0.  0. ]]\n"
     ]
    }
   ],
   "source": [
    "import numpy as np\n",
    "\n",
    "def apply_pbc(coords, lattice_vectors):\n",
    "    \"\"\"\n",
    "    Apply periodic boundary conditions to bring coordinates inside the unit cell.\n",
    "\n",
    "    Parameters:\n",
    "    coords (numpy.ndarray): The coordinates of the atoms, shape (N, 3).\n",
    "    lattice_vectors (numpy.ndarray): The lattice vectors, shape (3, 3).\n",
    "\n",
    "    Returns:\n",
    "    numpy.ndarray: The coordinates wrapped inside the unit cell.\n",
    "    \"\"\"\n",
    "    # Convert coordinates to fractional coordinates\n",
    "    fractional_coords = np.linalg.solve(lattice_vectors.T, coords.T).T\n",
    "\n",
    "    # Apply periodic boundary conditions: bring fractional coordinates into the range [0, 1)\n",
    "    fractional_coords -= np.floor(fractional_coords)\n",
    "\n",
    "    # Convert back to cartesian coordinates\n",
    "    wrapped_coords = fractional_coords.dot(lattice_vectors)\n",
    "\n",
    "    return wrapped_coords\n",
    "\n",
    "# Example usage\n",
    "coords = np.array([\n",
    "    [3.5, 4.5, 5.5],  # Example coordinates that might be outside the unit cell\n",
    "    [-0.5, 1.5, 2.5],\n",
    "    [6.0, 6.0, 6.0]\n",
    "])\n",
    "\n",
    "lattice_vectors = np.array([\n",
    "    [1.0, 0.0, 0.0],  # Lattice vector a\n",
    "    [0.0, 1.0, 0.0],  # Lattice vector b\n",
    "    [0.0, 0.0, 1.0]   # Lattice vector c\n",
    "])\n",
    "\n",
    "wrapped_coords = apply_pbc(coords, lattice_vectors)\n",
    "print(\"Original coordinates:\")\n",
    "print(coords)\n",
    "print(\"Wrapped coordinates:\")\n",
    "print(wrapped_coords)"
   ]
  },
  {
   "cell_type": "code",
   "execution_count": 2,
   "metadata": {},
   "outputs": [
    {
     "ename": "",
     "evalue": "",
     "output_type": "error",
     "traceback": [
      "\u001b[1;31m現在のセルまたは前のセルでコードを実行中に、カーネル (Kernel) がクラッシュしました。\n",
      "\u001b[1;31mエラーの原因を特定するには、セル内のコードを確認してください。\n",
      "\u001b[1;31m詳細については<a href='https://aka.ms/vscodeJupyterKernelCrash'>こちら</a>をクリックします。\n",
      "\u001b[1;31m詳細については、Jupyter <a href='command:jupyter.viewOutput'>ログ</a> を参照してください。"
     ]
    }
   ],
   "source": [
    "import torch\n",
    "def apply_pbc(coords, lattice_vectors):\n",
    "    \"\"\"\n",
    "    Apply periodic boundary conditions to bring coordinates inside the unit cell.\n",
    "\n",
    "    Parameters:\n",
    "    coords (torch.Tensor): The coordinates of the atoms, shape (N, 3).\n",
    "    lattice_vectors (torch.Tensor): The lattice vectors, shape (3, 3).\n",
    "\n",
    "    Returns:\n",
    "    torch.Tensor: The coordinates wrapped inside the unit cell.\n",
    "    \"\"\"\n",
    "    # Convert coordinates to fractional coordinates\n",
    "    inv_lattice_vectors = torch.linalg.inv(lattice_vectors)\n",
    "    fractional_coords = torch.matmul(coords, inv_lattice_vectors.T)\n",
    "\n",
    "    # Apply periodic boundary conditions: bring fractional coordinates into the range [0, 1)\n",
    "    fractional_coords = fractional_coords - torch.floor(fractional_coords)\n",
    "\n",
    "    # Convert back to cartesian coordinates\n",
    "    wrapped_coords = torch.matmul(fractional_coords, lattice_vectors)\n",
    "\n",
    "    return wrapped_coords\n",
    "\n",
    "# Example usage\n",
    "coords = torch.tensor([\n",
    "    [3.5, 4.5, 5.5],  # Example coordinates that might be outside the unit cell\n",
    "    [-0.5, 1.5, 2.5],\n",
    "    [6.0, 6.0, 6.0]\n",
    "])\n",
    "\n",
    "lattice_vectors = torch.tensor([\n",
    "    [2.0, 0.0, 0.0],  # Lattice vector a\n",
    "    [0.0, 2.0, 0.0],  # Lattice vector b\n",
    "    [0.0, 0.0, 2.0]   # Lattice vector c\n",
    "])\n",
    "\n",
    "wrapped_coords = apply_pbc(coords, lattice_vectors)\n",
    "print(\"Original coordinates:\")\n",
    "print(coords)\n",
    "print(\"Wrapped coordinates:\")\n",
    "print(wrapped_coords)"
   ]
  },
  {
   "cell_type": "code",
   "execution_count": 2,
   "metadata": {},
   "outputs": [],
   "source": [
    "import ase.io\n",
    "data = ase.io.read(\"../IONS+CENTERS_cell_test.xyz\")"
   ]
  },
  {
   "cell_type": "code",
   "execution_count": 3,
   "metadata": {},
   "outputs": [
    {
     "ename": "",
     "evalue": "",
     "output_type": "error",
     "traceback": [
      "\u001b[1;31m現在のセルまたは前のセルでコードを実行中に、カーネル (Kernel) がクラッシュしました。\n",
      "\u001b[1;31mエラーの原因を特定するには、セル内のコードを確認してください。\n",
      "\u001b[1;31m詳細については<a href='https://aka.ms/vscodeJupyterKernelCrash'>こちら</a>をクリックします。\n",
      "\u001b[1;31m詳細については、Jupyter <a href='command:jupyter.viewOutput'>ログ</a> を参照してください。"
     ]
    }
   ],
   "source": [
    "import cpmd.asign_wcs_torch"
   ]
  },
  {
   "cell_type": "code",
   "execution_count": null,
   "metadata": {},
   "outputs": [],
   "source": []
  }
 ],
 "metadata": {
  "kernelspec": {
   "display_name": "test_dieltools",
   "language": "python",
   "name": "python3"
  },
  "language_info": {
   "codemirror_mode": {
    "name": "ipython",
    "version": 3
   },
   "file_extension": ".py",
   "mimetype": "text/x-python",
   "name": "python",
   "nbconvert_exporter": "python",
   "pygments_lexer": "ipython3",
   "version": "3.11.0"
  }
 },
 "nbformat": 4,
 "nbformat_minor": 2
}
