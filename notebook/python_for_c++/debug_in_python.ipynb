{
 "cells": [
  {
   "cell_type": "code",
   "execution_count": 3,
   "metadata": {},
   "outputs": [],
   "source": [
    "import numpy as np"
   ]
  },
  {
   "cell_type": "code",
   "execution_count": 6,
   "metadata": {},
   "outputs": [
    {
     "name": "stdout",
     "output_type": "stream",
     "text": [
      "[1. 2. 3. 4. 5. 6.]\n"
     ]
    }
   ],
   "source": [
    "test = np.load(\"../c++/1dvector.npy\")\n",
    "print(test)"
   ]
  },
  {
   "cell_type": "code",
   "execution_count": 15,
   "metadata": {},
   "outputs": [
    {
     "name": "stdout",
     "output_type": "stream",
     "text": [
      "[[ 1.          2.        ]\n",
      " [ 2.          3.        ]\n",
      " [ 3.          4.        ]\n",
      " [ 4.          5.        ]\n",
      " [15.38969994  0.        ]\n",
      " [ 0.          0.        ]]\n"
     ]
    }
   ],
   "source": [
    "test = np.load(\"../c++/2dvector.npy\")\n",
    "print(test)\n",
    "\n",
    "'''\n",
    "残念ながら2dversionはあまり安定していない．以下のようになる時がある．\n",
    "[[ 1.          2.        ]\n",
    " [ 2.          3.        ]\n",
    " [ 3.          4.        ]\n",
    " [ 4.          5.        ]\n",
    " [15.38969994  0.        ]\n",
    " [ 0.          0.        ]]\n"
   ]
  },
  {
   "cell_type": "code",
   "execution_count": 18,
   "metadata": {},
   "outputs": [
    {
     "name": "stdout",
     "output_type": "stream",
     "text": [
      "[[1. 2. 3. 4. 5. 6.]]\n"
     ]
    }
   ],
   "source": [
    "test = np.load(\"../c++/1dvector_v2.npy\")\n",
    "print(test)"
   ]
  },
  {
   "cell_type": "code",
   "execution_count": 21,
   "metadata": {},
   "outputs": [
    {
     "name": "stdout",
     "output_type": "stream",
     "text": [
      "[[ 1. 11.]\n",
      " [ 2. 12.]\n",
      " [ 3. 13.]\n",
      " [ 4. 14.]\n",
      " [ 5. 15.]\n",
      " [ 6. 16.]]\n"
     ]
    }
   ],
   "source": [
    "test = np.load(\"../c++/2dvector_v2.npy\")\n",
    "print(test)"
   ]
  },
  {
   "cell_type": "code",
   "execution_count": 24,
   "metadata": {},
   "outputs": [
    {
     "name": "stdout",
     "output_type": "stream",
     "text": [
      "(174, 288)\n"
     ]
    }
   ],
   "source": [
    "test = np.load(\"../c++/descs_ch.npy\")\n",
    "print(np.shape(test))"
   ]
  },
  {
   "cell_type": "code",
   "execution_count": 12,
   "metadata": {},
   "outputs": [
    {
     "name": "stdout",
     "output_type": "stream",
     "text": [
      "4.972999999885985e-05\n",
      "4.984999999990691e-05\n",
      "4.998000000000502e-05\n",
      "4.986000000073432e-05\n",
      "4.988000000061277e-05\n",
      "4.990000000049122e-05\n",
      "4.993999999847176e-05\n",
      "4.990000000049122e-05\n",
      "4.9889999999663814e-05\n",
      "4.994000000024812e-05\n"
     ]
    }
   ],
   "source": [
    "#\n",
    "# ! mol_bc.xyzに違いがあるかを確認する．\n",
    "import ase.io\n",
    "import numpy as np\n",
    "for i in range(10):\n",
    "    test_c=ase.io.read(\"../c++/test_atoms\"+str(i)+\".xyz\")\n",
    "    test_py=ase.io.read(\"../../test/pg/bulk_test/mol_bc.xyz\",index=i)\n",
    "    sub = test_c.get_positions()-test_py.get_positions()\n",
    "    print(np.max(sub))"
   ]
  },
  {
   "cell_type": "code",
   "execution_count": 13,
   "metadata": {},
   "outputs": [
    {
     "name": "stdout",
     "output_type": "stream",
     "text": [
      "2.858824288409778e-15\n",
      "2.4424906541753444e-15\n",
      "2.886579864025407e-15\n",
      "1.5543122344752192e-15\n",
      "1.3322676295501878e-15\n",
      "2.1094237467877974e-15\n",
      "3.1086244689504383e-15\n",
      "2.914335439641036e-15\n",
      "3.1086244689504383e-15\n",
      "1.3877787807814457e-15\n"
     ]
    }
   ],
   "source": [
    "#\n",
    "# ! CPml.pyとの違いがあるかを確認する．\n",
    "import numpy as np\n",
    "for i in range(10):\n",
    "    test_c = np.load(\"../c++/descs_ch\"+str(i)+\".npy\")\n",
    "    test_py =np.loadtxt(\"../../test/pg/bulk_test/Descs_ch_\"+str(i)+\".csv\",delimiter=\",\")\n",
    "    sub = test_c-test_py\n",
    "    print(np.max(np.abs(sub)))\n",
    "    # print(test_c[0])\n",
    "    # print(test_py[0])"
   ]
  },
  {
   "cell_type": "code",
   "execution_count": 14,
   "metadata": {},
   "outputs": [
    {
     "name": "stdout",
     "output_type": "stream",
     "text": [
      "4.440892098500626e-16\n",
      "4.996003610813204e-16\n",
      "4.996003610813204e-16\n",
      "6.661338147750939e-16\n",
      "4.440892098500626e-16\n",
      "4.440892098500626e-16\n",
      "4.371503159461554e-16\n",
      "7.216449660063518e-16\n",
      "4.440892098500626e-16\n",
      "4.440892098500626e-16\n"
     ]
    }
   ],
   "source": [
    "#\n",
    "# ! CPml.pyとの違いがあるかを確認する．\n",
    "import numpy as np\n",
    "for i in range(10):\n",
    "    test_c = np.load(\"../c++/descs_co\"+str(i)+\".npy\")\n",
    "    test_py =np.loadtxt(\"../../test/pg/bulk_test/Descs_co_\"+str(i)+\".csv\",delimiter=\",\")\n",
    "    sub = test_c-test_py\n",
    "    print(np.max(np.abs(sub)))\n",
    "    # print(test_c[0])\n",
    "    # print(test_py[0])"
   ]
  },
  {
   "cell_type": "code",
   "execution_count": 20,
   "metadata": {},
   "outputs": [
    {
     "name": "stdout",
     "output_type": "stream",
     "text": [
      "2.220446049250313e-15\n",
      "1.9984014443252818e-15\n",
      "1.1102230246251565e-15\n",
      "2.220446049250313e-15\n",
      "8.951173136040325e-16\n",
      "1.3322676295501878e-15\n",
      "8.881784197001252e-16\n",
      "1.1102230246251565e-15\n",
      "8.881784197001252e-16\n",
      "9.08995101411847e-16\n"
     ]
    }
   ],
   "source": [
    "#\n",
    "# ! CPml.pyとの違いがあるかを確認する．\n",
    "import numpy as np\n",
    "for i in range(10):\n",
    "    test_c = np.load(\"../c++/descs_oh\"+str(i)+\".npy\")\n",
    "    test_py =np.loadtxt(\"../../test/pg/bulk_test/Descs_oh_\"+str(i)+\".csv\",delimiter=\",\")\n",
    "    sub = test_c-test_py\n",
    "    print(np.max(np.abs(sub)))\n",
    "    # print(test_c[0])\n",
    "    # print(test_py[0])"
   ]
  },
  {
   "cell_type": "code",
   "execution_count": 19,
   "metadata": {},
   "outputs": [
    {
     "name": "stdout",
     "output_type": "stream",
     "text": [
      "2.6701366928949386\n",
      "[ 1.29408745  0.25489755  0.55037218 -1.14314479  1.29408745 -0.25489755\n",
      " -0.55037218  1.14314479]\n",
      "[ 1.29408745 -0.25489755 -0.55037218  1.14314479  1.29408745  0.25489755\n",
      "  0.55037218 -1.14314479]\n"
     ]
    }
   ],
   "source": [
    "#\n",
    "# ! CPml.pyとの違いがあるかを確認する@ccボンド\n",
    "# CCボンドの場合は，先頭のccについてソートの関係でpythonとcで違いがある．\n",
    "import numpy as np\n",
    "for i in range(1):\n",
    "    test_c = np.load(\"../c++/descs_cc\"+str(i)+\".npy\")\n",
    "    test_py =np.loadtxt(\"../../test/pg/bulk_test/Descs_cc_\"+str(i)+\".csv\",delimiter=\",\")\n",
    "    sub = test_c-test_py\n",
    "    print(np.max(np.abs(sub)))\n",
    "    print(test_c[7][:8])\n",
    "    print(test_py[7][:8])\n",
    "    \n",
    "    # print(test_py[0])"
   ]
  },
  {
   "cell_type": "code",
   "execution_count": 18,
   "metadata": {},
   "outputs": [
    {
     "name": "stdout",
     "output_type": "stream",
     "text": [
      "0.0\n",
      "0.0\n",
      "0.0\n",
      "0.0\n",
      "0.0\n",
      "0.0\n",
      "0.0\n",
      "0.0\n",
      "0.0\n",
      "0.0\n"
     ]
    }
   ],
   "source": [
    "#\n",
    "# ! CPml.pyとの違いがあるかを確認する．\n",
    "import numpy as np\n",
    "for i in range(10):\n",
    "    test_c = np.load(\"../c++/descs_o\"+str(i)+\".npy\")\n",
    "    test_py =np.loadtxt(\"../../test/pg/bulk_test/Descs_o_\"+str(i)+\".csv\",delimiter=\",\")\n",
    "    sub = test_c-test_py\n",
    "    print(np.max(np.abs(sub)))\n",
    "    # print(test_c[0])\n",
    "    # print(test_py[0])"
   ]
  },
  {
   "cell_type": "code",
   "execution_count": null,
   "metadata": {},
   "outputs": [],
   "source": []
  }
 ],
 "metadata": {
  "kernelspec": {
   "display_name": "cling",
   "language": "python",
   "name": "python3"
  },
  "language_info": {
   "codemirror_mode": {
    "name": "ipython",
    "version": 3
   },
   "file_extension": ".py",
   "mimetype": "text/x-python",
   "name": "python",
   "nbconvert_exporter": "python",
   "pygments_lexer": "ipython3",
   "version": "3.11.0"
  },
  "orig_nbformat": 4
 },
 "nbformat": 4,
 "nbformat_minor": 2
}
