{
 "cells": [
  {
   "cell_type": "code",
   "execution_count": 3,
   "metadata": {},
   "outputs": [],
   "source": [
    "import numpy as np"
   ]
  },
  {
   "cell_type": "code",
   "execution_count": 6,
   "metadata": {},
   "outputs": [
    {
     "name": "stdout",
     "output_type": "stream",
     "text": [
      "[1. 2. 3. 4. 5. 6.]\n"
     ]
    }
   ],
   "source": [
    "test = np.load(\"../c++/1dvector.npy\")\n",
    "print(test)"
   ]
  },
  {
   "cell_type": "code",
   "execution_count": 15,
   "metadata": {},
   "outputs": [
    {
     "name": "stdout",
     "output_type": "stream",
     "text": [
      "[[ 1.          2.        ]\n",
      " [ 2.          3.        ]\n",
      " [ 3.          4.        ]\n",
      " [ 4.          5.        ]\n",
      " [15.38969994  0.        ]\n",
      " [ 0.          0.        ]]\n"
     ]
    }
   ],
   "source": [
    "test = np.load(\"../c++/2dvector.npy\")\n",
    "print(test)\n",
    "\n",
    "'''\n",
    "残念ながら2dversionはあまり安定していない．以下のようになる時がある．\n",
    "[[ 1.          2.        ]\n",
    " [ 2.          3.        ]\n",
    " [ 3.          4.        ]\n",
    " [ 4.          5.        ]\n",
    " [15.38969994  0.        ]\n",
    " [ 0.          0.        ]]\n"
   ]
  },
  {
   "cell_type": "code",
   "execution_count": 18,
   "metadata": {},
   "outputs": [
    {
     "name": "stdout",
     "output_type": "stream",
     "text": [
      "[[1. 2. 3. 4. 5. 6.]]\n"
     ]
    }
   ],
   "source": [
    "test = np.load(\"../c++/1dvector_v2.npy\")\n",
    "print(test)"
   ]
  },
  {
   "cell_type": "code",
   "execution_count": 21,
   "metadata": {},
   "outputs": [
    {
     "name": "stdout",
     "output_type": "stream",
     "text": [
      "[[ 1. 11.]\n",
      " [ 2. 12.]\n",
      " [ 3. 13.]\n",
      " [ 4. 14.]\n",
      " [ 5. 15.]\n",
      " [ 6. 16.]]\n"
     ]
    }
   ],
   "source": [
    "test = np.load(\"../c++/2dvector_v2.npy\")\n",
    "print(test)"
   ]
  },
  {
   "cell_type": "code",
   "execution_count": 24,
   "metadata": {},
   "outputs": [
    {
     "name": "stdout",
     "output_type": "stream",
     "text": [
      "(174, 288)\n"
     ]
    }
   ],
   "source": [
    "test = np.load(\"../c++/descs_ch.npy\")\n",
    "print(np.shape(test))"
   ]
  },
  {
   "cell_type": "code",
   "execution_count": 36,
   "metadata": {},
   "outputs": [
    {
     "name": "stdout",
     "output_type": "stream",
     "text": [
      "(180, 288)\n",
      "72\n"
     ]
    }
   ],
   "source": [
    "test_c = np.load(\"../c++/descs_ch5.npy\")\n",
    "test_py =np.loadtxt(\"../../test/pg/bulk_test/Descs_ch_5.csv\",delimiter=\",\")\n",
    "sub = test_c-test_py\n",
    "print(np.shape(sub))\n",
    "print(np.argmax(test_c[0]))\n",
    "# print(test_py[0][0])"
   ]
  },
  {
   "cell_type": "code",
   "execution_count": null,
   "metadata": {},
   "outputs": [],
   "source": []
  }
 ],
 "metadata": {
  "kernelspec": {
   "display_name": "cling",
   "language": "python",
   "name": "python3"
  },
  "language_info": {
   "codemirror_mode": {
    "name": "ipython",
    "version": 3
   },
   "file_extension": ".py",
   "mimetype": "text/x-python",
   "name": "python",
   "nbconvert_exporter": "python",
   "pygments_lexer": "ipython3",
   "version": "3.11.3"
  },
  "orig_nbformat": 4
 },
 "nbformat": 4,
 "nbformat_minor": 2
}
